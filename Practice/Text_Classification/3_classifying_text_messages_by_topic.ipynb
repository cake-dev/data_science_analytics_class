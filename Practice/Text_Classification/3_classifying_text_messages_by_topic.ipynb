{
 "cells": [
  {
   "cell_type": "markdown",
   "metadata": {},
   "source": [
    "## The 20 Newsgroup dataset"
   ]
  },
  {
   "cell_type": "code",
   "execution_count": 2,
   "metadata": {},
   "outputs": [],
   "source": [
    "# choose, for example 6 topics\n",
    "categories = ['alt.atheism', 'comp.windows.x', 'rec.autos', 'rec.sport.baseball', 'sci.electronics', 'sci.space']"
   ]
  },
  {
   "cell_type": "code",
   "execution_count": 3,
   "metadata": {},
   "outputs": [
    {
     "name": "stdout",
     "output_type": "stream",
     "text": [
      "['alt.atheism', 'comp.windows.x', 'rec.autos', 'rec.sport.baseball', 'sci.electronics', 'sci.space']\n"
     ]
    }
   ],
   "source": [
    "from sklearn.datasets import fetch_20newsgroups\n",
    "\n",
    "# load the dataset\n",
    "train = fetch_20newsgroups(\n",
    "    subset='train', categories=categories, remove=('headers', 'footers', 'quotes'), random_state=42)\n",
    "\n",
    "test = fetch_20newsgroups(\n",
    "    subset='test', categories=categories, remove=('headers', 'footers', 'quotes'), random_state=42)\n",
    "\n",
    "print(list(train.target_names))"
   ]
  },
  {
   "cell_type": "code",
   "execution_count": 4,
   "metadata": {},
   "outputs": [
    {
     "data": {
      "text/html": [
       "<div>\n",
       "<style scoped>\n",
       "    .dataframe tbody tr th:only-of-type {\n",
       "        vertical-align: middle;\n",
       "    }\n",
       "\n",
       "    .dataframe tbody tr th {\n",
       "        vertical-align: top;\n",
       "    }\n",
       "\n",
       "    .dataframe thead th {\n",
       "        text-align: right;\n",
       "    }\n",
       "</style>\n",
       "<table border=\"1\" class=\"dataframe\">\n",
       "  <thead>\n",
       "    <tr style=\"text-align: right;\">\n",
       "      <th></th>\n",
       "      <th>text</th>\n",
       "      <th>label</th>\n",
       "    </tr>\n",
       "  </thead>\n",
       "  <tbody>\n",
       "    <tr>\n",
       "      <th>0</th>\n",
       "      <td>Benedikt Rosenau writes, with great authority:...</td>\n",
       "      <td>0</td>\n",
       "    </tr>\n",
       "    <tr>\n",
       "      <th>1</th>\n",
       "      <td>\\nI don't understand this last statement about...</td>\n",
       "      <td>2</td>\n",
       "    </tr>\n",
       "    <tr>\n",
       "      <th>2</th>\n",
       "      <td>I'd like to compile X11r5 on a Sony NWS-1750 r...</td>\n",
       "      <td>1</td>\n",
       "    </tr>\n",
       "    <tr>\n",
       "      <th>3</th>\n",
       "      <td>\\n\\n\\nHow do you know it's based on ignorance,...</td>\n",
       "      <td>0</td>\n",
       "    </tr>\n",
       "    <tr>\n",
       "      <th>4</th>\n",
       "      <td>\\nmuch crap deleted\\n\\n\\nDEAD WRONG!  Last tim...</td>\n",
       "      <td>3</td>\n",
       "    </tr>\n",
       "  </tbody>\n",
       "</table>\n",
       "</div>"
      ],
      "text/plain": [
       "                                                text  label\n",
       "0  Benedikt Rosenau writes, with great authority:...      0\n",
       "1  \\nI don't understand this last statement about...      2\n",
       "2  I'd like to compile X11r5 on a Sony NWS-1750 r...      1\n",
       "3  \\n\\n\\nHow do you know it's based on ignorance,...      0\n",
       "4  \\nmuch crap deleted\\n\\n\\nDEAD WRONG!  Last tim...      3"
      ]
     },
     "execution_count": 4,
     "metadata": {},
     "output_type": "execute_result"
    }
   ],
   "source": [
    "import pandas as pd\n",
    "train_df = pd.DataFrame({'text': train.data, 'label': train.target})\n",
    "test_df = pd.DataFrame({'text': test.data, 'label': test.target})\n",
    "\n",
    "train_df.head()"
   ]
  },
  {
   "cell_type": "code",
   "execution_count": 5,
   "metadata": {},
   "outputs": [
    {
     "data": {
      "text/html": [
       "<div>\n",
       "<style scoped>\n",
       "    .dataframe tbody tr th:only-of-type {\n",
       "        vertical-align: middle;\n",
       "    }\n",
       "\n",
       "    .dataframe tbody tr th {\n",
       "        vertical-align: top;\n",
       "    }\n",
       "\n",
       "    .dataframe thead th {\n",
       "        text-align: right;\n",
       "    }\n",
       "</style>\n",
       "<table border=\"1\" class=\"dataframe\">\n",
       "  <thead>\n",
       "    <tr style=\"text-align: right;\">\n",
       "      <th></th>\n",
       "      <th>text</th>\n",
       "      <th>label</th>\n",
       "    </tr>\n",
       "  </thead>\n",
       "  <tbody>\n",
       "    <tr>\n",
       "      <th>0</th>\n",
       "      <td>Benedikt Rosenau writes, with great authority:...</td>\n",
       "      <td>alt.atheism</td>\n",
       "    </tr>\n",
       "    <tr>\n",
       "      <th>1</th>\n",
       "      <td>\\nI don't understand this last statement about...</td>\n",
       "      <td>rec.autos</td>\n",
       "    </tr>\n",
       "    <tr>\n",
       "      <th>2</th>\n",
       "      <td>I'd like to compile X11r5 on a Sony NWS-1750 r...</td>\n",
       "      <td>comp.windows.x</td>\n",
       "    </tr>\n",
       "    <tr>\n",
       "      <th>3</th>\n",
       "      <td>\\n\\n\\nHow do you know it's based on ignorance,...</td>\n",
       "      <td>alt.atheism</td>\n",
       "    </tr>\n",
       "    <tr>\n",
       "      <th>4</th>\n",
       "      <td>\\nmuch crap deleted\\n\\n\\nDEAD WRONG!  Last tim...</td>\n",
       "      <td>rec.sport.baseball</td>\n",
       "    </tr>\n",
       "    <tr>\n",
       "      <th>...</th>\n",
       "      <td>...</td>\n",
       "      <td>...</td>\n",
       "    </tr>\n",
       "    <tr>\n",
       "      <th>3443</th>\n",
       "      <td>Hi, I'm new to this group so please bear with ...</td>\n",
       "      <td>comp.windows.x</td>\n",
       "    </tr>\n",
       "    <tr>\n",
       "      <th>3444</th>\n",
       "      <td>\\nNo. As soon as you blit two of this icons on...</td>\n",
       "      <td>comp.windows.x</td>\n",
       "    </tr>\n",
       "    <tr>\n",
       "      <th>3445</th>\n",
       "      <td>\\nThat's very interesting.    I wonder, are wo...</td>\n",
       "      <td>alt.atheism</td>\n",
       "    </tr>\n",
       "    <tr>\n",
       "      <th>3446</th>\n",
       "      <td>\\nDidn't Alicea get a hit, though? \\n\\nSee y'a...</td>\n",
       "      <td>rec.sport.baseball</td>\n",
       "    </tr>\n",
       "    <tr>\n",
       "      <th>3447</th>\n",
       "      <td></td>\n",
       "      <td>sci.electronics</td>\n",
       "    </tr>\n",
       "  </tbody>\n",
       "</table>\n",
       "<p>3448 rows × 2 columns</p>\n",
       "</div>"
      ],
      "text/plain": [
       "                                                   text               label\n",
       "0     Benedikt Rosenau writes, with great authority:...         alt.atheism\n",
       "1     \\nI don't understand this last statement about...           rec.autos\n",
       "2     I'd like to compile X11r5 on a Sony NWS-1750 r...      comp.windows.x\n",
       "3     \\n\\n\\nHow do you know it's based on ignorance,...         alt.atheism\n",
       "4     \\nmuch crap deleted\\n\\n\\nDEAD WRONG!  Last tim...  rec.sport.baseball\n",
       "...                                                 ...                 ...\n",
       "3443  Hi, I'm new to this group so please bear with ...      comp.windows.x\n",
       "3444  \\nNo. As soon as you blit two of this icons on...      comp.windows.x\n",
       "3445  \\nThat's very interesting.    I wonder, are wo...         alt.atheism\n",
       "3446  \\nDidn't Alicea get a hit, though? \\n\\nSee y'a...  rec.sport.baseball\n",
       "3447                                                        sci.electronics\n",
       "\n",
       "[3448 rows x 2 columns]"
      ]
     },
     "execution_count": 5,
     "metadata": {},
     "output_type": "execute_result"
    }
   ],
   "source": [
    "# rename labels to keys using lambda function (maps the label index to the label name)\n",
    "train_df['label'] = train_df['label'].map(lambda ind: train.target_names[ind])\n",
    "test_df['label'] = test_df['label'].map(lambda ind: test.target_names[ind])\n",
    "train_df"
   ]
  },
  {
   "cell_type": "code",
   "execution_count": 6,
   "metadata": {},
   "outputs": [
    {
     "name": "stdout",
     "output_type": "stream",
     "text": [
      "\n",
      "\n",
      "This thread seems to be arguing the validity of a religious viewpoint\n",
      "according to some utilitarian principle, i.e. atheism/religion is\n",
      "wrong because it causes death.  The underlying `moral' is that death\n",
      "is `wrong'.  This is a rather arbitrary measure of validity.\n",
      "\n",
      "Get some epistemology.\n",
      "alt.atheism\n"
     ]
    }
   ],
   "source": [
    "# printing a row from the dataset\n",
    "print(train_df.iloc[131].text)\n",
    "print(train_df.iloc[131].label)"
   ]
  },
  {
   "cell_type": "markdown",
   "metadata": {},
   "source": [
    "Plan: \n",
    "- Countvectorizer + niave bayes (simple model)\n",
    "- goal will be to improve it by:\n",
    "    - replace countvectorizer with tf-idf vectorizer\n",
    "    - stemming and lemmatization "
   ]
  },
  {
   "cell_type": "markdown",
   "metadata": {},
   "source": [
    "tf-idf vectorizer:\n",
    "- term frequency * inverse document frequency\n",
    "- term frequency: how often a word appears in a document\n",
    "- inverse document frequency: how often a word appears in all documents in the corpus\n",
    "- tf-idf is a way to normalize the word counts for each document by how common or rare they are in the entire corpus\n",
    "- TF(w,d) = $\\frac{number\\ of\\ times\\ word\\ w\\ appears\\ in\\ document\\ d}{total\\ number\\ of\\ words\\ in\\ document\\ d}$\n",
    "- iDF(w) = $log(\\frac{number\\ of\\ documents\\ in\\ corpus+1}{number\\ of\\ documents\\ containing\\ word\\ w+1})+1$"
   ]
  },
  {
   "cell_type": "code",
   "execution_count": 7,
   "metadata": {},
   "outputs": [
    {
     "data": {
      "text/html": [
       "<style>#sk-container-id-1 {color: black;}#sk-container-id-1 pre{padding: 0;}#sk-container-id-1 div.sk-toggleable {background-color: white;}#sk-container-id-1 label.sk-toggleable__label {cursor: pointer;display: block;width: 100%;margin-bottom: 0;padding: 0.3em;box-sizing: border-box;text-align: center;}#sk-container-id-1 label.sk-toggleable__label-arrow:before {content: \"▸\";float: left;margin-right: 0.25em;color: #696969;}#sk-container-id-1 label.sk-toggleable__label-arrow:hover:before {color: black;}#sk-container-id-1 div.sk-estimator:hover label.sk-toggleable__label-arrow:before {color: black;}#sk-container-id-1 div.sk-toggleable__content {max-height: 0;max-width: 0;overflow: hidden;text-align: left;background-color: #f0f8ff;}#sk-container-id-1 div.sk-toggleable__content pre {margin: 0.2em;color: black;border-radius: 0.25em;background-color: #f0f8ff;}#sk-container-id-1 input.sk-toggleable__control:checked~div.sk-toggleable__content {max-height: 200px;max-width: 100%;overflow: auto;}#sk-container-id-1 input.sk-toggleable__control:checked~label.sk-toggleable__label-arrow:before {content: \"▾\";}#sk-container-id-1 div.sk-estimator input.sk-toggleable__control:checked~label.sk-toggleable__label {background-color: #d4ebff;}#sk-container-id-1 div.sk-label input.sk-toggleable__control:checked~label.sk-toggleable__label {background-color: #d4ebff;}#sk-container-id-1 input.sk-hidden--visually {border: 0;clip: rect(1px 1px 1px 1px);clip: rect(1px, 1px, 1px, 1px);height: 1px;margin: -1px;overflow: hidden;padding: 0;position: absolute;width: 1px;}#sk-container-id-1 div.sk-estimator {font-family: monospace;background-color: #f0f8ff;border: 1px dotted black;border-radius: 0.25em;box-sizing: border-box;margin-bottom: 0.5em;}#sk-container-id-1 div.sk-estimator:hover {background-color: #d4ebff;}#sk-container-id-1 div.sk-parallel-item::after {content: \"\";width: 100%;border-bottom: 1px solid gray;flex-grow: 1;}#sk-container-id-1 div.sk-label:hover label.sk-toggleable__label {background-color: #d4ebff;}#sk-container-id-1 div.sk-serial::before {content: \"\";position: absolute;border-left: 1px solid gray;box-sizing: border-box;top: 0;bottom: 0;left: 50%;z-index: 0;}#sk-container-id-1 div.sk-serial {display: flex;flex-direction: column;align-items: center;background-color: white;padding-right: 0.2em;padding-left: 0.2em;position: relative;}#sk-container-id-1 div.sk-item {position: relative;z-index: 1;}#sk-container-id-1 div.sk-parallel {display: flex;align-items: stretch;justify-content: center;background-color: white;position: relative;}#sk-container-id-1 div.sk-item::before, #sk-container-id-1 div.sk-parallel-item::before {content: \"\";position: absolute;border-left: 1px solid gray;box-sizing: border-box;top: 0;bottom: 0;left: 50%;z-index: -1;}#sk-container-id-1 div.sk-parallel-item {display: flex;flex-direction: column;z-index: 1;position: relative;background-color: white;}#sk-container-id-1 div.sk-parallel-item:first-child::after {align-self: flex-end;width: 50%;}#sk-container-id-1 div.sk-parallel-item:last-child::after {align-self: flex-start;width: 50%;}#sk-container-id-1 div.sk-parallel-item:only-child::after {width: 0;}#sk-container-id-1 div.sk-dashed-wrapped {border: 1px dashed gray;margin: 0 0.4em 0.5em 0.4em;box-sizing: border-box;padding-bottom: 0.4em;background-color: white;}#sk-container-id-1 div.sk-label label {font-family: monospace;font-weight: bold;display: inline-block;line-height: 1.2em;}#sk-container-id-1 div.sk-label-container {text-align: center;}#sk-container-id-1 div.sk-container {/* jupyter's `normalize.less` sets `[hidden] { display: none; }` but bootstrap.min.css set `[hidden] { display: none !important; }` so we also need the `!important` here to be able to override the default hidden behavior on the sphinx rendered scikit-learn.org. See: https://github.com/scikit-learn/scikit-learn/issues/21755 */display: inline-block !important;position: relative;}#sk-container-id-1 div.sk-text-repr-fallback {display: none;}</style><div id=\"sk-container-id-1\" class=\"sk-top-container\"><div class=\"sk-text-repr-fallback\"><pre>Pipeline(steps=[(&#x27;vect&#x27;, TfidfVectorizer()), (&#x27;clf&#x27;, MultinomialNB())])</pre><b>In a Jupyter environment, please rerun this cell to show the HTML representation or trust the notebook. <br />On GitHub, the HTML representation is unable to render, please try loading this page with nbviewer.org.</b></div><div class=\"sk-container\" hidden><div class=\"sk-item sk-dashed-wrapped\"><div class=\"sk-label-container\"><div class=\"sk-label sk-toggleable\"><input class=\"sk-toggleable__control sk-hidden--visually\" id=\"sk-estimator-id-1\" type=\"checkbox\" ><label for=\"sk-estimator-id-1\" class=\"sk-toggleable__label sk-toggleable__label-arrow\">Pipeline</label><div class=\"sk-toggleable__content\"><pre>Pipeline(steps=[(&#x27;vect&#x27;, TfidfVectorizer()), (&#x27;clf&#x27;, MultinomialNB())])</pre></div></div></div><div class=\"sk-serial\"><div class=\"sk-item\"><div class=\"sk-estimator sk-toggleable\"><input class=\"sk-toggleable__control sk-hidden--visually\" id=\"sk-estimator-id-2\" type=\"checkbox\" ><label for=\"sk-estimator-id-2\" class=\"sk-toggleable__label sk-toggleable__label-arrow\">TfidfVectorizer</label><div class=\"sk-toggleable__content\"><pre>TfidfVectorizer()</pre></div></div></div><div class=\"sk-item\"><div class=\"sk-estimator sk-toggleable\"><input class=\"sk-toggleable__control sk-hidden--visually\" id=\"sk-estimator-id-3\" type=\"checkbox\" ><label for=\"sk-estimator-id-3\" class=\"sk-toggleable__label sk-toggleable__label-arrow\">MultinomialNB</label><div class=\"sk-toggleable__content\"><pre>MultinomialNB()</pre></div></div></div></div></div></div></div>"
      ],
      "text/plain": [
       "Pipeline(steps=[('vect', TfidfVectorizer()), ('clf', MultinomialNB())])"
      ]
     },
     "execution_count": 7,
     "metadata": {},
     "output_type": "execute_result"
    }
   ],
   "source": [
    "from sklearn.pipeline import Pipeline\n",
    "from sklearn.feature_extraction.text import TfidfVectorizer\n",
    "from sklearn.naive_bayes import MultinomialNB\n",
    "from sklearn.metrics import accuracy_score, confusion_matrix\n",
    "from sklearn.model_selection import GridSearchCV\n",
    "\n",
    "X_train = train_df.text\n",
    "y_train = train_df.label\n",
    "X_test = test_df.text\n",
    "y_test = test_df.label\n",
    "\n",
    "# create a pipeline\n",
    "pipe_text_clf = Pipeline([('vect', TfidfVectorizer()),\n",
    "                            ('clf', MultinomialNB())])\n",
    "\n",
    "pipe_text_clf"
   ]
  },
  {
   "cell_type": "code",
   "execution_count": 8,
   "metadata": {},
   "outputs": [
    {
     "name": "stdout",
     "output_type": "stream",
     "text": [
      "Fitting 3 folds for each of 384 candidates, totalling 1152 fits\n"
     ]
    },
    {
     "name": "stderr",
     "output_type": "stream",
     "text": [
      "/home/jake/miniconda3/envs/sportsenv/lib/python3.10/site-packages/sklearn/model_selection/_validation.py:425: FitFailedWarning: \n",
      "288 fits failed out of a total of 1152.\n",
      "The score on these train-test partitions for these parameters will be set to nan.\n",
      "If these failures are not expected, you can try to debug them by setting error_score='raise'.\n",
      "\n",
      "Below are more details about the failures:\n",
      "--------------------------------------------------------------------------------\n",
      "288 fits failed with the following error:\n",
      "Traceback (most recent call last):\n",
      "  File \"/home/jake/miniconda3/envs/sportsenv/lib/python3.10/site-packages/sklearn/model_selection/_validation.py\", line 729, in _fit_and_score\n",
      "    estimator.fit(X_train, y_train, **fit_params)\n",
      "  File \"/home/jake/miniconda3/envs/sportsenv/lib/python3.10/site-packages/sklearn/base.py\", line 1152, in wrapper\n",
      "    return fit_method(estimator, *args, **kwargs)\n",
      "  File \"/home/jake/miniconda3/envs/sportsenv/lib/python3.10/site-packages/sklearn/pipeline.py\", line 423, in fit\n",
      "    Xt = self._fit(X, y, **fit_params_steps)\n",
      "  File \"/home/jake/miniconda3/envs/sportsenv/lib/python3.10/site-packages/sklearn/pipeline.py\", line 377, in _fit\n",
      "    X, fitted_transformer = fit_transform_one_cached(\n",
      "  File \"/home/jake/miniconda3/envs/sportsenv/lib/python3.10/site-packages/joblib/memory.py\", line 353, in __call__\n",
      "    return self.func(*args, **kwargs)\n",
      "  File \"/home/jake/miniconda3/envs/sportsenv/lib/python3.10/site-packages/sklearn/pipeline.py\", line 957, in _fit_transform_one\n",
      "    res = transformer.fit_transform(X, y, **fit_params)\n",
      "  File \"/home/jake/miniconda3/envs/sportsenv/lib/python3.10/site-packages/sklearn/feature_extraction/text.py\", line 2139, in fit_transform\n",
      "    X = super().fit_transform(raw_documents)\n",
      "  File \"/home/jake/miniconda3/envs/sportsenv/lib/python3.10/site-packages/sklearn/base.py\", line 1152, in wrapper\n",
      "    return fit_method(estimator, *args, **kwargs)\n",
      "  File \"/home/jake/miniconda3/envs/sportsenv/lib/python3.10/site-packages/sklearn/feature_extraction/text.py\", line 1399, in fit_transform\n",
      "    raise ValueError(\"max_df corresponds to < documents than min_df\")\n",
      "ValueError: max_df corresponds to < documents than min_df\n",
      "\n",
      "  warnings.warn(some_fits_failed_message, FitFailedWarning)\n",
      "/home/jake/miniconda3/envs/sportsenv/lib/python3.10/site-packages/sklearn/model_selection/_search.py:979: UserWarning: One or more of the test scores are non-finite: [0.25667058 0.25667058 0.25696068 0.25696068 0.24071871 0.24071871\n",
      " 0.23752854 0.23752854        nan        nan        nan        nan\n",
      "        nan        nan        nan        nan        nan        nan\n",
      "        nan        nan        nan        nan        nan        nan\n",
      "        nan        nan        nan        nan        nan        nan\n",
      "        nan        nan 0.30858289 0.30858289 0.3091626  0.3091626\n",
      " 0.28248155 0.28248155 0.27494305 0.27494305        nan        nan\n",
      "        nan        nan        nan        nan        nan        nan\n",
      "        nan        nan        nan        nan        nan        nan\n",
      "        nan        nan        nan        nan        nan        nan\n",
      "        nan        nan        nan        nan 0.39124153 0.39124153\n",
      " 0.39037121 0.39037121 0.35933704 0.35933704 0.34367478 0.34367478\n",
      "        nan        nan        nan        nan        nan        nan\n",
      "        nan        nan        nan        nan        nan        nan\n",
      "        nan        nan        nan        nan        nan        nan\n",
      "        nan        nan        nan        nan        nan        nan\n",
      " 0.45127584 0.45127584 0.45127584 0.45127584 0.42227217 0.42227217\n",
      " 0.39384796 0.39384796        nan        nan        nan        nan\n",
      "        nan        nan        nan        nan        nan        nan\n",
      "        nan        nan        nan        nan        nan        nan\n",
      "        nan        nan        nan        nan        nan        nan\n",
      "        nan        nan 0.77204147 0.7354988  0.78538263 0.77784513\n",
      " 0.72824813 0.6983754  0.78277242 0.77639409 0.77059119 0.7375303\n",
      " 0.78509252 0.7763946  0.72911845 0.69953532 0.78306353 0.77668445\n",
      " 0.77349075 0.73955929 0.79118225 0.7836445  0.73027812 0.70127647\n",
      " 0.78799183 0.77958452 0.69431591 0.66966764 0.68707055 0.68910004\n",
      " 0.6844558  0.66125604 0.68416947 0.68822997 0.8178633  0.77929088\n",
      " 0.82598479 0.81873438 0.78973298 0.74941562 0.82772392 0.81467287\n",
      " 0.81960318 0.78074192 0.8288851  0.81989455 0.79060279 0.74970523\n",
      " 0.82946355 0.81670362 0.79785245 0.76421034 0.80162359 0.79234218\n",
      " 0.78567299 0.74912602 0.80046266 0.78886114 0.69431591 0.66966764\n",
      " 0.68707055 0.68910004 0.6844558  0.66125604 0.68416947 0.68822997\n",
      " 0.85179652 0.80191471 0.85933881 0.84628801 0.826565   0.78161249\n",
      " 0.85643799 0.8457078  0.84976577 0.80046367 0.85991827 0.84396741\n",
      " 0.82917597 0.78248181 0.85556817 0.84454737 0.79785245 0.76421034\n",
      " 0.80162359 0.79234218 0.79002207 0.74796635 0.80046266 0.78886114\n",
      " 0.69431591 0.66966764 0.68707055 0.68910004 0.6844558  0.66125604\n",
      " 0.68416947 0.68822997 0.86107743 0.80133273 0.87122892 0.85527958\n",
      " 0.83961782 0.7862527  0.86890857 0.85266836 0.85295594 0.80162284\n",
      " 0.86223887 0.84599765 0.84135695 0.78190109 0.85730806 0.84483647\n",
      " 0.79785245 0.76421034 0.80162359 0.79234218 0.79002207 0.74796635\n",
      " 0.80046266 0.78886114 0.69431591 0.66966764 0.68707055 0.68910004\n",
      " 0.6844558  0.66125604 0.68416947 0.68822997 0.77378136 0.7462305\n",
      " 0.78538263 0.77784513 0.72998802 0.70301636 0.78277242 0.77639409\n",
      " 0.77204072 0.74652035 0.78509252 0.7763946  0.73143855 0.70359683\n",
      " 0.78306353 0.77668445 0.77668168 0.74797038 0.79118225 0.7836445\n",
      " 0.73172816 0.70649714 0.78799183 0.77958452 0.69431692 0.67517715\n",
      " 0.68707055 0.68910004 0.68474616 0.66560714 0.68416947 0.68822997\n",
      " 0.81815265 0.789152   0.82598479 0.81873438 0.79205308 0.75579698\n",
      " 0.82772392 0.81467287 0.8178638  0.78944211 0.8288851  0.81989455\n",
      " 0.79234369 0.7569574  0.82946355 0.81670362 0.79785295 0.76653246\n",
      " 0.80162359 0.79234218 0.78683316 0.75550762 0.80046266 0.78886114\n",
      " 0.69431692 0.67517715 0.68707055 0.68910004 0.68474616 0.66560714\n",
      " 0.68416947 0.68822997 0.85237674 0.8120667  0.85933881 0.84628801\n",
      " 0.8262754  0.79031168 0.85643799 0.8457078  0.85150616 0.81003494\n",
      " 0.85991827 0.84396741 0.82975593 0.79292214 0.85556817 0.84454737\n",
      " 0.79785295 0.76653246 0.80162359 0.79234218 0.79118225 0.75898891\n",
      " 0.80046266 0.78886114 0.69431692 0.67517715 0.68707055 0.68910004\n",
      " 0.68474616 0.66560714 0.68416947 0.68822997 0.86136729 0.8085844\n",
      " 0.87122892 0.85527958 0.8413577  0.7955331  0.86890857 0.85266836\n",
      " 0.85353666 0.80916462 0.86223887 0.84599765 0.84164705 0.79379271\n",
      " 0.85730806 0.84483647 0.79785295 0.76653246 0.80162359 0.79234218\n",
      " 0.79118225 0.75898891 0.80046266 0.78886114 0.69431692 0.67517715\n",
      " 0.68707055 0.68910004 0.68474616 0.66560714 0.68416947 0.68822997]\n",
      "  warnings.warn(\n"
     ]
    },
    {
     "data": {
      "text/plain": [
       "0.871228919917761"
      ]
     },
     "execution_count": 8,
     "metadata": {},
     "output_type": "execute_result"
    }
   ],
   "source": [
    "# create a parameter grid\n",
    "param_grid = {'vect__max_features': [1000, 2000, 5000, 10000],\n",
    "                'vect__ngram_range': [(1, 1), (1, 2)],\n",
    "                'vect__stop_words': [None, 'english'],\n",
    "                'vect__min_df': [1, 5, 20, 50],\n",
    "                'vect__max_df': [1.0, 0.9, 0.8],\n",
    "                'vect__use_idf': [True, False]}\n",
    "\n",
    "# instantiate the grid\n",
    "grid_search = GridSearchCV(pipe_text_clf, param_grid, n_jobs=-1, cv=3, scoring='accuracy', verbose=1)\n",
    "\n",
    "# fit the grid with data\n",
    "grid_search.fit(X_train, y_train)\n",
    "\n",
    "# best accuracy\n",
    "grid_search.best_score_"
   ]
  },
  {
   "cell_type": "code",
   "execution_count": 9,
   "metadata": {},
   "outputs": [
    {
     "name": "stdout",
     "output_type": "stream",
     "text": [
      "Accuracy on train set:  0.9504060324825986\n",
      "Accuracy on test set:  0.8352223190932868\n"
     ]
    }
   ],
   "source": [
    "best_estimator = grid_search.best_estimator_\n",
    "\n",
    "# predictions on test set\n",
    "y_train_pred = best_estimator.predict(X_train)\n",
    "y_test_pred = best_estimator.predict(X_test)\n",
    "\n",
    "# accuracy\n",
    "print('Accuracy on train set: ', accuracy_score(y_train, y_train_pred))\n",
    "print('Accuracy on test set: ', accuracy_score(y_test, y_test_pred))"
   ]
  },
  {
   "cell_type": "code",
   "execution_count": 13,
   "metadata": {},
   "outputs": [
    {
     "data": {
      "text/plain": [
       "<sklearn.metrics._plot.confusion_matrix.ConfusionMatrixDisplay at 0x7f2860495cc0>"
      ]
     },
     "execution_count": 13,
     "metadata": {},
     "output_type": "execute_result"
    },
    {
     "data": {
      "image/png": "[encoded data removed]",
      "text/plain": [
       "<Figure size 640x480 with 2 Axes>"
      ]
     },
     "metadata": {},
     "output_type": "display_data"
    }
   ],
   "source": [
    "# confusion matrix display\n",
    "from sklearn.metrics import ConfusionMatrixDisplay\n",
    "\n",
    "cm = confusion_matrix(y_test, y_test_pred, labels=categories)\n",
    "disp = ConfusionMatrixDisplay(confusion_matrix=cm, display_labels=categories)\n",
    "disp.plot()"
   ]
  },
  {
   "cell_type": "code",
   "execution_count": 17,
   "metadata": {},
   "outputs": [
    {
     "data": {
      "text/html": [
       "<div>\n",
       "<style scoped>\n",
       "    .dataframe tbody tr th:only-of-type {\n",
       "        vertical-align: middle;\n",
       "    }\n",
       "\n",
       "    .dataframe tbody tr th {\n",
       "        vertical-align: top;\n",
       "    }\n",
       "\n",
       "    .dataframe thead th {\n",
       "        text-align: right;\n",
       "    }\n",
       "</style>\n",
       "<table border=\"1\" class=\"dataframe\">\n",
       "  <thead>\n",
       "    <tr style=\"text-align: right;\">\n",
       "      <th></th>\n",
       "      <th>text</th>\n",
       "      <th>prediction</th>\n",
       "    </tr>\n",
       "  </thead>\n",
       "  <tbody>\n",
       "    <tr>\n",
       "      <th>0</th>\n",
       "      <td>I always wanted to be an astronaut</td>\n",
       "      <td>sci.space</td>\n",
       "    </tr>\n",
       "    <tr>\n",
       "      <th>1</th>\n",
       "      <td>Another home run for Buckley</td>\n",
       "      <td>rec.sport.baseball</td>\n",
       "    </tr>\n",
       "    <tr>\n",
       "      <th>2</th>\n",
       "      <td>I need to fix my engine</td>\n",
       "      <td>rec.autos</td>\n",
       "    </tr>\n",
       "    <tr>\n",
       "      <th>3</th>\n",
       "      <td>God is love</td>\n",
       "      <td>alt.atheism</td>\n",
       "    </tr>\n",
       "    <tr>\n",
       "      <th>4</th>\n",
       "      <td>I love science</td>\n",
       "      <td>alt.atheism</td>\n",
       "    </tr>\n",
       "    <tr>\n",
       "      <th>5</th>\n",
       "      <td>I love computers</td>\n",
       "      <td>alt.atheism</td>\n",
       "    </tr>\n",
       "  </tbody>\n",
       "</table>\n",
       "</div>"
      ],
      "text/plain": [
       "                                 text          prediction\n",
       "0  I always wanted to be an astronaut           sci.space\n",
       "1        Another home run for Buckley  rec.sport.baseball\n",
       "2             I need to fix my engine           rec.autos\n",
       "3                         God is love         alt.atheism\n",
       "4                      I love science         alt.atheism\n",
       "5                    I love computers         alt.atheism"
      ]
     },
     "execution_count": 17,
     "metadata": {},
     "output_type": "execute_result"
    }
   ],
   "source": [
    "# show predictions next to the input text\n",
    "pd.DataFrame({'text': ['I always wanted to be an astronaut', 'Another home run for Buckley', 'I need to fix my engine', 'God is love', 'I love science', 'I love computers'],\n",
    "                'prediction': best_estimator.predict(['I always wanted to be an astronaut', 'Another home run for Buckley', 'I need to fix my engine', 'God is love', 'I love science', 'I love computers'])})"
   ]
  }
 ],
 "metadata": {
  "kernelspec": {
   "display_name": "ds",
   "language": "python",
   "name": "python3"
  },
  "language_info": {
   "codemirror_mode": {
    "name": "ipython",
    "version": 3
   },
   "file_extension": ".py",
   "mimetype": "text/x-python",
   "name": "python",
   "nbconvert_exporter": "python",
   "pygments_lexer": "ipython3",
   "version": "3.10.12"
  }
 },
 "nbformat": 4,
 "nbformat_minor": 2
}
