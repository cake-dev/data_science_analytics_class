{
 "cells": [
  {
   "cell_type": "code",
   "execution_count": 1,
   "metadata": {},
   "outputs": [],
   "source": [
    "import pandas as pd"
   ]
  },
  {
   "cell_type": "markdown",
   "metadata": {},
   "source": [
    "- How do I choose the model hyperparameters? (ex. KNN n_neghbors)\n",
    "- Will the model perform well in new data?\n",
    "- Wheich model should I choose for my problem?\n",
    "\n",
    "We need evaluation metrics to answer these questions.\n",
    "\n",
    "4 examples:\n",
    "\n",
    "Accuracy: \n",
    "\n",
    "- Classification accuracy is the number of correct predictions made as a ratio of all predictions made. (% correct)\n",
    "\n",
    "Confusion matrix: \n",
    "\n",
    "- A table that describes the performance of a classification model. (TP, TN, FP, FN; percentage of each)\n",
    "\n",
    "Precision: \n",
    "\n",
    "- (for binary classification) this is the number of true positives divided by the number of true positives plus the number of false positives. (TP / (TP + FP))\n",
    "\n",
    "Recall: \n",
    "\n",
    "- (for binary classification) is the number of true positives divided by the number of true positives plus the number of false negatives. (TP / (TP + FN))"
   ]
  },
  {
   "cell_type": "code",
   "execution_count": 2,
   "metadata": {},
   "outputs": [],
   "source": [
    "# load pima indian diabetes dataset\n",
    "diabetes = pd.read_csv('../Data/pima.csv')"
   ]
  },
  {
   "cell_type": "markdown",
   "metadata": {},
   "source": [
    "In this dataset:\n",
    "\n",
    "Each row is a patient, each column is a feature, and the last column is the class label (1 = has diabetes, 0 = no diabetes)\n",
    "\n",
    "Goal:\n",
    "\n",
    "to predict if a patient has diabetes or not\n",
    "\n",
    "Recall or precision?\n",
    "\n",
    "- recall since we want to catch all the positive cases (diabetes)"
   ]
  },
  {
   "cell_type": "code",
   "execution_count": 4,
   "metadata": {},
   "outputs": [
    {
     "name": "stdout",
     "output_type": "stream",
     "text": [
      "Accuracy:  0.75\n",
      "Precision:  0.6727272727272727\n",
      "Recall:  0.5522388059701493\n",
      "F1:  0.6065573770491803\n",
      "Confusion Matrix: \n",
      " [[107  18]\n",
      " [ 30  37]]\n",
      "Classification Report: \n",
      "               precision    recall  f1-score   support\n",
      "\n",
      "           0       0.78      0.86      0.82       125\n",
      "           1       0.67      0.55      0.61        67\n",
      "\n",
      "    accuracy                           0.75       192\n",
      "   macro avg       0.73      0.70      0.71       192\n",
      "weighted avg       0.74      0.75      0.74       192\n",
      "\n"
     ]
    }
   ],
   "source": [
    "import numpy as np\n",
    "from sklearn.ensemble import RandomForestClassifier\n",
    "\n",
    "# split dataset into features and target variable\n",
    "X = diabetes.iloc[:, :-1]\n",
    "y = diabetes.iloc[:, -1]\n",
    "\n",
    "# split dataset into train and test set\n",
    "from sklearn.model_selection import train_test_split\n",
    "X_train, X_test, y_train, y_test = train_test_split(X, y,\n",
    "                                                    stratify=y,\n",
    "                                                    random_state=42)\n",
    "\n",
    "# instantiate model\n",
    "rf = RandomForestClassifier(n_estimators=100,\n",
    "                            random_state=42)\n",
    "\n",
    "# fit model\n",
    "rf.fit(X_train, y_train)\n",
    "\n",
    "# predict on test set\n",
    "y_pred = rf.predict(X_test)\n",
    "\n",
    "# show all evaluation metrics\n",
    "from sklearn.metrics import accuracy_score, precision_score, recall_score, f1_score, confusion_matrix, classification_report\n",
    "\n",
    "print('Accuracy: ', accuracy_score(y_test, y_pred))\n",
    "print('Precision: ', precision_score(y_test, y_pred))\n",
    "print('Recall: ', recall_score(y_test, y_pred))\n",
    "print('F1: ', f1_score(y_test, y_pred))\n",
    "print('Confusion Matrix: \\n', confusion_matrix(y_test, y_pred))\n",
    "print('Classification Report: \\n', classification_report(y_test, y_pred))"
   ]
  }
 ],
 "metadata": {
  "kernelspec": {
   "display_name": "sportsenv",
   "language": "python",
   "name": "python3"
  },
  "language_info": {
   "codemirror_mode": {
    "name": "ipython",
    "version": 3
   },
   "file_extension": ".py",
   "mimetype": "text/x-python",
   "name": "python",
   "nbconvert_exporter": "python",
   "pygments_lexer": "ipython3",
   "version": "3.10.6"
  },
  "orig_nbformat": 4
 },
 "nbformat": 4,
 "nbformat_minor": 2
}
