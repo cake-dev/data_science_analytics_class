{
 "cells": [
  {
   "cell_type": "markdown",
   "metadata": {},
   "source": [
    "Navigate to the [San Francisco Open Data Portal](https://datasf.org/opendata/), and download the *Police Department Incident Reports: Historical 2003 to May 2018*."
   ]
  },
  {
   "cell_type": "markdown",
   "metadata": {},
   "source": [
    "![SF_opendata](SF_opendata_portal.png)"
   ]
  },
  {
   "cell_type": "markdown",
   "metadata": {},
   "source": [
    "Your goal is to build a model that predicts the number of crime incidents that will occur in a given zip code, given the day of the week, and the time of day.\n",
    "Train your model on the 2013-2017 data, and then use the 2018 data to test the model performance."
   ]
  }
 ],
 "metadata": {
  "kernelspec": {
   "display_name": "Python 3",
   "language": "python",
   "name": "python3"
  },
  "language_info": {
   "codemirror_mode": {
    "name": "ipython",
    "version": 3
   },
   "file_extension": ".py",
   "mimetype": "text/x-python",
   "name": "python",
   "nbconvert_exporter": "python",
   "pygments_lexer": "ipython3",
   "version": "3.8.5"
  }
 },
 "nbformat": 4,
 "nbformat_minor": 4
}
