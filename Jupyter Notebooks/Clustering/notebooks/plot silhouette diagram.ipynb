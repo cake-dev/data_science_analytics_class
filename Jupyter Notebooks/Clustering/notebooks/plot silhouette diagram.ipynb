{
 "cells": [
  {
   "cell_type": "code",
   "execution_count": null,
   "id": "6423dfcc",
   "metadata": {},
   "outputs": [],
   "source": [
    "def plot_silhouette_diagram(model,X):\n",
    "    from sklearn.metrics import silhouette_samples\n",
    "    from matplotlib.ticker import FixedLocator, FixedFormatter\n",
    "    from matplotlib import cm\n",
    "    \n",
    "    # get cluster labels, cluster centers, number of clusters, and silhouete scores\n",
    "    labels = model.labels_\n",
    "    centers = model.cluster_centers_\n",
    "    k = len(np.unique(labels))\n",
    "    silhouette_coefficients = silhouette_samples(X,labels)\n",
    "    \n",
    "    # plot silhouette diagrams\n",
    "    plt.figure(figsize=(15,10))\n",
    "    padding = len(X) // 30\n",
    "    pos = padding\n",
    "    ticks = []\n",
    "    for i in range(k):\n",
    "        coeffs = silhouette_coefficients[labels == i]\n",
    "        coeffs.sort()\n",
    "        color = cm.Spectral(i/k)\n",
    "        plt.fill_betweenx(np.arange(pos,pos+len(coeffs)),0,coeffs,facecolor=color,edgecolor=color,alpha=0.7)\n",
    "        \n",
    "        ticks.append(pos + len(coeffs)//2)\n",
    "        pos += len(coeffs) + padding\n",
    "    \n",
    "    plt.gca().yaxis.set_major_locator(FixedLocator(ticks))\n",
    "    plt.gca().yaxis.set_major_formatter(FixedFormatter(range(k)))\n",
    "    plt.ylabel('Cluster')\n",
    "    plt.xlabel('Silhouette Coefficient')\n",
    "    \n",
    "    plt.axvline(x=silhouette_score(X,labels),color='red',linestyle='--')"
   ]
  }
 ],
 "metadata": {
  "kernelspec": {
   "display_name": "Python 3 (ipykernel)",
   "language": "python",
   "name": "python3"
  },
  "language_info": {
   "codemirror_mode": {
    "name": "ipython",
    "version": 3
   },
   "file_extension": ".py",
   "mimetype": "text/x-python",
   "name": "python",
   "nbconvert_exporter": "python",
   "pygments_lexer": "ipython3",
   "version": "3.9.12"
  }
 },
 "nbformat": 4,
 "nbformat_minor": 5
}
