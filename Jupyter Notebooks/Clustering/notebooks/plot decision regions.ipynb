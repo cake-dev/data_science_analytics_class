{
 "cells": [
  {
   "cell_type": "code",
   "execution_count": null,
   "id": "fc748af5",
   "metadata": {},
   "outputs": [],
   "source": [
    "def plot_decision_regions(model,X):\n",
    "    \n",
    "    # extract feature names\n",
    "    try:\n",
    "        feature_names = X.columns\n",
    "    except:\n",
    "        feature_names = ['feature #1','feature #2']\n",
    "    \n",
    "    # put data into numpy arrays\n",
    "    try:\n",
    "        X = np.array(X)\n",
    "    except:\n",
    "        print('something went wrong...')\n",
    "        \n",
    "    # create a mesh grid\n",
    "    h = .01\n",
    "    x_min, x_max = X[:, 0].min() - .1, X[:, 0].max() + .1\n",
    "    y_min, y_max = X[:, 1].min() - .1, X[:, 1].max() + .1\n",
    "    xx, yy = np.meshgrid(np.arange(x_min, x_max, h),\n",
    "                         np.arange(y_min, y_max, h))\n",
    "\n",
    "    #  assign grid points to clusters\n",
    "    Z = model.predict(np.c_[xx.ravel(), yy.ravel()])\n",
    "    Z = Z.reshape(xx.shape)\n",
    "    \n",
    "    # plot Voronoi regions\n",
    "    plt.contourf(Z, extent=(x_min,x_max,y_min,y_max),cmap='Pastel2_r')\n",
    "    plt.contour(Z, extent=(x_min,x_max,y_min,y_max),linewidths=1,colors='k')\n",
    "    \n",
    "    # plot data\n",
    "    plt.scatter(X[:,0],X[:,1],color='k',s=15)"
   ]
  }
 ],
 "metadata": {
  "kernelspec": {
   "display_name": "Python 3 (ipykernel)",
   "language": "python",
   "name": "python3"
  },
  "language_info": {
   "codemirror_mode": {
    "name": "ipython",
    "version": 3
   },
   "file_extension": ".py",
   "mimetype": "text/x-python",
   "name": "python",
   "nbconvert_exporter": "python",
   "pygments_lexer": "ipython3",
   "version": "3.9.12"
  }
 },
 "nbformat": 4,
 "nbformat_minor": 5
}
