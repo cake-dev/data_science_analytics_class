{
 "cells": [
  {
   "cell_type": "code",
   "execution_count": 1,
   "metadata": {},
   "outputs": [],
   "source": [
    "import pandas as pd"
   ]
  },
  {
   "cell_type": "markdown",
   "metadata": {},
   "source": [
    "# Problem 2: Email spam detection"
   ]
  },
  {
   "cell_type": "markdown",
   "metadata": {},
   "source": [
    "Nearly every email user has at some point encountered a \"spam\" email, which is an unsolicited message often advertising a product, containing links to malware, or attempting to scam the recipient. \n",
    "Roughly 80-90% of more than 100 billion emails sent each day are spam emails, most being sent from botnets of malware-infected computers. \n",
    "The remainder of emails are called \"ham\" emails."
   ]
  },
  {
   "cell_type": "code",
   "execution_count": 2,
   "metadata": {},
   "outputs": [
    {
     "data": {
      "text/html": [
       "<div>\n",
       "<style scoped>\n",
       "    .dataframe tbody tr th:only-of-type {\n",
       "        vertical-align: middle;\n",
       "    }\n",
       "\n",
       "    .dataframe tbody tr th {\n",
       "        vertical-align: top;\n",
       "    }\n",
       "\n",
       "    .dataframe thead th {\n",
       "        text-align: right;\n",
       "    }\n",
       "</style>\n",
       "<table border=\"1\" class=\"dataframe\">\n",
       "  <thead>\n",
       "    <tr style=\"text-align: right;\">\n",
       "      <th></th>\n",
       "      <th>text</th>\n",
       "      <th>label</th>\n",
       "    </tr>\n",
       "  </thead>\n",
       "  <tbody>\n",
       "    <tr>\n",
       "      <th>0</th>\n",
       "      <td>Date:        Wed, 21 Aug 2002 10:54:46 -05...</td>\n",
       "      <td>ham</td>\n",
       "    </tr>\n",
       "    <tr>\n",
       "      <th>1</th>\n",
       "      <td>Martin A posted:\\nTassos Papadopoulos, the Gre...</td>\n",
       "      <td>ham</td>\n",
       "    </tr>\n",
       "    <tr>\n",
       "      <th>2</th>\n",
       "      <td>Man Threatens Explosion In Moscow \\n\\nThursday...</td>\n",
       "      <td>ham</td>\n",
       "    </tr>\n",
       "    <tr>\n",
       "      <th>3</th>\n",
       "      <td>Klez: The Virus That Won't Die\\n \\nAlready the...</td>\n",
       "      <td>ham</td>\n",
       "    </tr>\n",
       "    <tr>\n",
       "      <th>4</th>\n",
       "      <td>&gt;  in adding cream to spaghetti carbonara, whi...</td>\n",
       "      <td>ham</td>\n",
       "    </tr>\n",
       "  </tbody>\n",
       "</table>\n",
       "</div>"
      ],
      "text/plain": [
       "                                                text label\n",
       "0      Date:        Wed, 21 Aug 2002 10:54:46 -05...   ham\n",
       "1  Martin A posted:\\nTassos Papadopoulos, the Gre...   ham\n",
       "2  Man Threatens Explosion In Moscow \\n\\nThursday...   ham\n",
       "3  Klez: The Virus That Won't Die\\n \\nAlready the...   ham\n",
       "4  >  in adding cream to spaghetti carbonara, whi...   ham"
      ]
     },
     "execution_count": 2,
     "metadata": {},
     "output_type": "execute_result"
    }
   ],
   "source": [
    "# load the data\n",
    "url = 'https://raw.githubusercontent.com/um-perez-alvaro/Data-Science-Practice/master/Data/emails.csv'\n",
    "emails = pd.read_csv(url)\n",
    "emails.head()"
   ]
  },
  {
   "cell_type": "markdown",
   "metadata": {},
   "source": [
    "There are 3000 emails in the dataset"
   ]
  },
  {
   "cell_type": "code",
   "execution_count": 3,
   "metadata": {},
   "outputs": [
    {
     "data": {
      "text/plain": [
       "3000"
      ]
     },
     "execution_count": 3,
     "metadata": {},
     "output_type": "execute_result"
    }
   ],
   "source": [
    "len(emails)"
   ]
  },
  {
   "cell_type": "markdown",
   "metadata": {},
   "source": [
    "2500 are ham emails, and 500 are spam"
   ]
  },
  {
   "cell_type": "code",
   "execution_count": 4,
   "metadata": {},
   "outputs": [
    {
     "data": {
      "text/plain": [
       "ham     2500\n",
       "spam     500\n",
       "Name: label, dtype: int64"
      ]
     },
     "execution_count": 4,
     "metadata": {},
     "output_type": "execute_result"
    }
   ],
   "source": [
    "emails.label.value_counts()"
   ]
  },
  {
   "cell_type": "markdown",
   "metadata": {},
   "source": [
    "Let's look at one example of ham and one example of spam, to get a feel of what the data looks like"
   ]
  },
  {
   "cell_type": "code",
   "execution_count": 5,
   "metadata": {},
   "outputs": [
    {
     "name": "stdout",
     "output_type": "stream",
     "text": [
      "I have been trying to research via SA mirrors and search engines if a canned\n",
      "script exists giving clients access to their user_prefs options via a\n",
      "web-based CGI interface. Numerous ISPs provide this feature to clients, but\n",
      "so far I can find nothing. Our configuration uses Amavis-Postfix and ClamAV\n",
      "for virus filtering and Procmail with SpamAssassin for spam filtering. I\n",
      "would prefer not to have to write a script myself, but will appreciate any\n",
      "suggestions.\n",
      "\n",
      "\n",
      "\n",
      "-------------------------------------------------------\n",
      "This sf.net email is sponsored by: OSDN - Tired of that same old\n",
      "cell phone?  Get a new here for FREE!\n",
      "https://www.inphonic.com/r.asp?r=sourceforge1&refcode1=vs3390\n",
      "_______________________________________________\n",
      "Spamassassin-talk mailing list\n",
      "Spamassassin-talk@lists.sourceforge.net\n",
      "https://lists.sourceforge.net/lists/listinfo/spamassassin-talk\n",
      "\n",
      "\n"
     ]
    }
   ],
   "source": [
    "# ham example\n",
    "print(emails.loc[9].text)"
   ]
  },
  {
   "cell_type": "code",
   "execution_count": 6,
   "metadata": {},
   "outputs": [
    {
     "name": "stdout",
     "output_type": "stream",
     "text": [
      "\n",
      "Get 12 FREE VHS or DVDs!\n",
      "  Click  HYPERLINK  HERE For Details!\n",
      "We Only Have HIGH QUALITY Porno Movies to Choose From!\n",
      " \"This is a VERY SPECIAL, LIMITED TIME OFFER.\" Get up to 12 DVDs absolutely FREE, with HYPERLINK  NO COMMITMENT!\n",
      "There's no better deal anywhere.\n",
      "There's no catches and no gimmicks. You only pay for the shipping, and the DVDs are absolutely free!\n",
      "Take a Peak at our HYPERLINK   Full Catalog!\n",
      " High quality cum filled titles such as:\n",
      " HYPERLINK  500 Oral Cumshots 5\n",
      "Description: 500 Oral Cum Shots! I need hot jiz on my face! Will you cum in my mouth?\n",
      " Dozens of Dirty Hardcore titles such as:\n",
      " HYPERLINK  Amazing Penetrations No. 17\n",
      "Description: 4 full hours of amazing penetrations with some of the most beautiful women in porn!\n",
      " From our \"Sexiest Innocent Blondes\" collections:\n",
      " HYPERLINK  Audition Tapes\n",
      "Description: Our girls go from cute, young and innocent, to screaming sex goddess\n",
      " beggin' to have massive cocks in their tight, wet pussies and asses!\n",
      "\n"
     ]
    }
   ],
   "source": [
    "# spam example\n",
    "print(emails.loc[2990].text)"
   ]
  },
  {
   "cell_type": "markdown",
   "metadata": {},
   "source": [
    "The **goal** is to build a spam classifier"
   ]
  },
  {
   "cell_type": "markdown",
   "metadata": {},
   "source": [
    "**Part 0:** Drop rows with missing values."
   ]
  },
  {
   "cell_type": "code",
   "execution_count": 8,
   "metadata": {},
   "outputs": [],
   "source": [
    "emails.dropna(inplace=True)"
   ]
  },
  {
   "cell_type": "code",
   "execution_count": 9,
   "metadata": {},
   "outputs": [
    {
     "data": {
      "text/html": [
       "<div>\n",
       "<style scoped>\n",
       "    .dataframe tbody tr th:only-of-type {\n",
       "        vertical-align: middle;\n",
       "    }\n",
       "\n",
       "    .dataframe tbody tr th {\n",
       "        vertical-align: top;\n",
       "    }\n",
       "\n",
       "    .dataframe thead th {\n",
       "        text-align: right;\n",
       "    }\n",
       "</style>\n",
       "<table border=\"1\" class=\"dataframe\">\n",
       "  <thead>\n",
       "    <tr style=\"text-align: right;\">\n",
       "      <th></th>\n",
       "      <th>text</th>\n",
       "      <th>label</th>\n",
       "    </tr>\n",
       "  </thead>\n",
       "  <tbody>\n",
       "    <tr>\n",
       "      <th>0</th>\n",
       "      <td>Date:        Wed, 21 Aug 2002 10:54:46 -05...</td>\n",
       "      <td>ham</td>\n",
       "    </tr>\n",
       "    <tr>\n",
       "      <th>1</th>\n",
       "      <td>Martin A posted:\\nTassos Papadopoulos, the Gre...</td>\n",
       "      <td>ham</td>\n",
       "    </tr>\n",
       "    <tr>\n",
       "      <th>2</th>\n",
       "      <td>Man Threatens Explosion In Moscow \\n\\nThursday...</td>\n",
       "      <td>ham</td>\n",
       "    </tr>\n",
       "    <tr>\n",
       "      <th>3</th>\n",
       "      <td>Klez: The Virus That Won't Die\\n \\nAlready the...</td>\n",
       "      <td>ham</td>\n",
       "    </tr>\n",
       "    <tr>\n",
       "      <th>4</th>\n",
       "      <td>&gt;  in adding cream to spaghetti carbonara, whi...</td>\n",
       "      <td>ham</td>\n",
       "    </tr>\n",
       "    <tr>\n",
       "      <th>...</th>\n",
       "      <td>...</td>\n",
       "      <td>...</td>\n",
       "    </tr>\n",
       "    <tr>\n",
       "      <th>2995</th>\n",
       "      <td>\\n  ABC's Good Morning America ranks it the #1...</td>\n",
       "      <td>spam</td>\n",
       "    </tr>\n",
       "    <tr>\n",
       "      <th>2996</th>\n",
       "      <td>\\n \\n \\n           HYPERLINK\\n           HYPER...</td>\n",
       "      <td>spam</td>\n",
       "    </tr>\n",
       "    <tr>\n",
       "      <th>2997</th>\n",
       "      <td>\\nTHANK YOU FOR SHOPPING WITH US\\nGIFTS FOR AL...</td>\n",
       "      <td>spam</td>\n",
       "    </tr>\n",
       "    <tr>\n",
       "      <th>2998</th>\n",
       "      <td>\\n            The\\n            Famous\\n       ...</td>\n",
       "      <td>spam</td>\n",
       "    </tr>\n",
       "    <tr>\n",
       "      <th>2999</th>\n",
       "      <td>\\n(Hello,This is Chinese Traditional)\\n��子�]件 ...</td>\n",
       "      <td>spam</td>\n",
       "    </tr>\n",
       "  </tbody>\n",
       "</table>\n",
       "<p>2999 rows × 2 columns</p>\n",
       "</div>"
      ],
      "text/plain": [
       "                                                   text label\n",
       "0         Date:        Wed, 21 Aug 2002 10:54:46 -05...   ham\n",
       "1     Martin A posted:\\nTassos Papadopoulos, the Gre...   ham\n",
       "2     Man Threatens Explosion In Moscow \\n\\nThursday...   ham\n",
       "3     Klez: The Virus That Won't Die\\n \\nAlready the...   ham\n",
       "4     >  in adding cream to spaghetti carbonara, whi...   ham\n",
       "...                                                 ...   ...\n",
       "2995  \\n  ABC's Good Morning America ranks it the #1...  spam\n",
       "2996  \\n \\n \\n           HYPERLINK\\n           HYPER...  spam\n",
       "2997  \\nTHANK YOU FOR SHOPPING WITH US\\nGIFTS FOR AL...  spam\n",
       "2998  \\n            The\\n            Famous\\n       ...  spam\n",
       "2999  \\n(Hello,This is Chinese Traditional)\\n��子�]件 ...  spam\n",
       "\n",
       "[2999 rows x 2 columns]"
      ]
     },
     "execution_count": 9,
     "metadata": {},
     "output_type": "execute_result"
    }
   ],
   "source": [
    "emails"
   ]
  },
  {
   "cell_type": "markdown",
   "metadata": {},
   "source": [
    "**Part 1:** Define X and y from the DataFrame, and then split X and y into training and testing sets, using the text as the only feature and the label (ham/spam) as the target."
   ]
  },
  {
   "cell_type": "code",
   "execution_count": 10,
   "metadata": {},
   "outputs": [],
   "source": [
    "from sklearn.model_selection import train_test_split\n",
    "\n",
    "# Feature matrix X, target vector y\n",
    "X = emails.text\n",
    "y = emails.label\n",
    "X_train, X_test, y_train, y_test = train_test_split(X, y, random_state=42)"
   ]
  },
  {
   "cell_type": "markdown",
   "metadata": {},
   "source": [
    "**Part 2:** build a classification pipeline (tf-idf vectorizer + Naive Bayes model)."
   ]
  },
  {
   "cell_type": "code",
   "execution_count": 11,
   "metadata": {},
   "outputs": [],
   "source": [
    "# build a classification pipeline (tf-idf vectorizer + Naive Bayes model).\n",
    "from sklearn.pipeline import Pipeline\n",
    "from sklearn.feature_extraction.text import TfidfVectorizer\n",
    "from sklearn.naive_bayes import MultinomialNB\n",
    "\n",
    "text_clf_pipe = Pipeline([('tfidf', TfidfVectorizer(stop_words='english')), ('clf', MultinomialNB())])"
   ]
  },
  {
   "cell_type": "markdown",
   "metadata": {},
   "source": [
    "**Part 3:** Use a grid search to tune the pipeline hyperparameters"
   ]
  },
  {
   "cell_type": "code",
   "execution_count": 13,
   "metadata": {},
   "outputs": [
    {
     "name": "stdout",
     "output_type": "stream",
     "text": [
      "Fitting 5 folds for each of 12 candidates, totalling 60 fits\n",
      "0.9893303637713438\n",
      "{'clf__alpha': 0.01, 'tfidf__ngram_range': (1, 2)}\n",
      "Pipeline(steps=[('tfidf',\n",
      "                 TfidfVectorizer(ngram_range=(1, 2), stop_words='english')),\n",
      "                ('clf', MultinomialNB(alpha=0.01))])\n"
     ]
    }
   ],
   "source": [
    "from sklearn.model_selection import GridSearchCV\n",
    "\n",
    "# define the parameter values that should be searched\n",
    "parameters = {'tfidf__ngram_range': [(1, 1), (1, 2), (1, 3)],\n",
    "              'clf__alpha': [0.01, 0.1, 1.0, 10.0],\n",
    "              }\n",
    "# instantiate the grid\n",
    "grid_search = GridSearchCV(text_clf_pipe, parameters, cv=5, n_jobs=-1, verbose=1)\n",
    "# fit the grid with data\n",
    "grid_search.fit(X_train, y_train)\n",
    "\n",
    "# view the complete results\n",
    "grid_search.cv_results_\n",
    "\n",
    "# examine the best model\n",
    "print(grid_search.best_score_)\n",
    "print(grid_search.best_params_)\n",
    "print(grid_search.best_estimator_)\n",
    "best_clf = grid_search.best_estimator_"
   ]
  },
  {
   "cell_type": "markdown",
   "metadata": {},
   "source": [
    "**Part 4:** Evaluate the performance of your classification pipeline on the test set"
   ]
  },
  {
   "cell_type": "code",
   "execution_count": 14,
   "metadata": {},
   "outputs": [
    {
     "name": "stdout",
     "output_type": "stream",
     "text": [
      "0.992\n"
     ]
    },
    {
     "data": {
      "text/plain": [
       "<sklearn.metrics._plot.confusion_matrix.ConfusionMatrixDisplay at 0x7fc7e1022920>"
      ]
     },
     "execution_count": 14,
     "metadata": {},
     "output_type": "execute_result"
    },
    {
     "data": {
      "image/png": "[encoded data removed]",
      "text/plain": [
       "<Figure size 640x480 with 2 Axes>"
      ]
     },
     "metadata": {},
     "output_type": "display_data"
    }
   ],
   "source": [
    "# Test performance\n",
    "from sklearn import metrics\n",
    "y_pred = best_clf.predict(X_test)\n",
    "print(metrics.accuracy_score(y_test, y_pred))\n",
    "\n",
    "# Confusion matrix\n",
    "metrics.ConfusionMatrixDisplay(metrics.confusion_matrix(y_test, y_pred), display_labels=['ham', 'spam']).plot()"
   ]
  }
 ],
 "metadata": {
  "kernelspec": {
   "display_name": "Python 3",
   "language": "python",
   "name": "python3"
  },
  "language_info": {
   "codemirror_mode": {
    "name": "ipython",
    "version": 3
   },
   "file_extension": ".py",
   "mimetype": "text/x-python",
   "name": "python",
   "nbconvert_exporter": "python",
   "pygments_lexer": "ipython3",
   "version": "3.10.12"
  }
 },
 "nbformat": 4,
 "nbformat_minor": 4
}
