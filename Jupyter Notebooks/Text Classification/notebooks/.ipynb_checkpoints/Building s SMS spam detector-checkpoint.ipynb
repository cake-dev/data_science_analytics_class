{
 "cells": [
  {
   "cell_type": "code",
   "execution_count": 1,
   "metadata": {},
   "outputs": [],
   "source": [
    "import pandas as pd\n",
    "from sklearn.feature_extraction.text import CountVectorizer\n",
    "from sklearn.naive_bayes import MultinomialNB "
   ]
  },
  {
   "cell_type": "markdown",
   "metadata": {},
   "source": [
    "# Building a SMS spam detector"
   ]
  },
  {
   "cell_type": "code",
   "execution_count": 2,
   "metadata": {},
   "outputs": [],
   "source": [
    "# load the dataset\n",
    "url = 'https://raw.githubusercontent.com/um-perez-alvaro/Data-Science-Practice/master/Data/sms.tsv.txt'\n",
    "sms = pd.read_csv(url, sep='\\t', header=None, names=['label', 'message'])"
   ]
  },
  {
   "cell_type": "code",
   "execution_count": 3,
   "metadata": {
    "scrolled": true
   },
   "outputs": [
    {
     "data": {
      "text/html": [
       "<div>\n",
       "<style scoped>\n",
       "    .dataframe tbody tr th:only-of-type {\n",
       "        vertical-align: middle;\n",
       "    }\n",
       "\n",
       "    .dataframe tbody tr th {\n",
       "        vertical-align: top;\n",
       "    }\n",
       "\n",
       "    .dataframe thead th {\n",
       "        text-align: right;\n",
       "    }\n",
       "</style>\n",
       "<table border=\"1\" class=\"dataframe\">\n",
       "  <thead>\n",
       "    <tr style=\"text-align: right;\">\n",
       "      <th></th>\n",
       "      <th>label</th>\n",
       "      <th>message</th>\n",
       "    </tr>\n",
       "  </thead>\n",
       "  <tbody>\n",
       "    <tr>\n",
       "      <th>0</th>\n",
       "      <td>ham</td>\n",
       "      <td>Go until jurong point, crazy.. Available only ...</td>\n",
       "    </tr>\n",
       "    <tr>\n",
       "      <th>1</th>\n",
       "      <td>ham</td>\n",
       "      <td>Ok lar... Joking wif u oni...</td>\n",
       "    </tr>\n",
       "    <tr>\n",
       "      <th>2</th>\n",
       "      <td>spam</td>\n",
       "      <td>Free entry in 2 a wkly comp to win FA Cup fina...</td>\n",
       "    </tr>\n",
       "    <tr>\n",
       "      <th>3</th>\n",
       "      <td>ham</td>\n",
       "      <td>U dun say so early hor... U c already then say...</td>\n",
       "    </tr>\n",
       "    <tr>\n",
       "      <th>4</th>\n",
       "      <td>ham</td>\n",
       "      <td>Nah I don't think he goes to usf, he lives aro...</td>\n",
       "    </tr>\n",
       "  </tbody>\n",
       "</table>\n",
       "</div>"
      ],
      "text/plain": [
       "  label                                            message\n",
       "0   ham  Go until jurong point, crazy.. Available only ...\n",
       "1   ham                      Ok lar... Joking wif u oni...\n",
       "2  spam  Free entry in 2 a wkly comp to win FA Cup fina...\n",
       "3   ham  U dun say so early hor... U c already then say...\n",
       "4   ham  Nah I don't think he goes to usf, he lives aro..."
      ]
     },
     "execution_count": 3,
     "metadata": {},
     "output_type": "execute_result"
    }
   ],
   "source": [
    "sms.head()"
   ]
  },
  {
   "cell_type": "code",
   "execution_count": 4,
   "metadata": {},
   "outputs": [
    {
     "name": "stdout",
     "output_type": "stream",
     "text": [
      "To review and KEEP the fantastic Nokia N-Gage game deck with Club Nokia, go 2 www.cnupdates.com/newsletter. unsubscribe from alerts reply with the word OUT\n"
     ]
    }
   ],
   "source": [
    "# spam example\n",
    "print(sms[sms.label=='spam'].message.iloc[100])"
   ]
  },
  {
   "cell_type": "code",
   "execution_count": 5,
   "metadata": {},
   "outputs": [
    {
     "name": "stdout",
     "output_type": "stream",
     "text": [
      "Hmm...my uncle just informed me that he's paying the school directly. So pls buy food.\n"
     ]
    }
   ],
   "source": [
    "# ham example\n",
    "print(sms[sms.label=='ham'].message.iloc[100])"
   ]
  },
  {
   "cell_type": "code",
   "execution_count": 6,
   "metadata": {},
   "outputs": [
    {
     "data": {
      "text/plain": [
       "ham     4825\n",
       "spam     747\n",
       "Name: label, dtype: int64"
      ]
     },
     "execution_count": 6,
     "metadata": {},
     "output_type": "execute_result"
    }
   ],
   "source": [
    "sms.label.value_counts()"
   ]
  },
  {
   "cell_type": "code",
   "execution_count": 7,
   "metadata": {},
   "outputs": [],
   "source": [
    "# feature matrix/target vector\n",
    "X = sms.message\n",
    "y = sms.label"
   ]
  },
  {
   "cell_type": "code",
   "execution_count": 8,
   "metadata": {},
   "outputs": [],
   "source": [
    "# train/test split\n",
    "from sklearn.model_selection import train_test_split\n",
    "X_train,X_test,y_train,y_test = train_test_split(X,y)"
   ]
  },
  {
   "cell_type": "code",
   "execution_count": 119,
   "metadata": {},
   "outputs": [],
   "source": [
    "# initialize the vectorizer (with default parameters)\n",
    "vect = CountVectorizer(stop_words='english',max_features=1000,min_df=10)"
   ]
  },
  {
   "cell_type": "code",
   "execution_count": 120,
   "metadata": {},
   "outputs": [],
   "source": [
    "# learn training vocabulary, then use it to create a document-term matrix\n",
    "vect.fit(X_train)\n",
    "X_train_dtm = vect.transform(X_train)"
   ]
  },
  {
   "cell_type": "code",
   "execution_count": 121,
   "metadata": {},
   "outputs": [],
   "source": [
    "# transform testing data (using fitted vocabulary) into a document-term matrix\n",
    "X_test_dtm = vect.transform(X_test)"
   ]
  },
  {
   "cell_type": "markdown",
   "metadata": {},
   "source": [
    "## Naive Bayes model"
   ]
  },
  {
   "cell_type": "code",
   "execution_count": 122,
   "metadata": {},
   "outputs": [],
   "source": [
    "# import and initialize a Multinomial Naive Bayes model\n",
    "from sklearn.naive_bayes import MultinomialNB\n",
    "nb_clf = MultinomialNB()"
   ]
  },
  {
   "cell_type": "code",
   "execution_count": 123,
   "metadata": {},
   "outputs": [
    {
     "data": {
      "text/plain": [
       "MultinomialNB()"
      ]
     },
     "execution_count": 123,
     "metadata": {},
     "output_type": "execute_result"
    }
   ],
   "source": [
    "# train the model using X_train_dtm \n",
    "nb_clf.fit(X_train_dtm, y_train)"
   ]
  },
  {
   "cell_type": "code",
   "execution_count": 124,
   "metadata": {},
   "outputs": [],
   "source": [
    "# make class predictions for X_test_dtm\n",
    "y_test_pred = nb_clf.predict(X_test_dtm)"
   ]
  },
  {
   "cell_type": "code",
   "execution_count": 125,
   "metadata": {},
   "outputs": [],
   "source": [
    "# evaluate the model\n",
    "from sklearn.metrics import accuracy_score, confusion_matrix"
   ]
  },
  {
   "cell_type": "code",
   "execution_count": 126,
   "metadata": {},
   "outputs": [
    {
     "data": {
      "text/plain": [
       "0.9791816223977028"
      ]
     },
     "execution_count": 126,
     "metadata": {},
     "output_type": "execute_result"
    }
   ],
   "source": [
    "# accuracy\n",
    "accuracy_score(list(y_test), y_test_pred)"
   ]
  },
  {
   "cell_type": "code",
   "execution_count": 127,
   "metadata": {},
   "outputs": [
    {
     "data": {
      "text/plain": [
       "array([[1186,   16],\n",
       "       [  13,  178]], dtype=int64)"
      ]
     },
     "execution_count": 127,
     "metadata": {},
     "output_type": "execute_result"
    }
   ],
   "source": [
    "# confusion matrix\n",
    "confusion_matrix(y_test, y_test_pred)"
   ]
  },
  {
   "cell_type": "code",
   "execution_count": 128,
   "metadata": {
    "scrolled": true
   },
   "outputs": [
    {
     "data": {
      "text/plain": [
       "3592              How much would it cost to hire a hitman\n",
       "1261    Yo, I'm at my parents' gettin cash. Good news:...\n",
       "5475    Dhoni have luck to win some big title.so we wi...\n",
       "4702                               I liked the new mobile\n",
       "75            I am waiting machan. Call me once you free.\n",
       "4419                           When you get free, call me\n",
       "1419                  Lmao. Take a pic and send it to me.\n",
       "5157                              K k:) sms chat with me.\n",
       "4635          These won't do. Have to move on to morphine\n",
       "835                            Surely result will offer:)\n",
       "396     From here after The performance award is calcu...\n",
       "3797    They have a thread on the wishlist section of ...\n",
       "2173     Yavnt tried yet and never played original either\n",
       "1160    Yun buying... But school got offer 2000 plus o...\n",
       "1506    Total video converter free download type this ...\n",
       "45                       No calls..messages..missed calls\n",
       "Name: message, dtype: object"
      ]
     },
     "execution_count": 128,
     "metadata": {},
     "output_type": "execute_result"
    }
   ],
   "source": [
    "# print messages text for the false positives (ham incorrectly classified as spam) \n",
    "X_test[(y_test=='ham') & (y_test_pred=='spam')]"
   ]
  },
  {
   "cell_type": "code",
   "execution_count": 129,
   "metadata": {},
   "outputs": [
    {
     "data": {
      "text/plain": [
       "'They have a thread on the wishlist section of the forums where ppl post nitro requests. Start from the last page and collect from the bottom up.'"
      ]
     },
     "execution_count": 129,
     "metadata": {},
     "output_type": "execute_result"
    }
   ],
   "source": [
    "X_test[3797]"
   ]
  },
  {
   "cell_type": "code",
   "execution_count": 130,
   "metadata": {},
   "outputs": [
    {
     "data": {
      "text/plain": [
       "4073    Loans for any purpose even if you have Bad Cre...\n",
       "4213    Missed call alert. These numbers called but le...\n",
       "4256    Block Breaker now comes in deluxe format with ...\n",
       "4514    Money i have won wining number 946 wot do i do...\n",
       "3501    Dorothy@kiefer.com (Bank of Granite issues Str...\n",
       "3742                                        2/2 146tf150p\n",
       "2558    This message is brought to you by GMW Ltd. and...\n",
       "2402    Babe: U want me dont u baby! Im nasty and have...\n",
       "3460    Not heard from U4 a while. Call me now am here...\n",
       "68      Did you hear about the new \"Divorce Barbie\"? I...\n",
       "2770    Burger King - Wanna play footy at a top stadiu...\n",
       "1196    You have 1 new voicemail. Please call 08719181503\n",
       "1893    CALL 09090900040 & LISTEN TO EXTREME DIRTY LIV...\n",
       "Name: message, dtype: object"
      ]
     },
     "execution_count": 130,
     "metadata": {},
     "output_type": "execute_result"
    }
   ],
   "source": [
    "# print messages text for the false negatives (span incorrectly classified as ham)  \n",
    "X_test[(y_test=='spam') & (y_test_pred=='ham')]"
   ]
  },
  {
   "cell_type": "code",
   "execution_count": 131,
   "metadata": {},
   "outputs": [
    {
     "data": {
      "text/plain": [
       "'Missed call alert. These numbers called but left no message. 07008009200'"
      ]
     },
     "execution_count": 131,
     "metadata": {},
     "output_type": "execute_result"
    }
   ],
   "source": [
    "# example of false negatives\n",
    "X_test[4213]"
   ]
  },
  {
   "cell_type": "markdown",
   "metadata": {},
   "source": [
    "## How does Naive Bayes choose between spam and ham"
   ]
  },
  {
   "cell_type": "code",
   "execution_count": 132,
   "metadata": {},
   "outputs": [],
   "source": [
    "# store the vocabulary of X_train\n",
    "words = vect.get_feature_names()"
   ]
  },
  {
   "cell_type": "code",
   "execution_count": 133,
   "metadata": {},
   "outputs": [
    {
     "data": {
      "text/plain": [
       "647"
      ]
     },
     "execution_count": 133,
     "metadata": {},
     "output_type": "execute_result"
    }
   ],
   "source": [
    "len(words)"
   ]
  },
  {
   "cell_type": "code",
   "execution_count": 134,
   "metadata": {},
   "outputs": [
    {
     "data": {
      "text/plain": [
       "array([[ 0.,  0.,  0., ..., 28.,  2., 30.],\n",
       "       [23., 10., 12., ...,  3., 10.,  0.]])"
      ]
     },
     "execution_count": 134,
     "metadata": {},
     "output_type": "execute_result"
    }
   ],
   "source": [
    "# Naive Bayes counts the number of times each word appears in each class\n",
    "# Rows represent classes (ham and spam), columns represent words\n",
    "nb_clf.feature_count_"
   ]
  },
  {
   "cell_type": "code",
   "execution_count": 135,
   "metadata": {
    "scrolled": true
   },
   "outputs": [
    {
     "data": {
      "text/plain": [
       "array(['ham', 'spam'], dtype='<U4')"
      ]
     },
     "execution_count": 135,
     "metadata": {},
     "output_type": "execute_result"
    }
   ],
   "source": [
    "nb_clf.classes_"
   ]
  },
  {
   "cell_type": "code",
   "execution_count": 136,
   "metadata": {},
   "outputs": [],
   "source": [
    "# number of times each word appears across all ham messages\n",
    "ham_word_count = nb_clf.feature_count_[0,:]\n",
    "# number of times each word appears across all spam messages\n",
    "spam_word_count = nb_clf.feature_count_[1,:]"
   ]
  },
  {
   "cell_type": "code",
   "execution_count": 137,
   "metadata": {},
   "outputs": [
    {
     "data": {
      "text/html": [
       "<div>\n",
       "<style scoped>\n",
       "    .dataframe tbody tr th:only-of-type {\n",
       "        vertical-align: middle;\n",
       "    }\n",
       "\n",
       "    .dataframe tbody tr th {\n",
       "        vertical-align: top;\n",
       "    }\n",
       "\n",
       "    .dataframe thead th {\n",
       "        text-align: right;\n",
       "    }\n",
       "</style>\n",
       "<table border=\"1\" class=\"dataframe\">\n",
       "  <thead>\n",
       "    <tr style=\"text-align: right;\">\n",
       "      <th></th>\n",
       "      <th>ham</th>\n",
       "      <th>spam</th>\n",
       "    </tr>\n",
       "    <tr>\n",
       "      <th>word</th>\n",
       "      <th></th>\n",
       "      <th></th>\n",
       "    </tr>\n",
       "  </thead>\n",
       "  <tbody>\n",
       "    <tr>\n",
       "      <th>000</th>\n",
       "      <td>0.0</td>\n",
       "      <td>23.0</td>\n",
       "    </tr>\n",
       "    <tr>\n",
       "      <th>0800</th>\n",
       "      <td>0.0</td>\n",
       "      <td>10.0</td>\n",
       "    </tr>\n",
       "    <tr>\n",
       "      <th>08000839402</th>\n",
       "      <td>0.0</td>\n",
       "      <td>12.0</td>\n",
       "    </tr>\n",
       "    <tr>\n",
       "      <th>08000930705</th>\n",
       "      <td>0.0</td>\n",
       "      <td>14.0</td>\n",
       "    </tr>\n",
       "    <tr>\n",
       "      <th>10</th>\n",
       "      <td>12.0</td>\n",
       "      <td>25.0</td>\n",
       "    </tr>\n",
       "  </tbody>\n",
       "</table>\n",
       "</div>"
      ],
      "text/plain": [
       "              ham  spam\n",
       "word                   \n",
       "000           0.0  23.0\n",
       "0800          0.0  10.0\n",
       "08000839402   0.0  12.0\n",
       "08000930705   0.0  14.0\n",
       "10           12.0  25.0"
      ]
     },
     "execution_count": 137,
     "metadata": {},
     "output_type": "execute_result"
    }
   ],
   "source": [
    "# create a DataFrame of words with their separate ham and spam counts\n",
    "words = pd.DataFrame({'word' : words, 'ham' : ham_word_count, 'spam' : spam_word_count}).set_index('word')\n",
    "words.head()"
   ]
  },
  {
   "cell_type": "code",
   "execution_count": 138,
   "metadata": {},
   "outputs": [],
   "source": [
    "# add 1 to the columns counts to avoid dividing by 0\n",
    "words.ham = words.ham+1\n",
    "words.spam = words.spam+1"
   ]
  },
  {
   "cell_type": "code",
   "execution_count": 139,
   "metadata": {},
   "outputs": [
    {
     "data": {
      "text/html": [
       "<div>\n",
       "<style scoped>\n",
       "    .dataframe tbody tr th:only-of-type {\n",
       "        vertical-align: middle;\n",
       "    }\n",
       "\n",
       "    .dataframe tbody tr th {\n",
       "        vertical-align: top;\n",
       "    }\n",
       "\n",
       "    .dataframe thead th {\n",
       "        text-align: right;\n",
       "    }\n",
       "</style>\n",
       "<table border=\"1\" class=\"dataframe\">\n",
       "  <thead>\n",
       "    <tr style=\"text-align: right;\">\n",
       "      <th></th>\n",
       "      <th>ham</th>\n",
       "      <th>spam</th>\n",
       "    </tr>\n",
       "    <tr>\n",
       "      <th>word</th>\n",
       "      <th></th>\n",
       "      <th></th>\n",
       "    </tr>\n",
       "  </thead>\n",
       "  <tbody>\n",
       "    <tr>\n",
       "      <th>000</th>\n",
       "      <td>0.000062</td>\n",
       "      <td>0.004049</td>\n",
       "    </tr>\n",
       "    <tr>\n",
       "      <th>0800</th>\n",
       "      <td>0.000062</td>\n",
       "      <td>0.001856</td>\n",
       "    </tr>\n",
       "    <tr>\n",
       "      <th>08000839402</th>\n",
       "      <td>0.000062</td>\n",
       "      <td>0.002193</td>\n",
       "    </tr>\n",
       "    <tr>\n",
       "      <th>08000930705</th>\n",
       "      <td>0.000062</td>\n",
       "      <td>0.002531</td>\n",
       "    </tr>\n",
       "    <tr>\n",
       "      <th>10</th>\n",
       "      <td>0.000800</td>\n",
       "      <td>0.004387</td>\n",
       "    </tr>\n",
       "  </tbody>\n",
       "</table>\n",
       "</div>"
      ],
      "text/plain": [
       "                  ham      spam\n",
       "word                           \n",
       "000          0.000062  0.004049\n",
       "0800         0.000062  0.001856\n",
       "08000839402  0.000062  0.002193\n",
       "08000930705  0.000062  0.002531\n",
       "10           0.000800  0.004387"
      ]
     },
     "execution_count": 139,
     "metadata": {},
     "output_type": "execute_result"
    }
   ],
   "source": [
    "# convert the ham and spam counts into frequencies\n",
    "words.ham = words.ham/words.ham.sum()\n",
    "words.spam = words.spam/words.spam.sum()\n",
    "words.head()"
   ]
  },
  {
   "cell_type": "code",
   "execution_count": 140,
   "metadata": {},
   "outputs": [
    {
     "data": {
      "text/plain": [
       "['000',\n",
       " '0800',\n",
       " '08000839402',\n",
       " '08000930705',\n",
       " '10',\n",
       " '100',\n",
       " '1000',\n",
       " '10p',\n",
       " '11',\n",
       " '12hrs',\n",
       " '150',\n",
       " '150p',\n",
       " '150ppm',\n",
       " '16',\n",
       " '18',\n",
       " '1st',\n",
       " '20',\n",
       " '2000',\n",
       " '250',\n",
       " '2lands',\n",
       " '2nd',\n",
       " '30',\n",
       " '50',\n",
       " '500',\n",
       " '5000',\n",
       " '750',\n",
       " '800',\n",
       " '8007',\n",
       " '86688',\n",
       " 'able',\n",
       " 'abt',\n",
       " 'account',\n",
       " 'actually',\n",
       " 'address',\n",
       " 'aft',\n",
       " 'afternoon',\n",
       " 'age',\n",
       " 'ago',\n",
       " 'ah',\n",
       " 'aight',\n",
       " 'alright',\n",
       " 'amp',\n",
       " 'angry',\n",
       " 'answer',\n",
       " 'anytime',\n",
       " 'apply',\n",
       " 'ard',\n",
       " 'ask',\n",
       " 'asked',\n",
       " 'ass',\n",
       " 'attempt',\n",
       " 'auction',\n",
       " 'available',\n",
       " 'await',\n",
       " 'award',\n",
       " 'awarded',\n",
       " 'away',\n",
       " 'awesome',\n",
       " 'babe',\n",
       " 'baby',\n",
       " 'bad',\n",
       " 'balance',\n",
       " 'bcoz',\n",
       " 'beautiful',\n",
       " 'bed',\n",
       " 'believe',\n",
       " 'best',\n",
       " 'better',\n",
       " 'big',\n",
       " 'birthday',\n",
       " 'bit',\n",
       " 'bonus',\n",
       " 'book',\n",
       " 'booked',\n",
       " 'bored',\n",
       " 'bout',\n",
       " 'box',\n",
       " 'boy',\n",
       " 'boytoy',\n",
       " 'break',\n",
       " 'bring',\n",
       " 'brother',\n",
       " 'bslvyl',\n",
       " 'bt',\n",
       " 'bus',\n",
       " 'busy',\n",
       " 'buy',\n",
       " 'call2optout',\n",
       " 'called',\n",
       " 'caller',\n",
       " 'calling',\n",
       " 'calls',\n",
       " 'camcorder',\n",
       " 'came',\n",
       " 'camera',\n",
       " 'car',\n",
       " 'card',\n",
       " 'care',\n",
       " 'carlos',\n",
       " 'cash',\n",
       " 'cause',\n",
       " 'chance',\n",
       " 'change',\n",
       " 'charge',\n",
       " 'chat',\n",
       " 'check',\n",
       " 'checking',\n",
       " 'chennai',\n",
       " 'chikku',\n",
       " 'choose',\n",
       " 'claim',\n",
       " 'class',\n",
       " 'close',\n",
       " 'club',\n",
       " 'code',\n",
       " 'collect',\n",
       " 'collection',\n",
       " 'college',\n",
       " 'colour',\n",
       " 'com',\n",
       " 'come',\n",
       " 'comes',\n",
       " 'coming',\n",
       " 'company',\n",
       " 'complimentary',\n",
       " 'computer',\n",
       " 'congrats',\n",
       " 'contact',\n",
       " 'content',\n",
       " 'cool',\n",
       " 'cos',\n",
       " 'cost',\n",
       " 'coz',\n",
       " 'crave',\n",
       " 'crazy',\n",
       " 'cs',\n",
       " 'cum',\n",
       " 'currently',\n",
       " 'customer',\n",
       " 'cut',\n",
       " 'da',\n",
       " 'dad',\n",
       " 'darren',\n",
       " 'dat',\n",
       " 'date',\n",
       " 'dating',\n",
       " 'day',\n",
       " 'days',\n",
       " 'dear',\n",
       " 'decimal',\n",
       " 'delivery',\n",
       " 'den',\n",
       " 'details',\n",
       " 'did',\n",
       " 'didn',\n",
       " 'didnt',\n",
       " 'difficult',\n",
       " 'dinner',\n",
       " 'dis',\n",
       " 'dnt',\n",
       " 'does',\n",
       " 'doesn',\n",
       " 'doing',\n",
       " 'don',\n",
       " 'dont',\n",
       " 'double',\n",
       " 'draw',\n",
       " 'dreams',\n",
       " 'drink',\n",
       " 'drive',\n",
       " 'driving',\n",
       " 'drop',\n",
       " 'dude',\n",
       " 'dun',\n",
       " 'dunno',\n",
       " 'earlier',\n",
       " 'early',\n",
       " 'easy',\n",
       " 'eat',\n",
       " 'eh',\n",
       " 'email',\n",
       " 'end',\n",
       " 'enjoy',\n",
       " 'entry',\n",
       " 'eve',\n",
       " 'evening',\n",
       " 'expires',\n",
       " 'extra',\n",
       " 'face',\n",
       " 'family',\n",
       " 'fancy',\n",
       " 'far',\n",
       " 'fast',\n",
       " 'feel',\n",
       " 'feeling',\n",
       " 'felt',\n",
       " 'final',\n",
       " 'finally',\n",
       " 'fine',\n",
       " 'finish',\n",
       " 'finished',\n",
       " 'fone',\n",
       " 'food',\n",
       " 'forget',\n",
       " 'forgot',\n",
       " 'fr',\n",
       " 'free',\n",
       " 'friday',\n",
       " 'friend',\n",
       " 'friends',\n",
       " 'friendship',\n",
       " 'fuck',\n",
       " 'fucking',\n",
       " 'fun',\n",
       " 'game',\n",
       " 'gas',\n",
       " 'gd',\n",
       " 'getting',\n",
       " 'gift',\n",
       " 'girl',\n",
       " 'girls',\n",
       " 'god',\n",
       " 'goes',\n",
       " 'goin',\n",
       " 'going',\n",
       " 'gone',\n",
       " 'gonna',\n",
       " 'good',\n",
       " 'got',\n",
       " 'gr8',\n",
       " 'great',\n",
       " 'grins',\n",
       " 'gt',\n",
       " 'guaranteed',\n",
       " 'gud',\n",
       " 'guess',\n",
       " 'guy',\n",
       " 'guys',\n",
       " 'gym',\n",
       " 'haf',\n",
       " 'haha',\n",
       " 'hair',\n",
       " 'half',\n",
       " 'happen',\n",
       " 'happened',\n",
       " 'happy',\n",
       " 'hard',\n",
       " 'hav',\n",
       " 'haven',\n",
       " 'havent',\n",
       " 'having',\n",
       " 'head',\n",
       " 'hear',\n",
       " 'heart',\n",
       " 'hello',\n",
       " 'help',\n",
       " 'hey',\n",
       " 'hi',\n",
       " 'hold',\n",
       " 'holiday',\n",
       " 'home',\n",
       " 'hope',\n",
       " 'hospital',\n",
       " 'hot',\n",
       " 'hour',\n",
       " 'hours',\n",
       " 'house',\n",
       " 'hows',\n",
       " 'http',\n",
       " 'huh',\n",
       " 'hungry',\n",
       " 'hurt',\n",
       " 'id',\n",
       " 'identifier',\n",
       " 'ill',\n",
       " 'im',\n",
       " 'important',\n",
       " 'india',\n",
       " 'info',\n",
       " 'invited',\n",
       " 'jay',\n",
       " 'job',\n",
       " 'join',\n",
       " 'jus',\n",
       " 'just',\n",
       " 'juz',\n",
       " 'kate',\n",
       " 'kind',\n",
       " 'kiss',\n",
       " 'know',\n",
       " 'land',\n",
       " 'landline',\n",
       " 'lar',\n",
       " 'late',\n",
       " 'later',\n",
       " 'latest',\n",
       " 'leave',\n",
       " 'leaving',\n",
       " 'left',\n",
       " 'leh',\n",
       " 'lei',\n",
       " 'lesson',\n",
       " 'let',\n",
       " 'lets',\n",
       " 'liao',\n",
       " 'life',\n",
       " 'light',\n",
       " 'like',\n",
       " 'line',\n",
       " 'little',\n",
       " 'live',\n",
       " 'll',\n",
       " 'loads',\n",
       " 'log',\n",
       " 'lol',\n",
       " 'long',\n",
       " 'look',\n",
       " 'looking',\n",
       " 'lor',\n",
       " 'lose',\n",
       " 'lost',\n",
       " 'lot',\n",
       " 'lots',\n",
       " 'love',\n",
       " 'lovely',\n",
       " 'loving',\n",
       " 'lt',\n",
       " 'lucky',\n",
       " 'lunch',\n",
       " 'luv',\n",
       " 'mah',\n",
       " 'mail',\n",
       " 'make',\n",
       " 'makes',\n",
       " 'making',\n",
       " 'man',\n",
       " 'march',\n",
       " 'mate',\n",
       " 'mates',\n",
       " 'mayb',\n",
       " 'maybe',\n",
       " 'mean',\n",
       " 'means',\n",
       " 'meant',\n",
       " 'meet',\n",
       " 'meeting',\n",
       " 'message',\n",
       " 'messages',\n",
       " 'min',\n",
       " 'mind',\n",
       " 'mins',\n",
       " 'minute',\n",
       " 'minutes',\n",
       " 'miss',\n",
       " 'missed',\n",
       " 'missing',\n",
       " 'mob',\n",
       " 'mobile',\n",
       " 'mobiles',\n",
       " 'mobileupd8',\n",
       " 'mom',\n",
       " 'money',\n",
       " 'month',\n",
       " 'morning',\n",
       " 'motorola',\n",
       " 'movie',\n",
       " 'mrng',\n",
       " 'msg',\n",
       " 'msgs',\n",
       " 'mum',\n",
       " 'music',\n",
       " 'national',\n",
       " 'need',\n",
       " 'needs',\n",
       " 'net',\n",
       " 'network',\n",
       " 'neva',\n",
       " 'new',\n",
       " 'news',\n",
       " 'ni8',\n",
       " 'nice',\n",
       " 'night',\n",
       " 'nite',\n",
       " 'noe',\n",
       " 'nokia',\n",
       " 'nope',\n",
       " 'nt',\n",
       " 'number',\n",
       " 'nyt',\n",
       " 'offer',\n",
       " 'offers',\n",
       " 'office',\n",
       " 'oh',\n",
       " 'ok',\n",
       " 'okay',\n",
       " 'okie',\n",
       " 'old',\n",
       " 'online',\n",
       " 'open',\n",
       " 'operator',\n",
       " 'opt',\n",
       " 'orange',\n",
       " 'orchard',\n",
       " 'order',\n",
       " 'oredi',\n",
       " 'oso',\n",
       " 'outside',\n",
       " 'pa',\n",
       " 'pain',\n",
       " 'park',\n",
       " 'pass',\n",
       " 'pay',\n",
       " 'people',\n",
       " 'person',\n",
       " 'phone',\n",
       " 'pic',\n",
       " 'pick',\n",
       " 'picking',\n",
       " 'pics',\n",
       " 'place',\n",
       " 'plan',\n",
       " 'plans',\n",
       " 'play',\n",
       " 'player',\n",
       " 'pls',\n",
       " 'plus',\n",
       " 'plz',\n",
       " 'pm',\n",
       " 'po',\n",
       " 'pobox',\n",
       " 'points',\n",
       " 'poly',\n",
       " 'post',\n",
       " 'pounds',\n",
       " 'price',\n",
       " 'princess',\n",
       " 'private',\n",
       " 'prize',\n",
       " 'prob',\n",
       " 'probably',\n",
       " 'problem',\n",
       " 'project',\n",
       " 'pub',\n",
       " 'question',\n",
       " 'questions',\n",
       " 'quite',\n",
       " 'quiz',\n",
       " 'rate',\n",
       " 'reach',\n",
       " 'ready',\n",
       " 'real',\n",
       " 'really',\n",
       " 'reason',\n",
       " 'receive',\n",
       " 'remember',\n",
       " 'rental',\n",
       " 'reply',\n",
       " 'representative',\n",
       " 'right',\n",
       " 'ring',\n",
       " 'ringtone',\n",
       " 'rite',\n",
       " 'room',\n",
       " 'row',\n",
       " 'run',\n",
       " 'sad',\n",
       " 'sae',\n",
       " 'said',\n",
       " 'sat',\n",
       " 'saturday',\n",
       " 'saw',\n",
       " 'say',\n",
       " 'saying',\n",
       " 'says',\n",
       " 'sch',\n",
       " 'school',\n",
       " 'sea',\n",
       " 'search',\n",
       " 'second',\n",
       " 'secret',\n",
       " 'seeing',\n",
       " 'selected',\n",
       " 'send',\n",
       " 'sending',\n",
       " 'sent',\n",
       " 'service',\n",
       " 'services',\n",
       " 'set',\n",
       " 'sex',\n",
       " 'sexy',\n",
       " 'shall',\n",
       " 'shit',\n",
       " 'shop',\n",
       " 'shopping',\n",
       " 'shower',\n",
       " 'shows',\n",
       " 'sir',\n",
       " 'sis',\n",
       " 'sister',\n",
       " 'sleep',\n",
       " 'sleeping',\n",
       " 'smile',\n",
       " 'sms',\n",
       " 'smth',\n",
       " 'soon',\n",
       " 'sorry',\n",
       " 'sounds',\n",
       " 'speak',\n",
       " 'special',\n",
       " 'start',\n",
       " 'started',\n",
       " 'statement',\n",
       " 'stay',\n",
       " 'stop',\n",
       " 'story',\n",
       " 'stuff',\n",
       " 'stupid',\n",
       " 'suite342',\n",
       " 'sun',\n",
       " 'sure',\n",
       " 'sweet',\n",
       " 'takes',\n",
       " 'taking',\n",
       " 'talk',\n",
       " 'talking',\n",
       " 'tc',\n",
       " 'tel',\n",
       " 'tell',\n",
       " 'telling',\n",
       " 'test',\n",
       " 'text',\n",
       " 'texts',\n",
       " 'thank',\n",
       " 'thanks',\n",
       " 'thanx',\n",
       " 'thats',\n",
       " 'thing',\n",
       " 'things',\n",
       " 'think',\n",
       " 'thinking',\n",
       " 'thinks',\n",
       " 'thk',\n",
       " 'tho',\n",
       " 'thought',\n",
       " 'til',\n",
       " 'till',\n",
       " 'time',\n",
       " 'times',\n",
       " 'tired',\n",
       " 'tmr',\n",
       " 'today',\n",
       " 'todays',\n",
       " 'told',\n",
       " 'tomo',\n",
       " 'tomorrow',\n",
       " 'tone',\n",
       " 'tones',\n",
       " 'tonight',\n",
       " 'took',\n",
       " 'tot',\n",
       " 'touch',\n",
       " 'town',\n",
       " 'treat',\n",
       " 'tried',\n",
       " 'trip',\n",
       " 'true',\n",
       " 'try',\n",
       " 'trying',\n",
       " 'tv',\n",
       " 'txt',\n",
       " 'txting',\n",
       " 'txts',\n",
       " 'type',\n",
       " 'uk',\n",
       " 'uncle',\n",
       " 'understand',\n",
       " 'unsubscribe',\n",
       " 'update',\n",
       " 'ur',\n",
       " 'urgent',\n",
       " 'use',\n",
       " 'used',\n",
       " 'usf',\n",
       " 'valid',\n",
       " 've',\n",
       " 'video',\n",
       " 'voucher',\n",
       " 'vouchers',\n",
       " 'wait',\n",
       " 'waiting',\n",
       " 'wake',\n",
       " 'walk',\n",
       " 'wan',\n",
       " 'wana',\n",
       " 'wanna',\n",
       " 'want',\n",
       " 'wanted',\n",
       " 'wants',\n",
       " 'wat',\n",
       " 'watch',\n",
       " 'watching',\n",
       " 'water',\n",
       " 'way',\n",
       " 'week',\n",
       " 'weekend',\n",
       " 'weekly',\n",
       " 'weeks',\n",
       " 'welcome',\n",
       " 'wen',\n",
       " 'went',\n",
       " 'whats',\n",
       " 'wid',\n",
       " 'wif',\n",
       " 'wife',\n",
       " 'wil',\n",
       " 'win',\n",
       " 'wish',\n",
       " 'wk',\n",
       " 'wkly',\n",
       " 'won',\n",
       " 'wonderful',\n",
       " 'wont',\n",
       " 'word',\n",
       " 'words',\n",
       " 'work',\n",
       " 'working',\n",
       " 'world',\n",
       " 'worry',\n",
       " 'worth',\n",
       " 'wot',\n",
       " 'wow',\n",
       " 'wrong',\n",
       " 'www',\n",
       " 'xmas',\n",
       " 'xx',\n",
       " 'xxx',\n",
       " 'ya',\n",
       " 'yar',\n",
       " 'yeah',\n",
       " 'year',\n",
       " 'years',\n",
       " 'yep',\n",
       " 'yes',\n",
       " 'yesterday',\n",
       " 'yo',\n",
       " 'yr',\n",
       " 'yup']"
      ]
     },
     "execution_count": 140,
     "metadata": {},
     "output_type": "execute_result"
    }
   ],
   "source": [
    "list(words.index)"
   ]
  },
  {
   "cell_type": "code",
   "execution_count": 141,
   "metadata": {},
   "outputs": [],
   "source": [
    "# calculate the ratio of ham-to-spam and spam-to-ham for each word\n",
    "words['ham_ratio'] = words.ham/words.spam\n",
    "words['spam_ratio'] = words.spam/words.ham"
   ]
  },
  {
   "cell_type": "code",
   "execution_count": 142,
   "metadata": {},
   "outputs": [
    {
     "data": {
      "text/html": [
       "<div>\n",
       "<style scoped>\n",
       "    .dataframe tbody tr th:only-of-type {\n",
       "        vertical-align: middle;\n",
       "    }\n",
       "\n",
       "    .dataframe tbody tr th {\n",
       "        vertical-align: top;\n",
       "    }\n",
       "\n",
       "    .dataframe thead th {\n",
       "        text-align: right;\n",
       "    }\n",
       "</style>\n",
       "<table border=\"1\" class=\"dataframe\">\n",
       "  <thead>\n",
       "    <tr style=\"text-align: right;\">\n",
       "      <th></th>\n",
       "      <th>ham</th>\n",
       "      <th>spam</th>\n",
       "      <th>ham_ratio</th>\n",
       "      <th>spam_ratio</th>\n",
       "    </tr>\n",
       "    <tr>\n",
       "      <th>word</th>\n",
       "      <th></th>\n",
       "      <th></th>\n",
       "      <th></th>\n",
       "      <th></th>\n",
       "    </tr>\n",
       "  </thead>\n",
       "  <tbody>\n",
       "    <tr>\n",
       "      <th>claim</th>\n",
       "      <td>0.000062</td>\n",
       "      <td>0.013666</td>\n",
       "      <td>0.004506</td>\n",
       "      <td>221.940273</td>\n",
       "    </tr>\n",
       "    <tr>\n",
       "      <th>prize</th>\n",
       "      <td>0.000062</td>\n",
       "      <td>0.011810</td>\n",
       "      <td>0.005214</td>\n",
       "      <td>191.800236</td>\n",
       "    </tr>\n",
       "    <tr>\n",
       "      <th>150p</th>\n",
       "      <td>0.000062</td>\n",
       "      <td>0.009786</td>\n",
       "      <td>0.006292</td>\n",
       "      <td>158.920196</td>\n",
       "    </tr>\n",
       "    <tr>\n",
       "      <th>tone</th>\n",
       "      <td>0.000062</td>\n",
       "      <td>0.008436</td>\n",
       "      <td>0.007299</td>\n",
       "      <td>137.000169</td>\n",
       "    </tr>\n",
       "    <tr>\n",
       "      <th>guaranteed</th>\n",
       "      <td>0.000062</td>\n",
       "      <td>0.007086</td>\n",
       "      <td>0.008690</td>\n",
       "      <td>115.080142</td>\n",
       "    </tr>\n",
       "    <tr>\n",
       "      <th>18</th>\n",
       "      <td>0.000062</td>\n",
       "      <td>0.006580</td>\n",
       "      <td>0.009358</td>\n",
       "      <td>106.860132</td>\n",
       "    </tr>\n",
       "    <tr>\n",
       "      <th>500</th>\n",
       "      <td>0.000062</td>\n",
       "      <td>0.006243</td>\n",
       "      <td>0.009864</td>\n",
       "      <td>101.380125</td>\n",
       "    </tr>\n",
       "    <tr>\n",
       "      <th>1000</th>\n",
       "      <td>0.000062</td>\n",
       "      <td>0.006074</td>\n",
       "      <td>0.010138</td>\n",
       "      <td>98.640121</td>\n",
       "    </tr>\n",
       "    <tr>\n",
       "      <th>cs</th>\n",
       "      <td>0.000062</td>\n",
       "      <td>0.005399</td>\n",
       "      <td>0.011405</td>\n",
       "      <td>87.680108</td>\n",
       "    </tr>\n",
       "    <tr>\n",
       "      <th>uk</th>\n",
       "      <td>0.000123</td>\n",
       "      <td>0.009280</td>\n",
       "      <td>0.013271</td>\n",
       "      <td>75.350093</td>\n",
       "    </tr>\n",
       "    <tr>\n",
       "      <th>150ppm</th>\n",
       "      <td>0.000062</td>\n",
       "      <td>0.004555</td>\n",
       "      <td>0.013517</td>\n",
       "      <td>73.980091</td>\n",
       "    </tr>\n",
       "    <tr>\n",
       "      <th>awarded</th>\n",
       "      <td>0.000062</td>\n",
       "      <td>0.004555</td>\n",
       "      <td>0.013517</td>\n",
       "      <td>73.980091</td>\n",
       "    </tr>\n",
       "    <tr>\n",
       "      <th>ringtone</th>\n",
       "      <td>0.000062</td>\n",
       "      <td>0.004218</td>\n",
       "      <td>0.014599</td>\n",
       "      <td>68.500084</td>\n",
       "    </tr>\n",
       "    <tr>\n",
       "      <th>000</th>\n",
       "      <td>0.000062</td>\n",
       "      <td>0.004049</td>\n",
       "      <td>0.015207</td>\n",
       "      <td>65.760081</td>\n",
       "    </tr>\n",
       "    <tr>\n",
       "      <th>www</th>\n",
       "      <td>0.000185</td>\n",
       "      <td>0.011979</td>\n",
       "      <td>0.015421</td>\n",
       "      <td>64.846747</td>\n",
       "    </tr>\n",
       "    <tr>\n",
       "      <th>2000</th>\n",
       "      <td>0.000062</td>\n",
       "      <td>0.003881</td>\n",
       "      <td>0.015868</td>\n",
       "      <td>63.020078</td>\n",
       "    </tr>\n",
       "    <tr>\n",
       "      <th>tones</th>\n",
       "      <td>0.000062</td>\n",
       "      <td>0.003543</td>\n",
       "      <td>0.017379</td>\n",
       "      <td>57.540071</td>\n",
       "    </tr>\n",
       "    <tr>\n",
       "      <th>16</th>\n",
       "      <td>0.000123</td>\n",
       "      <td>0.006917</td>\n",
       "      <td>0.017803</td>\n",
       "      <td>56.170069</td>\n",
       "    </tr>\n",
       "    <tr>\n",
       "      <th>mob</th>\n",
       "      <td>0.000062</td>\n",
       "      <td>0.003374</td>\n",
       "      <td>0.018248</td>\n",
       "      <td>54.800067</td>\n",
       "    </tr>\n",
       "    <tr>\n",
       "      <th>5000</th>\n",
       "      <td>0.000062</td>\n",
       "      <td>0.003374</td>\n",
       "      <td>0.018248</td>\n",
       "      <td>54.800067</td>\n",
       "    </tr>\n",
       "  </tbody>\n",
       "</table>\n",
       "</div>"
      ],
      "text/plain": [
       "                 ham      spam  ham_ratio  spam_ratio\n",
       "word                                                 \n",
       "claim       0.000062  0.013666   0.004506  221.940273\n",
       "prize       0.000062  0.011810   0.005214  191.800236\n",
       "150p        0.000062  0.009786   0.006292  158.920196\n",
       "tone        0.000062  0.008436   0.007299  137.000169\n",
       "guaranteed  0.000062  0.007086   0.008690  115.080142\n",
       "18          0.000062  0.006580   0.009358  106.860132\n",
       "500         0.000062  0.006243   0.009864  101.380125\n",
       "1000        0.000062  0.006074   0.010138   98.640121\n",
       "cs          0.000062  0.005399   0.011405   87.680108\n",
       "uk          0.000123  0.009280   0.013271   75.350093\n",
       "150ppm      0.000062  0.004555   0.013517   73.980091\n",
       "awarded     0.000062  0.004555   0.013517   73.980091\n",
       "ringtone    0.000062  0.004218   0.014599   68.500084\n",
       "000         0.000062  0.004049   0.015207   65.760081\n",
       "www         0.000185  0.011979   0.015421   64.846747\n",
       "2000        0.000062  0.003881   0.015868   63.020078\n",
       "tones       0.000062  0.003543   0.017379   57.540071\n",
       "16          0.000123  0.006917   0.017803   56.170069\n",
       "mob         0.000062  0.003374   0.018248   54.800067\n",
       "5000        0.000062  0.003374   0.018248   54.800067"
      ]
     },
     "execution_count": 142,
     "metadata": {},
     "output_type": "execute_result"
    }
   ],
   "source": [
    "# top 20 spam words\n",
    "words.sort_values(by='spam_ratio', ascending=False).head(20)"
   ]
  },
  {
   "cell_type": "code",
   "execution_count": 143,
   "metadata": {},
   "outputs": [
    {
     "data": {
      "text/html": [
       "<div>\n",
       "<style scoped>\n",
       "    .dataframe tbody tr th:only-of-type {\n",
       "        vertical-align: middle;\n",
       "    }\n",
       "\n",
       "    .dataframe tbody tr th {\n",
       "        vertical-align: top;\n",
       "    }\n",
       "\n",
       "    .dataframe thead th {\n",
       "        text-align: right;\n",
       "    }\n",
       "</style>\n",
       "<table border=\"1\" class=\"dataframe\">\n",
       "  <thead>\n",
       "    <tr style=\"text-align: right;\">\n",
       "      <th></th>\n",
       "      <th>ham</th>\n",
       "      <th>spam</th>\n",
       "      <th>ham_ratio</th>\n",
       "      <th>spam_ratio</th>\n",
       "    </tr>\n",
       "    <tr>\n",
       "      <th>word</th>\n",
       "      <th></th>\n",
       "      <th></th>\n",
       "      <th></th>\n",
       "      <th></th>\n",
       "    </tr>\n",
       "  </thead>\n",
       "  <tbody>\n",
       "    <tr>\n",
       "      <th>gt</th>\n",
       "      <td>0.015271</td>\n",
       "      <td>0.000169</td>\n",
       "      <td>90.510837</td>\n",
       "      <td>0.011048</td>\n",
       "    </tr>\n",
       "    <tr>\n",
       "      <th>lt</th>\n",
       "      <td>0.015148</td>\n",
       "      <td>0.000169</td>\n",
       "      <td>89.780911</td>\n",
       "      <td>0.011138</td>\n",
       "    </tr>\n",
       "    <tr>\n",
       "      <th>lor</th>\n",
       "      <td>0.007512</td>\n",
       "      <td>0.000169</td>\n",
       "      <td>44.525493</td>\n",
       "      <td>0.022459</td>\n",
       "    </tr>\n",
       "    <tr>\n",
       "      <th>da</th>\n",
       "      <td>0.007204</td>\n",
       "      <td>0.000169</td>\n",
       "      <td>42.700677</td>\n",
       "      <td>0.023419</td>\n",
       "    </tr>\n",
       "    <tr>\n",
       "      <th>later</th>\n",
       "      <td>0.006589</td>\n",
       "      <td>0.000169</td>\n",
       "      <td>39.051047</td>\n",
       "      <td>0.025608</td>\n",
       "    </tr>\n",
       "    <tr>\n",
       "      <th>did</th>\n",
       "      <td>0.006219</td>\n",
       "      <td>0.000169</td>\n",
       "      <td>36.861268</td>\n",
       "      <td>0.027129</td>\n",
       "    </tr>\n",
       "    <tr>\n",
       "      <th>ask</th>\n",
       "      <td>0.004865</td>\n",
       "      <td>0.000169</td>\n",
       "      <td>28.832081</td>\n",
       "      <td>0.034684</td>\n",
       "    </tr>\n",
       "    <tr>\n",
       "      <th>said</th>\n",
       "      <td>0.004002</td>\n",
       "      <td>0.000169</td>\n",
       "      <td>23.722599</td>\n",
       "      <td>0.042154</td>\n",
       "    </tr>\n",
       "    <tr>\n",
       "      <th>doing</th>\n",
       "      <td>0.004002</td>\n",
       "      <td>0.000169</td>\n",
       "      <td>23.722599</td>\n",
       "      <td>0.042154</td>\n",
       "    </tr>\n",
       "    <tr>\n",
       "      <th>amp</th>\n",
       "      <td>0.003941</td>\n",
       "      <td>0.000169</td>\n",
       "      <td>23.357635</td>\n",
       "      <td>0.042813</td>\n",
       "    </tr>\n",
       "    <tr>\n",
       "      <th>home</th>\n",
       "      <td>0.007820</td>\n",
       "      <td>0.000337</td>\n",
       "      <td>23.175154</td>\n",
       "      <td>0.043150</td>\n",
       "    </tr>\n",
       "    <tr>\n",
       "      <th>sure</th>\n",
       "      <td>0.003879</td>\n",
       "      <td>0.000169</td>\n",
       "      <td>22.992672</td>\n",
       "      <td>0.043492</td>\n",
       "    </tr>\n",
       "    <tr>\n",
       "      <th>morning</th>\n",
       "      <td>0.003695</td>\n",
       "      <td>0.000169</td>\n",
       "      <td>21.897783</td>\n",
       "      <td>0.045667</td>\n",
       "    </tr>\n",
       "    <tr>\n",
       "      <th>cos</th>\n",
       "      <td>0.003633</td>\n",
       "      <td>0.000169</td>\n",
       "      <td>21.532820</td>\n",
       "      <td>0.046441</td>\n",
       "    </tr>\n",
       "    <tr>\n",
       "      <th>come</th>\n",
       "      <td>0.010776</td>\n",
       "      <td>0.000506</td>\n",
       "      <td>21.289511</td>\n",
       "      <td>0.046971</td>\n",
       "    </tr>\n",
       "    <tr>\n",
       "      <th>lol</th>\n",
       "      <td>0.003571</td>\n",
       "      <td>0.000169</td>\n",
       "      <td>21.167857</td>\n",
       "      <td>0.047241</td>\n",
       "    </tr>\n",
       "    <tr>\n",
       "      <th>ok</th>\n",
       "      <td>0.013362</td>\n",
       "      <td>0.000675</td>\n",
       "      <td>19.799246</td>\n",
       "      <td>0.050507</td>\n",
       "    </tr>\n",
       "    <tr>\n",
       "      <th>ll</th>\n",
       "      <td>0.012623</td>\n",
       "      <td>0.000675</td>\n",
       "      <td>18.704357</td>\n",
       "      <td>0.053463</td>\n",
       "    </tr>\n",
       "    <tr>\n",
       "      <th>went</th>\n",
       "      <td>0.003079</td>\n",
       "      <td>0.000169</td>\n",
       "      <td>18.248153</td>\n",
       "      <td>0.054800</td>\n",
       "    </tr>\n",
       "    <tr>\n",
       "      <th>feel</th>\n",
       "      <td>0.002956</td>\n",
       "      <td>0.000169</td>\n",
       "      <td>17.518227</td>\n",
       "      <td>0.057083</td>\n",
       "    </tr>\n",
       "  </tbody>\n",
       "</table>\n",
       "</div>"
      ],
      "text/plain": [
       "              ham      spam  ham_ratio  spam_ratio\n",
       "word                                              \n",
       "gt       0.015271  0.000169  90.510837    0.011048\n",
       "lt       0.015148  0.000169  89.780911    0.011138\n",
       "lor      0.007512  0.000169  44.525493    0.022459\n",
       "da       0.007204  0.000169  42.700677    0.023419\n",
       "later    0.006589  0.000169  39.051047    0.025608\n",
       "did      0.006219  0.000169  36.861268    0.027129\n",
       "ask      0.004865  0.000169  28.832081    0.034684\n",
       "said     0.004002  0.000169  23.722599    0.042154\n",
       "doing    0.004002  0.000169  23.722599    0.042154\n",
       "amp      0.003941  0.000169  23.357635    0.042813\n",
       "home     0.007820  0.000337  23.175154    0.043150\n",
       "sure     0.003879  0.000169  22.992672    0.043492\n",
       "morning  0.003695  0.000169  21.897783    0.045667\n",
       "cos      0.003633  0.000169  21.532820    0.046441\n",
       "come     0.010776  0.000506  21.289511    0.046971\n",
       "lol      0.003571  0.000169  21.167857    0.047241\n",
       "ok       0.013362  0.000675  19.799246    0.050507\n",
       "ll       0.012623  0.000675  18.704357    0.053463\n",
       "went     0.003079  0.000169  18.248153    0.054800\n",
       "feel     0.002956  0.000169  17.518227    0.057083"
      ]
     },
     "execution_count": 143,
     "metadata": {},
     "output_type": "execute_result"
    }
   ],
   "source": [
    "# top 20 ham words\n",
    "words.sort_values(by='ham_ratio', ascending=False).head(20)"
   ]
  },
  {
   "cell_type": "markdown",
   "metadata": {},
   "source": [
    "## Logistic Regression Model"
   ]
  },
  {
   "cell_type": "code",
   "execution_count": 79,
   "metadata": {},
   "outputs": [],
   "source": [
    "from sklearn.linear_model import LogisticRegression"
   ]
  },
  {
   "cell_type": "code",
   "execution_count": 80,
   "metadata": {},
   "outputs": [],
   "source": [
    "log_clf = LogisticRegression()"
   ]
  },
  {
   "cell_type": "code",
   "execution_count": 81,
   "metadata": {},
   "outputs": [
    {
     "data": {
      "text/plain": [
       "LogisticRegression()"
      ]
     },
     "execution_count": 81,
     "metadata": {},
     "output_type": "execute_result"
    }
   ],
   "source": [
    "log_clf.fit(X_train_dtm,y_train)"
   ]
  },
  {
   "cell_type": "code",
   "execution_count": 82,
   "metadata": {},
   "outputs": [],
   "source": [
    "y_test_pred = log_clf.predict(X_test_dtm)"
   ]
  },
  {
   "cell_type": "code",
   "execution_count": 83,
   "metadata": {},
   "outputs": [
    {
     "data": {
      "text/plain": [
       "0.9791816223977028"
      ]
     },
     "execution_count": 83,
     "metadata": {},
     "output_type": "execute_result"
    }
   ],
   "source": [
    "accuracy_score(y_test,y_test_pred)"
   ]
  },
  {
   "cell_type": "code",
   "execution_count": 84,
   "metadata": {
    "scrolled": true
   },
   "outputs": [
    {
     "data": {
      "text/plain": [
       "array([[1203,    0],\n",
       "       [  29,  161]], dtype=int64)"
      ]
     },
     "execution_count": 84,
     "metadata": {},
     "output_type": "execute_result"
    }
   ],
   "source": [
    "confusion_matrix(y_test,y_test_pred)"
   ]
  },
  {
   "cell_type": "code",
   "execution_count": 93,
   "metadata": {},
   "outputs": [
    {
     "name": "stdout",
     "output_type": "stream",
     "text": [
      "<Forwarded from 21870000>Hi - this is your Mailbox Messaging SMS alert. You have 4 messages. You have 21 matches. Please call back on 09056242159 to retrieve your messages and matches\n"
     ]
    }
   ],
   "source": [
    "print(X_test[(y_test == 'spam') & (y_test_pred == 'ham')].iloc[5])"
   ]
  },
  {
   "cell_type": "code",
   "execution_count": 98,
   "metadata": {},
   "outputs": [
    {
     "data": {
      "text/plain": [
       "<AxesSubplot:>"
      ]
     },
     "execution_count": 98,
     "metadata": {},
     "output_type": "execute_result"
    },
    {
     "data": {
      "image/png": "[encoded data removed]",
      "text/plain": [
       "<Figure size 360x1440 with 1 Axes>"
      ]
     },
     "metadata": {
      "needs_background": "light"
     },
     "output_type": "display_data"
    }
   ],
   "source": [
    "# top coefficients\n",
    "coeffs = pd.DataFrame(data = log_clf.coef_.T, index=vect.get_feature_names(),columns=['coefficient'])\n",
    "coeffs.sort_values(by='coefficient').tail(50).plot.barh(figsize=(5,20))"
   ]
  },
  {
   "cell_type": "code",
   "execution_count": 97,
   "metadata": {},
   "outputs": [
    {
     "data": {
      "text/plain": [
       "array(['ham', 'spam'], dtype=object)"
      ]
     },
     "execution_count": 97,
     "metadata": {},
     "output_type": "execute_result"
    }
   ],
   "source": [
    "log_clf.classes_"
   ]
  },
  {
   "cell_type": "markdown",
   "metadata": {},
   "source": [
    "# From occurrences to frequencies"
   ]
  },
  {
   "cell_type": "markdown",
   "metadata": {},
   "source": [
    "Occurrence count is a good start but there is an issue: longer documents will have higher average count values than shorter documents, even though they might talk about the same topics.\n",
    "\n",
    "To avoid these potential discrepancies it suffices to divide the number of occurrences of each word in a document by the total number of words in the document: these new features are called **tf (for Term Frequencies)**.\n",
    "\n",
    "Another refinement on top of tf is to downscale weights for words that occur in many documents in the corpus and are therefore less informative than those that occur only in a smaller portion of the corpus. This downscaling is called **tf–idf (for “Term Frequency times Inverse Document Frequency”)**."
   ]
  },
  {
   "cell_type": "markdown",
   "metadata": {},
   "source": [
    "Both tf and tf–idf can be computed using [TfidfTransformer](https://scikit-learn.org/stable/modules/generated/sklearn.feature_extraction.text.TfidfTransformer.html#sklearn.feature_extraction.text.TfidfTransformer)"
   ]
  },
  {
   "cell_type": "code",
   "execution_count": 13,
   "metadata": {},
   "outputs": [],
   "source": [
    "from sklearn.feature_extraction.text import TfidfTransformer"
   ]
  },
  {
   "cell_type": "code",
   "execution_count": 14,
   "metadata": {},
   "outputs": [],
   "source": [
    "# initialize\n",
    "tf_transformer = TfidfTransformer(use_idf=False) # use tf\n",
    "# fit\n",
    "tf_transformer.fit(X_train_dtm)\n",
    "# transform\n",
    "X_train_tf = tf_transformer.transform(X_train_dtm)\n",
    "X_test_tf = tf_transformer.transform(X_test_dtm)"
   ]
  },
  {
   "cell_type": "code",
   "execution_count": null,
   "metadata": {},
   "outputs": [],
   "source": [
    "log_clf.fit(X_train_tf,y_train)\n",
    "y_test_pred = log_clf.predict(X_test_tf)"
   ]
  },
  {
   "cell_type": "code",
   "execution_count": null,
   "metadata": {},
   "outputs": [],
   "source": [
    "accuracy_score(y_test,y_test_pred)"
   ]
  },
  {
   "cell_type": "code",
   "execution_count": null,
   "metadata": {},
   "outputs": [],
   "source": [
    "confusion_matrix(y_test,y_test_pred)"
   ]
  }
 ],
 "metadata": {
  "kernelspec": {
   "display_name": "Python 3",
   "language": "python",
   "name": "python3"
  },
  "language_info": {
   "codemirror_mode": {
    "name": "ipython",
    "version": 3
   },
   "file_extension": ".py",
   "mimetype": "text/x-python",
   "name": "python",
   "nbconvert_exporter": "python",
   "pygments_lexer": "ipython3",
   "version": "3.8.3"
  }
 },
 "nbformat": 4,
 "nbformat_minor": 4
}
