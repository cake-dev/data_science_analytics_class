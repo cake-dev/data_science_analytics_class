{
 "cells": [
  {
   "cell_type": "code",
   "execution_count": 1,
   "metadata": {},
   "outputs": [],
   "source": [
    "import pandas as pd\n",
    "import numpy as np\n",
    "import matplotlib.pyplot as plt"
   ]
  },
  {
   "cell_type": "code",
   "execution_count": 2,
   "metadata": {},
   "outputs": [],
   "source": [
    "from sklearn.metrics import accuracy_score, confusion_matrix, recall_score, precision_score"
   ]
  },
  {
   "cell_type": "code",
   "execution_count": 3,
   "metadata": {},
   "outputs": [],
   "source": [
    "from sklearn.linear_model import LogisticRegression\n",
    "from sklearn.model_selection import train_test_split"
   ]
  },
  {
   "cell_type": "markdown",
   "metadata": {},
   "source": [
    "# Adjusting the classification threshold"
   ]
  },
  {
   "cell_type": "markdown",
   "metadata": {},
   "source": [
    "- [Precision/Recall Trade-off](#Precision/Recall-Trade-off)\n",
    "- [ROC curve and AUC score](#ROC-curve-and-AUC-score)"
   ]
  },
  {
   "cell_type": "code",
   "execution_count": 4,
   "metadata": {},
   "outputs": [
    {
     "data": {
      "text/html": [
       "<div>\n",
       "<style scoped>\n",
       "    .dataframe tbody tr th:only-of-type {\n",
       "        vertical-align: middle;\n",
       "    }\n",
       "\n",
       "    .dataframe tbody tr th {\n",
       "        vertical-align: top;\n",
       "    }\n",
       "\n",
       "    .dataframe thead th {\n",
       "        text-align: right;\n",
       "    }\n",
       "</style>\n",
       "<table border=\"1\" class=\"dataframe\">\n",
       "  <thead>\n",
       "    <tr style=\"text-align: right;\">\n",
       "      <th></th>\n",
       "      <th>pregnant</th>\n",
       "      <th>glucose</th>\n",
       "      <th>bp</th>\n",
       "      <th>skin</th>\n",
       "      <th>insulin</th>\n",
       "      <th>bmi</th>\n",
       "      <th>pedigree</th>\n",
       "      <th>age</th>\n",
       "      <th>label</th>\n",
       "    </tr>\n",
       "  </thead>\n",
       "  <tbody>\n",
       "    <tr>\n",
       "      <th>0</th>\n",
       "      <td>6</td>\n",
       "      <td>148</td>\n",
       "      <td>72</td>\n",
       "      <td>35</td>\n",
       "      <td>0</td>\n",
       "      <td>33.6</td>\n",
       "      <td>0.627</td>\n",
       "      <td>50</td>\n",
       "      <td>1</td>\n",
       "    </tr>\n",
       "    <tr>\n",
       "      <th>1</th>\n",
       "      <td>1</td>\n",
       "      <td>85</td>\n",
       "      <td>66</td>\n",
       "      <td>29</td>\n",
       "      <td>0</td>\n",
       "      <td>26.6</td>\n",
       "      <td>0.351</td>\n",
       "      <td>31</td>\n",
       "      <td>0</td>\n",
       "    </tr>\n",
       "    <tr>\n",
       "      <th>2</th>\n",
       "      <td>8</td>\n",
       "      <td>183</td>\n",
       "      <td>64</td>\n",
       "      <td>0</td>\n",
       "      <td>0</td>\n",
       "      <td>23.3</td>\n",
       "      <td>0.672</td>\n",
       "      <td>32</td>\n",
       "      <td>1</td>\n",
       "    </tr>\n",
       "    <tr>\n",
       "      <th>3</th>\n",
       "      <td>1</td>\n",
       "      <td>89</td>\n",
       "      <td>66</td>\n",
       "      <td>23</td>\n",
       "      <td>94</td>\n",
       "      <td>28.1</td>\n",
       "      <td>0.167</td>\n",
       "      <td>21</td>\n",
       "      <td>0</td>\n",
       "    </tr>\n",
       "    <tr>\n",
       "      <th>4</th>\n",
       "      <td>0</td>\n",
       "      <td>137</td>\n",
       "      <td>40</td>\n",
       "      <td>35</td>\n",
       "      <td>168</td>\n",
       "      <td>43.1</td>\n",
       "      <td>2.288</td>\n",
       "      <td>33</td>\n",
       "      <td>1</td>\n",
       "    </tr>\n",
       "  </tbody>\n",
       "</table>\n",
       "</div>"
      ],
      "text/plain": [
       "   pregnant  glucose  bp  skin  insulin   bmi  pedigree  age  label\n",
       "0         6      148  72    35        0  33.6     0.627   50      1\n",
       "1         1       85  66    29        0  26.6     0.351   31      0\n",
       "2         8      183  64     0        0  23.3     0.672   32      1\n",
       "3         1       89  66    23       94  28.1     0.167   21      0\n",
       "4         0      137  40    35      168  43.1     2.288   33      1"
      ]
     },
     "execution_count": 4,
     "metadata": {},
     "output_type": "execute_result"
    }
   ],
   "source": [
    "# load the pima indian dataset\n",
    "url = 'https://raw.githubusercontent.com/um-perez-alvaro/Data-Science-Practice/master/Data/pima.csv'\n",
    "pima = pd.read_csv(url)\n",
    "pima.head()"
   ]
  },
  {
   "cell_type": "code",
   "execution_count": 5,
   "metadata": {},
   "outputs": [
    {
     "data": {
      "text/plain": [
       "(768, 9)"
      ]
     },
     "execution_count": 5,
     "metadata": {},
     "output_type": "execute_result"
    }
   ],
   "source": [
    "pima.shape"
   ]
  },
  {
   "cell_type": "code",
   "execution_count": 6,
   "metadata": {},
   "outputs": [
    {
     "data": {
      "text/plain": [
       "LogisticRegression(max_iter=1000)"
      ]
     },
     "execution_count": 6,
     "metadata": {},
     "output_type": "execute_result"
    }
   ],
   "source": [
    "# define X and y\n",
    "X = pima.drop('label',axis=1)\n",
    "y = pima.label\n",
    "\n",
    "# train/test split\n",
    "X_train,X_test,y_train,y_test = train_test_split(X,y)\n",
    "\n",
    "# instantiate the logistic regression classifier\n",
    "logreg_clf = LogisticRegression(max_iter=1000)\n",
    "\n",
    "# train the model\n",
    "logreg_clf.fit(X_train,y_train)"
   ]
  },
  {
   "cell_type": "markdown",
   "metadata": {},
   "source": [
    "Let's look at how the classifier makes its prediction. \n",
    "For each patient, logistic regression computes the probability of that patient having diabetes"
   ]
  },
  {
   "cell_type": "code",
   "execution_count": 7,
   "metadata": {},
   "outputs": [
    {
     "data": {
      "text/plain": [
       "array([[0.86086936, 0.13913064],\n",
       "       [0.77563601, 0.22436399],\n",
       "       [0.83636204, 0.16363796],\n",
       "       [0.25501744, 0.74498256],\n",
       "       [0.59274389, 0.40725611],\n",
       "       [0.58810704, 0.41189296],\n",
       "       [0.04113069, 0.95886931],\n",
       "       [0.53757078, 0.46242922],\n",
       "       [0.97672119, 0.02327881],\n",
       "       [0.25578526, 0.74421474],\n",
       "       [0.15335111, 0.84664889],\n",
       "       [0.48896133, 0.51103867],\n",
       "       [0.76366794, 0.23633206],\n",
       "       [0.31686107, 0.68313893],\n",
       "       [0.5545213 , 0.4454787 ],\n",
       "       [0.57036545, 0.42963455],\n",
       "       [0.71379818, 0.28620182],\n",
       "       [0.72734579, 0.27265421],\n",
       "       [0.86452363, 0.13547637],\n",
       "       [0.81302689, 0.18697311],\n",
       "       [0.29820281, 0.70179719],\n",
       "       [0.84466538, 0.15533462],\n",
       "       [0.80145652, 0.19854348],\n",
       "       [0.89220008, 0.10779992],\n",
       "       [0.49776934, 0.50223066],\n",
       "       [0.89788955, 0.10211045],\n",
       "       [0.61020942, 0.38979058],\n",
       "       [0.54181883, 0.45818117],\n",
       "       [0.59745161, 0.40254839],\n",
       "       [0.92159576, 0.07840424],\n",
       "       [0.79978761, 0.20021239],\n",
       "       [0.84191214, 0.15808786],\n",
       "       [0.94948914, 0.05051086],\n",
       "       [0.43894429, 0.56105571],\n",
       "       [0.91689818, 0.08310182],\n",
       "       [0.19410706, 0.80589294],\n",
       "       [0.79036648, 0.20963352],\n",
       "       [0.7956366 , 0.2043634 ],\n",
       "       [0.21213145, 0.78786855],\n",
       "       [0.55385156, 0.44614844],\n",
       "       [0.8888401 , 0.1111599 ],\n",
       "       [0.2235011 , 0.7764989 ],\n",
       "       [0.55209623, 0.44790377],\n",
       "       [0.48378444, 0.51621556],\n",
       "       [0.86524576, 0.13475424],\n",
       "       [0.1815353 , 0.8184647 ],\n",
       "       [0.84612718, 0.15387282],\n",
       "       [0.80973218, 0.19026782],\n",
       "       [0.81231006, 0.18768994],\n",
       "       [0.91603639, 0.08396361],\n",
       "       [0.50834946, 0.49165054],\n",
       "       [0.86214869, 0.13785131],\n",
       "       [0.92202108, 0.07797892],\n",
       "       [0.86249444, 0.13750556],\n",
       "       [0.78211474, 0.21788526],\n",
       "       [0.99498599, 0.00501401],\n",
       "       [0.24646351, 0.75353649],\n",
       "       [0.62278972, 0.37721028],\n",
       "       [0.09508626, 0.90491374],\n",
       "       [0.19140487, 0.80859513],\n",
       "       [0.46997649, 0.53002351],\n",
       "       [0.57332405, 0.42667595],\n",
       "       [0.38981641, 0.61018359],\n",
       "       [0.61839581, 0.38160419],\n",
       "       [0.69215515, 0.30784485],\n",
       "       [0.82975505, 0.17024495],\n",
       "       [0.25919943, 0.74080057],\n",
       "       [0.62349247, 0.37650753],\n",
       "       [0.90069688, 0.09930312],\n",
       "       [0.88222084, 0.11777916],\n",
       "       [0.195403  , 0.804597  ],\n",
       "       [0.4575634 , 0.5424366 ],\n",
       "       [0.88654133, 0.11345867],\n",
       "       [0.69485794, 0.30514206],\n",
       "       [0.56135033, 0.43864967],\n",
       "       [0.7853532 , 0.2146468 ],\n",
       "       [0.16253109, 0.83746891],\n",
       "       [0.28265625, 0.71734375],\n",
       "       [0.59606043, 0.40393957],\n",
       "       [0.20863599, 0.79136401],\n",
       "       [0.52553618, 0.47446382],\n",
       "       [0.82829225, 0.17170775],\n",
       "       [0.35522654, 0.64477346],\n",
       "       [0.87638337, 0.12361663],\n",
       "       [0.92171646, 0.07828354],\n",
       "       [0.77148233, 0.22851767],\n",
       "       [0.67068003, 0.32931997],\n",
       "       [0.69775163, 0.30224837],\n",
       "       [0.38976256, 0.61023744],\n",
       "       [0.9237472 , 0.0762528 ],\n",
       "       [0.26689174, 0.73310826],\n",
       "       [0.12434172, 0.87565828],\n",
       "       [0.79478327, 0.20521673],\n",
       "       [0.85190274, 0.14809726],\n",
       "       [0.71746258, 0.28253742],\n",
       "       [0.75176774, 0.24823226],\n",
       "       [0.79417336, 0.20582664],\n",
       "       [0.69251967, 0.30748033],\n",
       "       [0.36021661, 0.63978339],\n",
       "       [0.32095145, 0.67904855],\n",
       "       [0.8352137 , 0.1647863 ],\n",
       "       [0.40328249, 0.59671751],\n",
       "       [0.25861876, 0.74138124],\n",
       "       [0.85298089, 0.14701911],\n",
       "       [0.21326981, 0.78673019],\n",
       "       [0.28078106, 0.71921894],\n",
       "       [0.98871851, 0.01128149],\n",
       "       [0.87027968, 0.12972032],\n",
       "       [0.33369084, 0.66630916],\n",
       "       [0.69159054, 0.30840946],\n",
       "       [0.65554733, 0.34445267],\n",
       "       [0.60444815, 0.39555185],\n",
       "       [0.12193581, 0.87806419],\n",
       "       [0.83740411, 0.16259589],\n",
       "       [0.61744885, 0.38255115],\n",
       "       [0.2913878 , 0.7086122 ],\n",
       "       [0.58740384, 0.41259616],\n",
       "       [0.49106054, 0.50893946],\n",
       "       [0.42638359, 0.57361641],\n",
       "       [0.78515777, 0.21484223],\n",
       "       [0.34335034, 0.65664966],\n",
       "       [0.8425577 , 0.1574423 ],\n",
       "       [0.49343821, 0.50656179],\n",
       "       [0.39232124, 0.60767876],\n",
       "       [0.92197497, 0.07802503],\n",
       "       [0.75783864, 0.24216136],\n",
       "       [0.80469658, 0.19530342],\n",
       "       [0.95829229, 0.04170771],\n",
       "       [0.47067111, 0.52932889],\n",
       "       [0.93111921, 0.06888079],\n",
       "       [0.86474077, 0.13525923],\n",
       "       [0.7985783 , 0.2014217 ],\n",
       "       [0.8439498 , 0.1560502 ],\n",
       "       [0.92066786, 0.07933214],\n",
       "       [0.63928724, 0.36071276],\n",
       "       [0.88229796, 0.11770204],\n",
       "       [0.748558  , 0.251442  ],\n",
       "       [0.18749261, 0.81250739],\n",
       "       [0.6743766 , 0.3256234 ],\n",
       "       [0.99744493, 0.00255507],\n",
       "       [0.92960145, 0.07039855],\n",
       "       [0.83895689, 0.16104311],\n",
       "       [0.93391664, 0.06608336],\n",
       "       [0.97948731, 0.02051269],\n",
       "       [0.79364662, 0.20635338],\n",
       "       [0.62602376, 0.37397624],\n",
       "       [0.70704695, 0.29295305],\n",
       "       [0.81414477, 0.18585523],\n",
       "       [0.66313795, 0.33686205],\n",
       "       [0.71504215, 0.28495785],\n",
       "       [0.66147573, 0.33852427],\n",
       "       [0.0890827 , 0.9109173 ],\n",
       "       [0.05754242, 0.94245758],\n",
       "       [0.31651953, 0.68348047],\n",
       "       [0.71211764, 0.28788236],\n",
       "       [0.64643679, 0.35356321],\n",
       "       [0.12486588, 0.87513412],\n",
       "       [0.69427427, 0.30572573],\n",
       "       [0.25805414, 0.74194586],\n",
       "       [0.9409419 , 0.0590581 ],\n",
       "       [0.94513762, 0.05486238],\n",
       "       [0.75533428, 0.24466572],\n",
       "       [0.9334481 , 0.0665519 ],\n",
       "       [0.34330777, 0.65669223],\n",
       "       [0.95058373, 0.04941627],\n",
       "       [0.70079111, 0.29920889],\n",
       "       [0.25525408, 0.74474592],\n",
       "       [0.71755841, 0.28244159],\n",
       "       [0.46141641, 0.53858359],\n",
       "       [0.74790056, 0.25209944],\n",
       "       [0.8701859 , 0.1298141 ],\n",
       "       [0.8102305 , 0.1897695 ],\n",
       "       [0.69091934, 0.30908066],\n",
       "       [0.92709362, 0.07290638],\n",
       "       [0.62634651, 0.37365349],\n",
       "       [0.20057183, 0.79942817],\n",
       "       [0.0959138 , 0.9040862 ],\n",
       "       [0.78950285, 0.21049715],\n",
       "       [0.9186802 , 0.0813198 ],\n",
       "       [0.8570955 , 0.1429045 ],\n",
       "       [0.186984  , 0.813016  ],\n",
       "       [0.73694582, 0.26305418],\n",
       "       [0.90332903, 0.09667097],\n",
       "       [0.72299961, 0.27700039],\n",
       "       [0.85982534, 0.14017466],\n",
       "       [0.94324874, 0.05675126],\n",
       "       [0.56590135, 0.43409865],\n",
       "       [0.93789795, 0.06210205],\n",
       "       [0.70112166, 0.29887834],\n",
       "       [0.07939173, 0.92060827],\n",
       "       [0.32918173, 0.67081827],\n",
       "       [0.8325756 , 0.1674244 ]])"
      ]
     },
     "execution_count": 7,
     "metadata": {},
     "output_type": "execute_result"
    }
   ],
   "source": [
    "# first column is the probability of label=0, second column is the probability of label=1\n",
    "logreg_clf.predict_proba(X_test)"
   ]
  },
  {
   "cell_type": "code",
   "execution_count": 8,
   "metadata": {},
   "outputs": [
    {
     "data": {
      "text/plain": [
       "array([0.13913064, 0.22436399, 0.16363796, 0.74498256, 0.40725611,\n",
       "       0.41189296, 0.95886931, 0.46242922, 0.02327881, 0.74421474,\n",
       "       0.84664889, 0.51103867, 0.23633206, 0.68313893, 0.4454787 ,\n",
       "       0.42963455, 0.28620182, 0.27265421, 0.13547637, 0.18697311,\n",
       "       0.70179719, 0.15533462, 0.19854348, 0.10779992, 0.50223066,\n",
       "       0.10211045, 0.38979058, 0.45818117, 0.40254839, 0.07840424,\n",
       "       0.20021239, 0.15808786, 0.05051086, 0.56105571, 0.08310182,\n",
       "       0.80589294, 0.20963352, 0.2043634 , 0.78786855, 0.44614844,\n",
       "       0.1111599 , 0.7764989 , 0.44790377, 0.51621556, 0.13475424,\n",
       "       0.8184647 , 0.15387282, 0.19026782, 0.18768994, 0.08396361,\n",
       "       0.49165054, 0.13785131, 0.07797892, 0.13750556, 0.21788526,\n",
       "       0.00501401, 0.75353649, 0.37721028, 0.90491374, 0.80859513,\n",
       "       0.53002351, 0.42667595, 0.61018359, 0.38160419, 0.30784485,\n",
       "       0.17024495, 0.74080057, 0.37650753, 0.09930312, 0.11777916,\n",
       "       0.804597  , 0.5424366 , 0.11345867, 0.30514206, 0.43864967,\n",
       "       0.2146468 , 0.83746891, 0.71734375, 0.40393957, 0.79136401,\n",
       "       0.47446382, 0.17170775, 0.64477346, 0.12361663, 0.07828354,\n",
       "       0.22851767, 0.32931997, 0.30224837, 0.61023744, 0.0762528 ,\n",
       "       0.73310826, 0.87565828, 0.20521673, 0.14809726, 0.28253742,\n",
       "       0.24823226, 0.20582664, 0.30748033, 0.63978339, 0.67904855,\n",
       "       0.1647863 , 0.59671751, 0.74138124, 0.14701911, 0.78673019,\n",
       "       0.71921894, 0.01128149, 0.12972032, 0.66630916, 0.30840946,\n",
       "       0.34445267, 0.39555185, 0.87806419, 0.16259589, 0.38255115,\n",
       "       0.7086122 , 0.41259616, 0.50893946, 0.57361641, 0.21484223,\n",
       "       0.65664966, 0.1574423 , 0.50656179, 0.60767876, 0.07802503,\n",
       "       0.24216136, 0.19530342, 0.04170771, 0.52932889, 0.06888079,\n",
       "       0.13525923, 0.2014217 , 0.1560502 , 0.07933214, 0.36071276,\n",
       "       0.11770204, 0.251442  , 0.81250739, 0.3256234 , 0.00255507,\n",
       "       0.07039855, 0.16104311, 0.06608336, 0.02051269, 0.20635338,\n",
       "       0.37397624, 0.29295305, 0.18585523, 0.33686205, 0.28495785,\n",
       "       0.33852427, 0.9109173 , 0.94245758, 0.68348047, 0.28788236,\n",
       "       0.35356321, 0.87513412, 0.30572573, 0.74194586, 0.0590581 ,\n",
       "       0.05486238, 0.24466572, 0.0665519 , 0.65669223, 0.04941627,\n",
       "       0.29920889, 0.74474592, 0.28244159, 0.53858359, 0.25209944,\n",
       "       0.1298141 , 0.1897695 , 0.30908066, 0.07290638, 0.37365349,\n",
       "       0.79942817, 0.9040862 , 0.21049715, 0.0813198 , 0.1429045 ,\n",
       "       0.813016  , 0.26305418, 0.09667097, 0.27700039, 0.14017466,\n",
       "       0.05675126, 0.43409865, 0.06210205, 0.29887834, 0.92060827,\n",
       "       0.67081827, 0.1674244 ])"
      ]
     },
     "execution_count": 8,
     "metadata": {},
     "output_type": "execute_result"
    }
   ],
   "source": [
    "# probability of label = 1 (diabetes)\n",
    "proba = logreg_clf.predict_proba(X_test)[:,1]\n",
    "proba"
   ]
  },
  {
   "cell_type": "markdown",
   "metadata": {},
   "source": [
    "Scikit-learn does not let you set the threshold directly.\n",
    "Scikit-learn models predict label=1 if the probability is larger than 0.5, otherwise they predicts label = 0."
   ]
  },
  {
   "cell_type": "code",
   "execution_count": 9,
   "metadata": {},
   "outputs": [
    {
     "data": {
      "text/plain": [
       "array([0, 0, 0, 1, 0, 0, 1, 0, 0, 1, 1, 1, 0, 1, 0, 0, 0, 0, 0, 0, 1, 0,\n",
       "       0, 0, 1, 0, 0, 0, 0, 0, 0, 0, 0, 1, 0, 1, 0, 0, 1, 0, 0, 1, 0, 1,\n",
       "       0, 1, 0, 0, 0, 0, 0, 0, 0, 0, 0, 0, 1, 0, 1, 1, 1, 0, 1, 0, 0, 0,\n",
       "       1, 0, 0, 0, 1, 1, 0, 0, 0, 0, 1, 1, 0, 1, 0, 0, 1, 0, 0, 0, 0, 0,\n",
       "       1, 0, 1, 1, 0, 0, 0, 0, 0, 0, 1, 1, 0, 1, 1, 0, 1, 1, 0, 0, 1, 0,\n",
       "       0, 0, 1, 0, 0, 1, 0, 1, 1, 0, 1, 0, 1, 1, 0, 0, 0, 0, 1, 0, 0, 0,\n",
       "       0, 0, 0, 0, 0, 1, 0, 0, 0, 0, 0, 0, 0, 0, 0, 0, 0, 0, 0, 1, 1, 1,\n",
       "       0, 0, 1, 0, 1, 0, 0, 0, 0, 1, 0, 0, 1, 0, 1, 0, 0, 0, 0, 0, 0, 1,\n",
       "       1, 0, 0, 0, 1, 0, 0, 0, 0, 0, 0, 0, 0, 1, 1, 0], dtype=int64)"
      ]
     },
     "execution_count": 9,
     "metadata": {},
     "output_type": "execute_result"
    }
   ],
   "source": [
    "# sklearn predictions uses threshold = 0.5\n",
    "y_test_pred = logreg_clf.predict(X_test)\n",
    "y_test_pred"
   ]
  },
  {
   "cell_type": "code",
   "execution_count": 10,
   "metadata": {},
   "outputs": [
    {
     "name": "stdout",
     "output_type": "stream",
     "text": [
      "0.7552083333333334\n",
      "0.5873015873015873\n",
      "0.6379310344827587\n"
     ]
    }
   ],
   "source": [
    "print(accuracy_score(y_test,y_test_pred))\n",
    "print(recall_score(y_test,y_test_pred))\n",
    "print(precision_score(y_test,y_test_pred))"
   ]
  },
  {
   "cell_type": "code",
   "execution_count": 11,
   "metadata": {},
   "outputs": [
    {
     "data": {
      "text/plain": [
       "array([0., 1., 0., 1., 1., 1., 1., 1., 0., 1., 1., 1., 1., 1., 1., 1., 1.,\n",
       "       1., 0., 0., 1., 0., 0., 0., 1., 0., 1., 1., 1., 0., 1., 0., 0., 1.,\n",
       "       0., 1., 1., 1., 1., 1., 0., 1., 1., 1., 0., 1., 0., 0., 0., 0., 1.,\n",
       "       0., 0., 0., 1., 0., 1., 1., 1., 1., 1., 1., 1., 1., 1., 0., 1., 1.,\n",
       "       0., 0., 1., 1., 0., 1., 1., 1., 1., 1., 1., 1., 1., 0., 1., 0., 0.,\n",
       "       1., 1., 1., 1., 0., 1., 1., 1., 0., 1., 1., 1., 1., 1., 1., 0., 1.,\n",
       "       1., 0., 1., 1., 0., 0., 1., 1., 1., 1., 1., 0., 1., 1., 1., 1., 1.,\n",
       "       1., 1., 0., 1., 1., 0., 1., 0., 0., 1., 0., 0., 1., 0., 0., 1., 0.,\n",
       "       1., 1., 1., 0., 0., 0., 0., 0., 1., 1., 1., 0., 1., 1., 1., 1., 1.,\n",
       "       1., 1., 1., 1., 1., 1., 0., 0., 1., 0., 1., 0., 1., 1., 1., 1., 1.,\n",
       "       0., 0., 1., 0., 1., 1., 1., 1., 0., 0., 1., 1., 0., 1., 0., 0., 1.,\n",
       "       0., 1., 1., 1., 0.])"
      ]
     },
     "execution_count": 11,
     "metadata": {},
     "output_type": "execute_result"
    }
   ],
   "source": [
    "# predictions with a different threshold\n",
    "threshold = 0.2 # set new threshold\n",
    "y_test_pred = np.zeros(len(y_test)) # vector of all zeros\n",
    "y_test_pred[proba > threshold]=1 # set entry to 1 if probability is larger than the threshold\n",
    "y_test_pred"
   ]
  },
  {
   "cell_type": "code",
   "execution_count": 12,
   "metadata": {},
   "outputs": [
    {
     "name": "stdout",
     "output_type": "stream",
     "text": [
      "0.6510416666666666\n",
      "0.9682539682539683\n",
      "0.48412698412698413\n"
     ]
    }
   ],
   "source": [
    "print(accuracy_score(y_test,y_test_pred))\n",
    "print(recall_score(y_test,y_test_pred))\n",
    "print(precision_score(y_test,y_test_pred))"
   ]
  },
  {
   "cell_type": "markdown",
   "metadata": {},
   "source": [
    "We can loop over different thresholds and check which one gives the best evaluation metric (accuracy, recall, precision, etc)."
   ]
  },
  {
   "cell_type": "code",
   "execution_count": 13,
   "metadata": {},
   "outputs": [
    {
     "data": {
      "text/plain": [
       "array([0.        , 0.01010101, 0.02020202, 0.03030303, 0.04040404,\n",
       "       0.05050505, 0.06060606, 0.07070707, 0.08080808, 0.09090909,\n",
       "       0.1010101 , 0.11111111, 0.12121212, 0.13131313, 0.14141414,\n",
       "       0.15151515, 0.16161616, 0.17171717, 0.18181818, 0.19191919,\n",
       "       0.2020202 , 0.21212121, 0.22222222, 0.23232323, 0.24242424,\n",
       "       0.25252525, 0.26262626, 0.27272727, 0.28282828, 0.29292929,\n",
       "       0.3030303 , 0.31313131, 0.32323232, 0.33333333, 0.34343434,\n",
       "       0.35353535, 0.36363636, 0.37373737, 0.38383838, 0.39393939,\n",
       "       0.4040404 , 0.41414141, 0.42424242, 0.43434343, 0.44444444,\n",
       "       0.45454545, 0.46464646, 0.47474747, 0.48484848, 0.49494949,\n",
       "       0.50505051, 0.51515152, 0.52525253, 0.53535354, 0.54545455,\n",
       "       0.55555556, 0.56565657, 0.57575758, 0.58585859, 0.5959596 ,\n",
       "       0.60606061, 0.61616162, 0.62626263, 0.63636364, 0.64646465,\n",
       "       0.65656566, 0.66666667, 0.67676768, 0.68686869, 0.6969697 ,\n",
       "       0.70707071, 0.71717172, 0.72727273, 0.73737374, 0.74747475,\n",
       "       0.75757576, 0.76767677, 0.77777778, 0.78787879, 0.7979798 ,\n",
       "       0.80808081, 0.81818182, 0.82828283, 0.83838384, 0.84848485,\n",
       "       0.85858586, 0.86868687, 0.87878788, 0.88888889, 0.8989899 ,\n",
       "       0.90909091, 0.91919192, 0.92929293, 0.93939394, 0.94949495,\n",
       "       0.95959596, 0.96969697, 0.97979798, 0.98989899, 1.        ])"
      ]
     },
     "execution_count": 13,
     "metadata": {},
     "output_type": "execute_result"
    }
   ],
   "source": [
    "# create an array with different thresholds \n",
    "thresholds = np.linspace(0,1,100) # 100 evenly spaced points on [0,1]\n",
    "thresholds"
   ]
  },
  {
   "cell_type": "code",
   "execution_count": 14,
   "metadata": {},
   "outputs": [
    {
     "name": "stderr",
     "output_type": "stream",
     "text": [
      "C:\\Users\\javier.perez-alvaro\\Anaconda3\\lib\\site-packages\\sklearn\\metrics\\_classification.py:1318: UndefinedMetricWarning: Precision is ill-defined and being set to 0.0 due to no predicted samples. Use `zero_division` parameter to control this behavior.\n",
      "  _warn_prf(average, modifier, msg_start, len(result))\n",
      "C:\\Users\\javier.perez-alvaro\\Anaconda3\\lib\\site-packages\\sklearn\\metrics\\_classification.py:1318: UndefinedMetricWarning: Precision is ill-defined and being set to 0.0 due to no predicted samples. Use `zero_division` parameter to control this behavior.\n",
      "  _warn_prf(average, modifier, msg_start, len(result))\n",
      "C:\\Users\\javier.perez-alvaro\\Anaconda3\\lib\\site-packages\\sklearn\\metrics\\_classification.py:1318: UndefinedMetricWarning: Precision is ill-defined and being set to 0.0 due to no predicted samples. Use `zero_division` parameter to control this behavior.\n",
      "  _warn_prf(average, modifier, msg_start, len(result))\n",
      "C:\\Users\\javier.perez-alvaro\\Anaconda3\\lib\\site-packages\\sklearn\\metrics\\_classification.py:1318: UndefinedMetricWarning: Precision is ill-defined and being set to 0.0 due to no predicted samples. Use `zero_division` parameter to control this behavior.\n",
      "  _warn_prf(average, modifier, msg_start, len(result))\n",
      "C:\\Users\\javier.perez-alvaro\\Anaconda3\\lib\\site-packages\\sklearn\\metrics\\_classification.py:1318: UndefinedMetricWarning: Precision is ill-defined and being set to 0.0 due to no predicted samples. Use `zero_division` parameter to control this behavior.\n",
      "  _warn_prf(average, modifier, msg_start, len(result))\n"
     ]
    }
   ],
   "source": [
    "accuracies = []\n",
    "recalls = []\n",
    "precisions = []\n",
    "# loop over thresholds list\n",
    "for threshold in thresholds:\n",
    "    y_test_pred = np.zeros(len(y_test)) # vector of all zeros\n",
    "    y_test_pred[proba > threshold]=1\n",
    "    # accuracy\n",
    "    accuracies.append(accuracy_score(y_test,y_test_pred))\n",
    "    # recall\n",
    "    recalls.append(recall_score(y_test,y_test_pred))\n",
    "    # precision\n",
    "    precisions.append(precision_score(y_test,y_test_pred))"
   ]
  },
  {
   "cell_type": "code",
   "execution_count": 15,
   "metadata": {},
   "outputs": [
    {
     "data": {
      "text/plain": [
       "<matplotlib.legend.Legend at 0x206ab80ffd0>"
      ]
     },
     "execution_count": 15,
     "metadata": {},
     "output_type": "execute_result"
    },
    {
     "data": {
      "image/png": "[encoded data removed]",
      "text/plain": [
       "<Figure size 1080x360 with 1 Axes>"
      ]
     },
     "metadata": {
      "needs_background": "light"
     },
     "output_type": "display_data"
    }
   ],
   "source": [
    "fig, axes = plt.subplots(figsize=(15,5))\n",
    "\n",
    "axes.plot(thresholds,accuracies,label='accuracy')\n",
    "axes.plot(thresholds,recalls,label='recall')\n",
    "axes.plot(thresholds,precisions,label='precision')\n",
    "\n",
    "axes.grid(True)\n",
    "axes.set_title('Evaluation metrics as a function of the threshold')\n",
    "axes.legend()\n"
   ]
  },
  {
   "cell_type": "markdown",
   "metadata": {},
   "source": [
    "## Precision/Recall Trade-off"
   ]
  },
  {
   "cell_type": "code",
   "execution_count": 29,
   "metadata": {},
   "outputs": [
    {
     "data": {
      "text/plain": [
       "Text(0, 0.5, 'precision')"
      ]
     },
     "execution_count": 29,
     "metadata": {},
     "output_type": "execute_result"
    },
    {
     "data": {
      "image/png": "[encoded data removed]",
      "text/plain": [
       "<Figure size 720x504 with 1 Axes>"
      ]
     },
     "metadata": {
      "needs_background": "light"
     },
     "output_type": "display_data"
    }
   ],
   "source": [
    "# precision vs recall curve\n",
    "fig, ax = plt.subplots(figsize=(10,7))\n",
    "ax.plot(recalls,precisions)\n",
    "ax.grid(True)\n",
    "ax.set_xlabel('recall')\n",
    "ax.set_ylabel('precision')"
   ]
  },
  {
   "cell_type": "markdown",
   "metadata": {},
   "source": [
    "The precision-recall curve shows the tradeoff between precision and recall for different threshold. A high area under the curve represents both high recall and high precision, where high precision relates to a low false positive rate, and high recall relates to a low false negative rate. High scores for both show that the classifier is returning accurate results (high precision), as well as returning a majority of all positive results (high recall)."
   ]
  },
  {
   "cell_type": "code",
   "execution_count": 30,
   "metadata": {},
   "outputs": [
    {
     "data": {
      "image/png": "[encoded data removed]",
      "text/plain": [
       "<Figure size 720x504 with 1 Axes>"
      ]
     },
     "metadata": {
      "needs_background": "light"
     },
     "output_type": "display_data"
    }
   ],
   "source": [
    "# to plot the precision-recall curve, you should use PrecisionRecallDisplay\n",
    "fig, ax = plt.subplots(figsize=(10,7))\n",
    "PrecisionRecallDisplay.from_estimator(logreg_clf,X_test,y_test,ax=ax)\n",
    "ax.grid(True)"
   ]
  },
  {
   "cell_type": "markdown",
   "metadata": {},
   "source": [
    "AP refers to \"average precision\", which is the area under the precision-recall curve"
   ]
  },
  {
   "cell_type": "code",
   "execution_count": 34,
   "metadata": {},
   "outputs": [
    {
     "data": {
      "text/plain": [
       "0.6668335519944276"
      ]
     },
     "execution_count": 34,
     "metadata": {},
     "output_type": "execute_result"
    }
   ],
   "source": [
    "from sklearn.metrics import average_precision_score\n",
    "average_precision_score(y_test,proba)"
   ]
  },
  {
   "cell_type": "markdown",
   "metadata": {},
   "source": [
    "## ROC curve and AUC score"
   ]
  },
  {
   "cell_type": "markdown",
   "metadata": {},
   "source": [
    "ROC stands for \"receiver operating characteristic\" (it was initially designed for evaluating the strength of radar detectors during WW2).\n",
    "ROC shows how well a model can separate two classes.\n",
    "\n",
    "The ROC curve is based on two quantities:\n",
    "\n",
    "- False positive rate (FPR): the fraction of false positives among all negative examples\n",
    "- True positive rate (TPR): the fraction of true positives among all positive examples.\n",
    "\n",
    "Like precision and recall, these values are based on the confusion matrix.\n",
    "\n",
    "\\begin{align*}\n",
    "&\\mathrm{FPR} = \\frac{\\mathrm{FP}}{\\mathrm{FP}+\\mathrm{TN}} \\\\\n",
    "&\\mathrm{TPR} = \\frac{\\mathrm{TP}}{\\mathrm{TP}+\\mathrm{FN}}\n",
    "\\end{align*}"
   ]
  },
  {
   "cell_type": "markdown",
   "metadata": {},
   "source": [
    "To create a ROC curve, we plot FPR and TPR against each other."
   ]
  },
  {
   "cell_type": "code",
   "execution_count": 31,
   "metadata": {},
   "outputs": [],
   "source": [
    "from sklearn.metrics import RocCurveDisplay"
   ]
  },
  {
   "cell_type": "code",
   "execution_count": 32,
   "metadata": {},
   "outputs": [
    {
     "data": {
      "text/plain": [
       "<sklearn.metrics._plot.roc_curve.RocCurveDisplay at 0x206b1d05a90>"
      ]
     },
     "execution_count": 32,
     "metadata": {},
     "output_type": "execute_result"
    },
    {
     "data": {
      "image/png": "[encoded data removed]",
      "text/plain": [
       "<Figure size 432x288 with 1 Axes>"
      ]
     },
     "metadata": {
      "needs_background": "light"
     },
     "output_type": "display_data"
    }
   ],
   "source": [
    "RocCurveDisplay.from_estimator(logreg_clf,X_test,y_test)"
   ]
  },
  {
   "cell_type": "markdown",
   "metadata": {},
   "source": [
    "AUC refers to \"area under the curve\". It measures the area under the TPR-FPR curve."
   ]
  },
  {
   "cell_type": "markdown",
   "metadata": {},
   "source": [
    "If all we need is the AUC, we don't need to compute the ROC curve first. \n",
    "We can take a shortcut and use the `roc_auc_score` function from Scikit-learn."
   ]
  },
  {
   "cell_type": "code",
   "execution_count": 35,
   "metadata": {},
   "outputs": [
    {
     "data": {
      "text/plain": [
       "0.8249046388581271"
      ]
     },
     "execution_count": 35,
     "metadata": {},
     "output_type": "execute_result"
    }
   ],
   "source": [
    "from sklearn.metrics import roc_auc_score\n",
    "roc_auc_score(y_test,proba)"
   ]
  },
  {
   "cell_type": "markdown",
   "metadata": {},
   "source": [
    "| AUC | Model performance |\n",
    "| - | - |\n",
    "| 0.5 | random |\n",
    "| 0.6 | poor |\n",
    "| 0.7 | weak |\n",
    "| 0.8 | decent |\n",
    "| 0.9 | good |\n",
    "| 1.0 | perfect |"
   ]
  }
 ],
 "metadata": {
  "kernelspec": {
   "display_name": "Python 3 (ipykernel)",
   "language": "python",
   "name": "python3"
  },
  "language_info": {
   "codemirror_mode": {
    "name": "ipython",
    "version": 3
   },
   "file_extension": ".py",
   "mimetype": "text/x-python",
   "name": "python",
   "nbconvert_exporter": "python",
   "pygments_lexer": "ipython3",
   "version": "3.9.12"
  }
 },
 "nbformat": 4,
 "nbformat_minor": 4
}
