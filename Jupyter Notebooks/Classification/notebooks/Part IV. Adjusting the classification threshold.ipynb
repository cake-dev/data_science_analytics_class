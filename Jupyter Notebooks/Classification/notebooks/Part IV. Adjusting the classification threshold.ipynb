{
 "cells": [
  {
   "cell_type": "code",
   "execution_count": 1,
   "metadata": {},
   "outputs": [],
   "source": [
    "import pandas as pd\n",
    "import numpy as np\n",
    "import matplotlib.pyplot as plt"
   ]
  },
  {
   "cell_type": "code",
   "execution_count": 2,
   "metadata": {},
   "outputs": [],
   "source": [
    "from sklearn.metrics import accuracy_score, confusion_matrix, recall_score, precision_score"
   ]
  },
  {
   "cell_type": "code",
   "execution_count": 3,
   "metadata": {},
   "outputs": [],
   "source": [
    "from sklearn.linear_model import LogisticRegression\n",
    "from sklearn.model_selection import train_test_split"
   ]
  },
  {
   "cell_type": "markdown",
   "metadata": {},
   "source": [
    "# Adjusting the classification threshold"
   ]
  },
  {
   "cell_type": "markdown",
   "metadata": {},
   "source": [
    "- [Precision/Recall Trade-off](#Precision/Recall-Trade-off)\n",
    "- [ROC curve and AUC score](#ROC-curve-and-AUC-score)"
   ]
  },
  {
   "cell_type": "code",
   "execution_count": 4,
   "metadata": {},
   "outputs": [
    {
     "data": {
      "text/html": [
       "<div>\n",
       "<style scoped>\n",
       "    .dataframe tbody tr th:only-of-type {\n",
       "        vertical-align: middle;\n",
       "    }\n",
       "\n",
       "    .dataframe tbody tr th {\n",
       "        vertical-align: top;\n",
       "    }\n",
       "\n",
       "    .dataframe thead th {\n",
       "        text-align: right;\n",
       "    }\n",
       "</style>\n",
       "<table border=\"1\" class=\"dataframe\">\n",
       "  <thead>\n",
       "    <tr style=\"text-align: right;\">\n",
       "      <th></th>\n",
       "      <th>pregnant</th>\n",
       "      <th>glucose</th>\n",
       "      <th>bp</th>\n",
       "      <th>skin</th>\n",
       "      <th>insulin</th>\n",
       "      <th>bmi</th>\n",
       "      <th>pedigree</th>\n",
       "      <th>age</th>\n",
       "      <th>label</th>\n",
       "    </tr>\n",
       "  </thead>\n",
       "  <tbody>\n",
       "    <tr>\n",
       "      <th>0</th>\n",
       "      <td>6</td>\n",
       "      <td>148</td>\n",
       "      <td>72</td>\n",
       "      <td>35</td>\n",
       "      <td>0</td>\n",
       "      <td>33.6</td>\n",
       "      <td>0.627</td>\n",
       "      <td>50</td>\n",
       "      <td>1</td>\n",
       "    </tr>\n",
       "    <tr>\n",
       "      <th>1</th>\n",
       "      <td>1</td>\n",
       "      <td>85</td>\n",
       "      <td>66</td>\n",
       "      <td>29</td>\n",
       "      <td>0</td>\n",
       "      <td>26.6</td>\n",
       "      <td>0.351</td>\n",
       "      <td>31</td>\n",
       "      <td>0</td>\n",
       "    </tr>\n",
       "    <tr>\n",
       "      <th>2</th>\n",
       "      <td>8</td>\n",
       "      <td>183</td>\n",
       "      <td>64</td>\n",
       "      <td>0</td>\n",
       "      <td>0</td>\n",
       "      <td>23.3</td>\n",
       "      <td>0.672</td>\n",
       "      <td>32</td>\n",
       "      <td>1</td>\n",
       "    </tr>\n",
       "    <tr>\n",
       "      <th>3</th>\n",
       "      <td>1</td>\n",
       "      <td>89</td>\n",
       "      <td>66</td>\n",
       "      <td>23</td>\n",
       "      <td>94</td>\n",
       "      <td>28.1</td>\n",
       "      <td>0.167</td>\n",
       "      <td>21</td>\n",
       "      <td>0</td>\n",
       "    </tr>\n",
       "    <tr>\n",
       "      <th>4</th>\n",
       "      <td>0</td>\n",
       "      <td>137</td>\n",
       "      <td>40</td>\n",
       "      <td>35</td>\n",
       "      <td>168</td>\n",
       "      <td>43.1</td>\n",
       "      <td>2.288</td>\n",
       "      <td>33</td>\n",
       "      <td>1</td>\n",
       "    </tr>\n",
       "  </tbody>\n",
       "</table>\n",
       "</div>"
      ],
      "text/plain": [
       "   pregnant  glucose  bp  skin  insulin   bmi  pedigree  age  label\n",
       "0         6      148  72    35        0  33.6     0.627   50      1\n",
       "1         1       85  66    29        0  26.6     0.351   31      0\n",
       "2         8      183  64     0        0  23.3     0.672   32      1\n",
       "3         1       89  66    23       94  28.1     0.167   21      0\n",
       "4         0      137  40    35      168  43.1     2.288   33      1"
      ]
     },
     "execution_count": 4,
     "metadata": {},
     "output_type": "execute_result"
    }
   ],
   "source": [
    "# load the pima indian dataset\n",
    "url = 'https://raw.githubusercontent.com/um-perez-alvaro/Data-Science-Practice/master/Data/pima.csv'\n",
    "pima = pd.read_csv(url)\n",
    "pima.head()"
   ]
  },
  {
   "cell_type": "code",
   "execution_count": 5,
   "metadata": {},
   "outputs": [
    {
     "data": {
      "text/plain": [
       "(768, 9)"
      ]
     },
     "execution_count": 5,
     "metadata": {},
     "output_type": "execute_result"
    }
   ],
   "source": [
    "pima.shape"
   ]
  },
  {
   "cell_type": "code",
   "execution_count": 6,
   "metadata": {},
   "outputs": [
    {
     "data": {
      "text/plain": [
       "LogisticRegression(max_iter=1000)"
      ]
     },
     "execution_count": 6,
     "metadata": {},
     "output_type": "execute_result"
    }
   ],
   "source": [
    "# define X and y\n",
    "X = pima.drop('label',axis=1)\n",
    "y = pima.label\n",
    "\n",
    "# train/test split\n",
    "X_train,X_test,y_train,y_test = train_test_split(X,y)\n",
    "\n",
    "# instantiate the logistic regression classifier\n",
    "logreg_clf = LogisticRegression(max_iter=1000)\n",
    "\n",
    "# train the model\n",
    "logreg_clf.fit(X_train,y_train)"
   ]
  },
  {
   "cell_type": "markdown",
   "metadata": {},
   "source": [
    "Let's look at how the classifier makes its prediction. \n",
    "For each patient, logistic regression computes the probability of that patient having diabetes"
   ]
  },
  {
   "cell_type": "code",
   "execution_count": 7,
   "metadata": {},
   "outputs": [
    {
     "data": {
      "text/plain": [
       "array([[0.36020763, 0.63979237],\n",
       "       [0.1007608 , 0.8992392 ],\n",
       "       [0.83079136, 0.16920864],\n",
       "       [0.62100838, 0.37899162],\n",
       "       [0.91443556, 0.08556444],\n",
       "       [0.84632913, 0.15367087],\n",
       "       [0.24287448, 0.75712552],\n",
       "       [0.9767417 , 0.0232583 ],\n",
       "       [0.832202  , 0.167798  ],\n",
       "       [0.03917581, 0.96082419],\n",
       "       [0.65812616, 0.34187384],\n",
       "       [0.78628856, 0.21371144],\n",
       "       [0.82870542, 0.17129458],\n",
       "       [0.14543672, 0.85456328],\n",
       "       [0.70826789, 0.29173211],\n",
       "       [0.64579923, 0.35420077],\n",
       "       [0.43021345, 0.56978655],\n",
       "       [0.29363277, 0.70636723],\n",
       "       [0.80371818, 0.19628182],\n",
       "       [0.77443321, 0.22556679],\n",
       "       [0.88277169, 0.11722831],\n",
       "       [0.0989589 , 0.9010411 ],\n",
       "       [0.67079226, 0.32920774],\n",
       "       [0.72509176, 0.27490824],\n",
       "       [0.12238974, 0.87761026],\n",
       "       [0.76042963, 0.23957037],\n",
       "       [0.89910449, 0.10089551],\n",
       "       [0.81256275, 0.18743725],\n",
       "       [0.54529485, 0.45470515],\n",
       "       [0.62554336, 0.37445664],\n",
       "       [0.80730269, 0.19269731],\n",
       "       [0.85088242, 0.14911758],\n",
       "       [0.35319353, 0.64680647],\n",
       "       [0.93322461, 0.06677539],\n",
       "       [0.87893843, 0.12106157],\n",
       "       [0.92996701, 0.07003299],\n",
       "       [0.82925892, 0.17074108],\n",
       "       [0.26457789, 0.73542211],\n",
       "       [0.96999237, 0.03000763],\n",
       "       [0.89013444, 0.10986556],\n",
       "       [0.81483433, 0.18516567],\n",
       "       [0.29042318, 0.70957682],\n",
       "       [0.96843933, 0.03156067],\n",
       "       [0.89916582, 0.10083418],\n",
       "       [0.68795651, 0.31204349],\n",
       "       [0.63048615, 0.36951385],\n",
       "       [0.09842712, 0.90157288],\n",
       "       [0.29150768, 0.70849232],\n",
       "       [0.76092847, 0.23907153],\n",
       "       [0.73026214, 0.26973786],\n",
       "       [0.6846457 , 0.3153543 ],\n",
       "       [0.24870565, 0.75129435],\n",
       "       [0.76763919, 0.23236081],\n",
       "       [0.62756237, 0.37243763],\n",
       "       [0.80562432, 0.19437568],\n",
       "       [0.52955501, 0.47044499],\n",
       "       [0.35829588, 0.64170412],\n",
       "       [0.9658408 , 0.0341592 ],\n",
       "       [0.62085551, 0.37914449],\n",
       "       [0.90741435, 0.09258565],\n",
       "       [0.92804349, 0.07195651],\n",
       "       [0.85641632, 0.14358368],\n",
       "       [0.87885886, 0.12114114],\n",
       "       [0.96179809, 0.03820191],\n",
       "       [0.71715402, 0.28284598],\n",
       "       [0.71817614, 0.28182386],\n",
       "       [0.93090231, 0.06909769],\n",
       "       [0.14658986, 0.85341014],\n",
       "       [0.86195467, 0.13804533],\n",
       "       [0.80652772, 0.19347228],\n",
       "       [0.21232229, 0.78767771],\n",
       "       [0.67310535, 0.32689465],\n",
       "       [0.34714748, 0.65285252],\n",
       "       [0.88612991, 0.11387009],\n",
       "       [0.10165722, 0.89834278],\n",
       "       [0.67863364, 0.32136636],\n",
       "       [0.94728213, 0.05271787],\n",
       "       [0.96756374, 0.03243626],\n",
       "       [0.17638076, 0.82361924],\n",
       "       [0.29575012, 0.70424988],\n",
       "       [0.69052677, 0.30947323],\n",
       "       [0.72723093, 0.27276907],\n",
       "       [0.8272861 , 0.1727139 ],\n",
       "       [0.60167137, 0.39832863],\n",
       "       [0.22787119, 0.77212881],\n",
       "       [0.88044153, 0.11955847],\n",
       "       [0.34036344, 0.65963656],\n",
       "       [0.87586983, 0.12413017],\n",
       "       [0.88495921, 0.11504079],\n",
       "       [0.73484641, 0.26515359],\n",
       "       [0.46478231, 0.53521769],\n",
       "       [0.64542338, 0.35457662],\n",
       "       [0.75506143, 0.24493857],\n",
       "       [0.79574358, 0.20425642],\n",
       "       [0.72700087, 0.27299913],\n",
       "       [0.75945816, 0.24054184],\n",
       "       [0.61995717, 0.38004283],\n",
       "       [0.95837519, 0.04162481],\n",
       "       [0.85677415, 0.14322585],\n",
       "       [0.28962618, 0.71037382],\n",
       "       [0.02408894, 0.97591106],\n",
       "       [0.76141411, 0.23858589],\n",
       "       [0.09979508, 0.90020492],\n",
       "       [0.95240899, 0.04759101],\n",
       "       [0.6146805 , 0.3853195 ],\n",
       "       [0.85569661, 0.14430339],\n",
       "       [0.87946919, 0.12053081],\n",
       "       [0.96876411, 0.03123589],\n",
       "       [0.31162158, 0.68837842],\n",
       "       [0.91594532, 0.08405468],\n",
       "       [0.90558295, 0.09441705],\n",
       "       [0.81470265, 0.18529735],\n",
       "       [0.93004173, 0.06995827],\n",
       "       [0.91929256, 0.08070744],\n",
       "       [0.75995986, 0.24004014],\n",
       "       [0.97403132, 0.02596868],\n",
       "       [0.91363418, 0.08636582],\n",
       "       [0.75434891, 0.24565109],\n",
       "       [0.89718727, 0.10281273],\n",
       "       [0.96760573, 0.03239427],\n",
       "       [0.27915808, 0.72084192],\n",
       "       [0.14400253, 0.85599747],\n",
       "       [0.86125992, 0.13874008],\n",
       "       [0.59806737, 0.40193263],\n",
       "       [0.89095063, 0.10904937],\n",
       "       [0.18802106, 0.81197894],\n",
       "       [0.75719373, 0.24280627],\n",
       "       [0.50390973, 0.49609027],\n",
       "       [0.26245241, 0.73754759],\n",
       "       [0.90774847, 0.09225153],\n",
       "       [0.85874614, 0.14125386],\n",
       "       [0.32233561, 0.67766439],\n",
       "       [0.85426787, 0.14573213],\n",
       "       [0.90826043, 0.09173957],\n",
       "       [0.00772329, 0.99227671],\n",
       "       [0.63319388, 0.36680612],\n",
       "       [0.92594178, 0.07405822],\n",
       "       [0.75432668, 0.24567332],\n",
       "       [0.87771411, 0.12228589],\n",
       "       [0.94252533, 0.05747467],\n",
       "       [0.21257999, 0.78742001],\n",
       "       [0.44599544, 0.55400456],\n",
       "       [0.90263474, 0.09736526],\n",
       "       [0.49331918, 0.50668082],\n",
       "       [0.20319654, 0.79680346],\n",
       "       [0.92479749, 0.07520251],\n",
       "       [0.38553653, 0.61446347],\n",
       "       [0.71549087, 0.28450913],\n",
       "       [0.8611347 , 0.1388653 ],\n",
       "       [0.12035339, 0.87964661],\n",
       "       [0.51138054, 0.48861946],\n",
       "       [0.43378883, 0.56621117],\n",
       "       [0.61454761, 0.38545239],\n",
       "       [0.28301947, 0.71698053],\n",
       "       [0.13136462, 0.86863538],\n",
       "       [0.9652262 , 0.0347738 ],\n",
       "       [0.356108  , 0.643892  ],\n",
       "       [0.69480988, 0.30519012],\n",
       "       [0.23127178, 0.76872822],\n",
       "       [0.77149769, 0.22850231],\n",
       "       [0.54414606, 0.45585394],\n",
       "       [0.96100301, 0.03899699],\n",
       "       [0.3048389 , 0.6951611 ],\n",
       "       [0.6591921 , 0.3408079 ],\n",
       "       [0.286874  , 0.713126  ],\n",
       "       [0.13934531, 0.86065469],\n",
       "       [0.88199568, 0.11800432],\n",
       "       [0.73688936, 0.26311064],\n",
       "       [0.97687896, 0.02312104],\n",
       "       [0.73020202, 0.26979798],\n",
       "       [0.9651729 , 0.0348271 ],\n",
       "       [0.21882034, 0.78117966],\n",
       "       [0.97017256, 0.02982744],\n",
       "       [0.82538399, 0.17461601],\n",
       "       [0.16794458, 0.83205542],\n",
       "       [0.84560846, 0.15439154],\n",
       "       [0.66209878, 0.33790122],\n",
       "       [0.68451832, 0.31548168],\n",
       "       [0.93499081, 0.06500919],\n",
       "       [0.96843346, 0.03156654],\n",
       "       [0.28131184, 0.71868816],\n",
       "       [0.89501869, 0.10498131],\n",
       "       [0.88326995, 0.11673005],\n",
       "       [0.57717013, 0.42282987],\n",
       "       [0.85174924, 0.14825076],\n",
       "       [0.78251543, 0.21748457],\n",
       "       [0.45533715, 0.54466285],\n",
       "       [0.82058754, 0.17941246],\n",
       "       [0.48954541, 0.51045459],\n",
       "       [0.71422574, 0.28577426],\n",
       "       [0.15235581, 0.84764419],\n",
       "       [0.88975577, 0.11024423]])"
      ]
     },
     "execution_count": 7,
     "metadata": {},
     "output_type": "execute_result"
    }
   ],
   "source": [
    "# first column is the probability of label=0, second column is the probability of label=1\n",
    "logreg_clf.predict_proba(X_test)"
   ]
  },
  {
   "cell_type": "code",
   "execution_count": 8,
   "metadata": {},
   "outputs": [
    {
     "data": {
      "text/plain": [
       "array([0.63979237, 0.8992392 , 0.16920864, 0.37899162, 0.08556444,\n",
       "       0.15367087, 0.75712552, 0.0232583 , 0.167798  , 0.96082419,\n",
       "       0.34187384, 0.21371144, 0.17129458, 0.85456328, 0.29173211,\n",
       "       0.35420077, 0.56978655, 0.70636723, 0.19628182, 0.22556679,\n",
       "       0.11722831, 0.9010411 , 0.32920774, 0.27490824, 0.87761026,\n",
       "       0.23957037, 0.10089551, 0.18743725, 0.45470515, 0.37445664,\n",
       "       0.19269731, 0.14911758, 0.64680647, 0.06677539, 0.12106157,\n",
       "       0.07003299, 0.17074108, 0.73542211, 0.03000763, 0.10986556,\n",
       "       0.18516567, 0.70957682, 0.03156067, 0.10083418, 0.31204349,\n",
       "       0.36951385, 0.90157288, 0.70849232, 0.23907153, 0.26973786,\n",
       "       0.3153543 , 0.75129435, 0.23236081, 0.37243763, 0.19437568,\n",
       "       0.47044499, 0.64170412, 0.0341592 , 0.37914449, 0.09258565,\n",
       "       0.07195651, 0.14358368, 0.12114114, 0.03820191, 0.28284598,\n",
       "       0.28182386, 0.06909769, 0.85341014, 0.13804533, 0.19347228,\n",
       "       0.78767771, 0.32689465, 0.65285252, 0.11387009, 0.89834278,\n",
       "       0.32136636, 0.05271787, 0.03243626, 0.82361924, 0.70424988,\n",
       "       0.30947323, 0.27276907, 0.1727139 , 0.39832863, 0.77212881,\n",
       "       0.11955847, 0.65963656, 0.12413017, 0.11504079, 0.26515359,\n",
       "       0.53521769, 0.35457662, 0.24493857, 0.20425642, 0.27299913,\n",
       "       0.24054184, 0.38004283, 0.04162481, 0.14322585, 0.71037382,\n",
       "       0.97591106, 0.23858589, 0.90020492, 0.04759101, 0.3853195 ,\n",
       "       0.14430339, 0.12053081, 0.03123589, 0.68837842, 0.08405468,\n",
       "       0.09441705, 0.18529735, 0.06995827, 0.08070744, 0.24004014,\n",
       "       0.02596868, 0.08636582, 0.24565109, 0.10281273, 0.03239427,\n",
       "       0.72084192, 0.85599747, 0.13874008, 0.40193263, 0.10904937,\n",
       "       0.81197894, 0.24280627, 0.49609027, 0.73754759, 0.09225153,\n",
       "       0.14125386, 0.67766439, 0.14573213, 0.09173957, 0.99227671,\n",
       "       0.36680612, 0.07405822, 0.24567332, 0.12228589, 0.05747467,\n",
       "       0.78742001, 0.55400456, 0.09736526, 0.50668082, 0.79680346,\n",
       "       0.07520251, 0.61446347, 0.28450913, 0.1388653 , 0.87964661,\n",
       "       0.48861946, 0.56621117, 0.38545239, 0.71698053, 0.86863538,\n",
       "       0.0347738 , 0.643892  , 0.30519012, 0.76872822, 0.22850231,\n",
       "       0.45585394, 0.03899699, 0.6951611 , 0.3408079 , 0.713126  ,\n",
       "       0.86065469, 0.11800432, 0.26311064, 0.02312104, 0.26979798,\n",
       "       0.0348271 , 0.78117966, 0.02982744, 0.17461601, 0.83205542,\n",
       "       0.15439154, 0.33790122, 0.31548168, 0.06500919, 0.03156654,\n",
       "       0.71868816, 0.10498131, 0.11673005, 0.42282987, 0.14825076,\n",
       "       0.21748457, 0.54466285, 0.17941246, 0.51045459, 0.28577426,\n",
       "       0.84764419, 0.11024423])"
      ]
     },
     "execution_count": 8,
     "metadata": {},
     "output_type": "execute_result"
    }
   ],
   "source": [
    "# probability of label = 1 (diabetes)\n",
    "proba = logreg_clf.predict_proba(X_test)[:,1]\n",
    "proba"
   ]
  },
  {
   "cell_type": "markdown",
   "metadata": {},
   "source": [
    "Scikit-learn does not let you set the threshold directly.\n",
    "Scikit-learn models predict label=1 if the probability is larger than 0.5, otherwise they predicts label = 0."
   ]
  },
  {
   "cell_type": "code",
   "execution_count": 9,
   "metadata": {},
   "outputs": [
    {
     "data": {
      "text/plain": [
       "array([1, 1, 0, 0, 0, 0, 1, 0, 0, 1, 0, 0, 0, 1, 0, 0, 1, 1, 0, 0, 0, 1,\n",
       "       0, 0, 1, 0, 0, 0, 0, 0, 0, 0, 1, 0, 0, 0, 0, 1, 0, 0, 0, 1, 0, 0,\n",
       "       0, 0, 1, 1, 0, 0, 0, 1, 0, 0, 0, 0, 1, 0, 0, 0, 0, 0, 0, 0, 0, 0,\n",
       "       0, 1, 0, 0, 1, 0, 1, 0, 1, 0, 0, 0, 1, 1, 0, 0, 0, 0, 1, 0, 1, 0,\n",
       "       0, 0, 1, 0, 0, 0, 0, 0, 0, 0, 0, 1, 1, 0, 1, 0, 0, 0, 0, 0, 1, 0,\n",
       "       0, 0, 0, 0, 0, 0, 0, 0, 0, 0, 1, 1, 0, 0, 0, 1, 0, 0, 1, 0, 0, 1,\n",
       "       0, 0, 1, 0, 0, 0, 0, 0, 1, 1, 0, 1, 1, 0, 1, 0, 0, 1, 0, 1, 0, 1,\n",
       "       1, 0, 1, 0, 1, 0, 0, 0, 1, 0, 1, 1, 0, 0, 0, 0, 0, 1, 0, 0, 1, 0,\n",
       "       0, 0, 0, 0, 1, 0, 0, 0, 0, 0, 1, 0, 1, 0, 1, 0], dtype=int64)"
      ]
     },
     "execution_count": 9,
     "metadata": {},
     "output_type": "execute_result"
    }
   ],
   "source": [
    "# sklearn predictions uses threshold = 0.5\n",
    "y_test_pred = logreg_clf.predict(X_test)\n",
    "y_test_pred"
   ]
  },
  {
   "cell_type": "code",
   "execution_count": 10,
   "metadata": {},
   "outputs": [
    {
     "name": "stdout",
     "output_type": "stream",
     "text": [
      "0.78125\n",
      "0.5942028985507246\n",
      "0.7454545454545455\n"
     ]
    }
   ],
   "source": [
    "print(accuracy_score(y_test,y_test_pred))\n",
    "print(recall_score(y_test,y_test_pred))\n",
    "print(precision_score(y_test,y_test_pred))"
   ]
  },
  {
   "cell_type": "code",
   "execution_count": 15,
   "metadata": {},
   "outputs": [
    {
     "data": {
      "text/plain": [
       "array([1., 1., 0., 1., 0., 0., 1., 0., 0., 1., 1., 0., 0., 1., 0., 1., 1.,\n",
       "       1., 0., 0., 0., 1., 1., 0., 1., 0., 0., 0., 1., 1., 0., 0., 1., 0.,\n",
       "       0., 0., 0., 1., 0., 0., 0., 1., 0., 0., 1., 1., 1., 1., 0., 0., 1.,\n",
       "       1., 0., 1., 0., 1., 1., 0., 1., 0., 0., 0., 0., 0., 0., 0., 0., 1.,\n",
       "       0., 0., 1., 1., 1., 0., 1., 1., 0., 0., 1., 1., 1., 0., 0., 1., 1.,\n",
       "       0., 1., 0., 0., 0., 1., 1., 0., 0., 0., 0., 1., 0., 0., 1., 1., 0.,\n",
       "       1., 0., 1., 0., 0., 0., 1., 0., 0., 0., 0., 0., 0., 0., 0., 0., 0.,\n",
       "       0., 1., 1., 0., 1., 0., 1., 0., 1., 1., 0., 0., 1., 0., 0., 1., 1.,\n",
       "       0., 0., 0., 0., 1., 1., 0., 1., 1., 0., 1., 0., 0., 1., 1., 1., 1.,\n",
       "       1., 1., 0., 1., 1., 1., 0., 1., 0., 1., 1., 1., 1., 0., 0., 0., 0.,\n",
       "       0., 1., 0., 0., 1., 0., 1., 1., 0., 0., 1., 0., 0., 1., 0., 0., 1.,\n",
       "       0., 1., 0., 1., 0.])"
      ]
     },
     "execution_count": 15,
     "metadata": {},
     "output_type": "execute_result"
    }
   ],
   "source": [
    "# predictions with a different threshold\n",
    "threshold = 0.3 # set new threshold\n",
    "y_test_pred = np.zeros(len(y_test)) # vector of all zeros\n",
    "y_test_pred[proba > threshold]=1 # set entry to 1 if probability is larger than the threshold\n",
    "y_test_pred"
   ]
  },
  {
   "cell_type": "code",
   "execution_count": 16,
   "metadata": {},
   "outputs": [
    {
     "name": "stdout",
     "output_type": "stream",
     "text": [
      "0.7604166666666666\n",
      "0.782608695652174\n",
      "0.6352941176470588\n"
     ]
    }
   ],
   "source": [
    "print(accuracy_score(y_test,y_test_pred))\n",
    "print(recall_score(y_test,y_test_pred))\n",
    "print(precision_score(y_test,y_test_pred))"
   ]
  },
  {
   "cell_type": "markdown",
   "metadata": {},
   "source": [
    "We can loop over different thresholds and check which one gives the best evaluation metric (accuracy, recall, precision, etc)."
   ]
  },
  {
   "cell_type": "code",
   "execution_count": 17,
   "metadata": {},
   "outputs": [
    {
     "data": {
      "text/plain": [
       "array([0.        , 0.01010101, 0.02020202, 0.03030303, 0.04040404,\n",
       "       0.05050505, 0.06060606, 0.07070707, 0.08080808, 0.09090909,\n",
       "       0.1010101 , 0.11111111, 0.12121212, 0.13131313, 0.14141414,\n",
       "       0.15151515, 0.16161616, 0.17171717, 0.18181818, 0.19191919,\n",
       "       0.2020202 , 0.21212121, 0.22222222, 0.23232323, 0.24242424,\n",
       "       0.25252525, 0.26262626, 0.27272727, 0.28282828, 0.29292929,\n",
       "       0.3030303 , 0.31313131, 0.32323232, 0.33333333, 0.34343434,\n",
       "       0.35353535, 0.36363636, 0.37373737, 0.38383838, 0.39393939,\n",
       "       0.4040404 , 0.41414141, 0.42424242, 0.43434343, 0.44444444,\n",
       "       0.45454545, 0.46464646, 0.47474747, 0.48484848, 0.49494949,\n",
       "       0.50505051, 0.51515152, 0.52525253, 0.53535354, 0.54545455,\n",
       "       0.55555556, 0.56565657, 0.57575758, 0.58585859, 0.5959596 ,\n",
       "       0.60606061, 0.61616162, 0.62626263, 0.63636364, 0.64646465,\n",
       "       0.65656566, 0.66666667, 0.67676768, 0.68686869, 0.6969697 ,\n",
       "       0.70707071, 0.71717172, 0.72727273, 0.73737374, 0.74747475,\n",
       "       0.75757576, 0.76767677, 0.77777778, 0.78787879, 0.7979798 ,\n",
       "       0.80808081, 0.81818182, 0.82828283, 0.83838384, 0.84848485,\n",
       "       0.85858586, 0.86868687, 0.87878788, 0.88888889, 0.8989899 ,\n",
       "       0.90909091, 0.91919192, 0.92929293, 0.93939394, 0.94949495,\n",
       "       0.95959596, 0.96969697, 0.97979798, 0.98989899, 1.        ])"
      ]
     },
     "execution_count": 17,
     "metadata": {},
     "output_type": "execute_result"
    }
   ],
   "source": [
    "# create an array with different thresholds \n",
    "thresholds = np.linspace(0,1,100) # 100 evenly spaced points on [0,1]\n",
    "thresholds"
   ]
  },
  {
   "cell_type": "code",
   "execution_count": 18,
   "metadata": {},
   "outputs": [
    {
     "name": "stderr",
     "output_type": "stream",
     "text": [
      "C:\\Users\\javier.perez-alvaro\\Anaconda3\\lib\\site-packages\\sklearn\\metrics\\_classification.py:1318: UndefinedMetricWarning: Precision is ill-defined and being set to 0.0 due to no predicted samples. Use `zero_division` parameter to control this behavior.\n",
      "  _warn_prf(average, modifier, msg_start, len(result))\n"
     ]
    }
   ],
   "source": [
    "accuracies = []\n",
    "recalls = []\n",
    "precisions = []\n",
    "# loop over thresholds list\n",
    "for threshold in thresholds:\n",
    "    y_test_pred = np.zeros(len(y_test)) # vector of all zeros\n",
    "    y_test_pred[proba > threshold]=1\n",
    "    # accuracy\n",
    "    accuracies.append(accuracy_score(y_test,y_test_pred))\n",
    "    # recall\n",
    "    recalls.append(recall_score(y_test,y_test_pred))\n",
    "    # precision\n",
    "    precisions.append(precision_score(y_test,y_test_pred))"
   ]
  },
  {
   "cell_type": "code",
   "execution_count": 19,
   "metadata": {},
   "outputs": [
    {
     "data": {
      "text/plain": [
       "<matplotlib.legend.Legend at 0x1b96d3ba790>"
      ]
     },
     "execution_count": 19,
     "metadata": {},
     "output_type": "execute_result"
    },
    {
     "data": {
      "image/png": "[encoded data removed]",
      "text/plain": [
       "<Figure size 1080x360 with 1 Axes>"
      ]
     },
     "metadata": {
      "needs_background": "light"
     },
     "output_type": "display_data"
    }
   ],
   "source": [
    "fig, axes = plt.subplots(figsize=(15,5))\n",
    "\n",
    "axes.plot(thresholds,accuracies,label='accuracy')\n",
    "axes.plot(thresholds,recalls,label='recall')\n",
    "axes.plot(thresholds,precisions,label='precision')\n",
    "\n",
    "axes.grid(True)\n",
    "axes.set_title('Evaluation metrics as a function of the threshold')\n",
    "axes.legend()\n"
   ]
  },
  {
   "cell_type": "markdown",
   "metadata": {},
   "source": [
    "## Precision/Recall Trade-off"
   ]
  },
  {
   "cell_type": "code",
   "execution_count": 29,
   "metadata": {},
   "outputs": [
    {
     "data": {
      "text/plain": [
       "Text(0, 0.5, 'precision')"
      ]
     },
     "execution_count": 29,
     "metadata": {},
     "output_type": "execute_result"
    },
    {
     "data": {
      "image/png": "[encoded data removed]",
      "text/plain": [
       "<Figure size 720x504 with 1 Axes>"
      ]
     },
     "metadata": {
      "needs_background": "light"
     },
     "output_type": "display_data"
    }
   ],
   "source": [
    "# precision vs recall curve\n",
    "fig, ax = plt.subplots(figsize=(10,7))\n",
    "ax.plot(recalls,precisions)\n",
    "ax.grid(True)\n",
    "ax.set_xlabel('recall')\n",
    "ax.set_ylabel('precision')"
   ]
  },
  {
   "cell_type": "markdown",
   "metadata": {},
   "source": [
    "The precision-recall curve shows the tradeoff between precision and recall for different threshold. A high area under the curve represents both high recall and high precision, where high precision relates to a low false positive rate, and high recall relates to a low false negative rate. High scores for both show that the classifier is returning accurate results (high precision), as well as returning a majority of all positive results (high recall)."
   ]
  },
  {
   "cell_type": "code",
   "execution_count": 30,
   "metadata": {},
   "outputs": [
    {
     "data": {
      "image/png": "[encoded data removed]",
      "text/plain": [
       "<Figure size 720x504 with 1 Axes>"
      ]
     },
     "metadata": {
      "needs_background": "light"
     },
     "output_type": "display_data"
    }
   ],
   "source": [
    "# to plot the precision-recall curve, you should use PrecisionRecallDisplay\n",
    "fig, ax = plt.subplots(figsize=(10,7))\n",
    "PrecisionRecallDisplay.from_estimator(logreg_clf,X_test,y_test,ax=ax)\n",
    "ax.grid(True)"
   ]
  },
  {
   "cell_type": "markdown",
   "metadata": {},
   "source": [
    "AP refers to \"average precision\", which is the area under the precision-recall curve"
   ]
  },
  {
   "cell_type": "code",
   "execution_count": 34,
   "metadata": {},
   "outputs": [
    {
     "data": {
      "text/plain": [
       "0.6668335519944276"
      ]
     },
     "execution_count": 34,
     "metadata": {},
     "output_type": "execute_result"
    }
   ],
   "source": [
    "from sklearn.metrics import average_precision_score\n",
    "average_precision_score(y_test,proba)"
   ]
  },
  {
   "cell_type": "markdown",
   "metadata": {},
   "source": [
    "## ROC curve and AUC score"
   ]
  },
  {
   "cell_type": "markdown",
   "metadata": {},
   "source": [
    "ROC stands for \"receiver operating characteristic\" (it was initially designed for evaluating the strength of radar detectors during WW2).\n",
    "ROC shows how well a model can separate two classes.\n",
    "\n",
    "The ROC curve is based on two quantities:\n",
    "\n",
    "- False positive rate (FPR): the fraction of false positives among all negative examples\n",
    "- True positive rate (TPR): the fraction of true positives among all positive examples.\n",
    "\n",
    "Like precision and recall, these values are based on the confusion matrix.\n",
    "\n",
    "\\begin{align*}\n",
    "&\\mathrm{FPR} = \\frac{\\mathrm{FP}}{\\mathrm{FP}+\\mathrm{TN}} \\\\\n",
    "&\\mathrm{TPR} = \\frac{\\mathrm{TP}}{\\mathrm{TP}+\\mathrm{FN}}\n",
    "\\end{align*}"
   ]
  },
  {
   "cell_type": "markdown",
   "metadata": {},
   "source": [
    "To create a ROC curve, we plot FPR and TPR against each other."
   ]
  },
  {
   "cell_type": "code",
   "execution_count": 31,
   "metadata": {},
   "outputs": [],
   "source": [
    "from sklearn.metrics import RocCurveDisplay"
   ]
  },
  {
   "cell_type": "code",
   "execution_count": 32,
   "metadata": {},
   "outputs": [
    {
     "data": {
      "text/plain": [
       "<sklearn.metrics._plot.roc_curve.RocCurveDisplay at 0x206b1d05a90>"
      ]
     },
     "execution_count": 32,
     "metadata": {},
     "output_type": "execute_result"
    },
    {
     "data": {
      "image/png": "[encoded data removed]",
      "text/plain": [
       "<Figure size 432x288 with 1 Axes>"
      ]
     },
     "metadata": {
      "needs_background": "light"
     },
     "output_type": "display_data"
    }
   ],
   "source": [
    "RocCurveDisplay.from_estimator(logreg_clf,X_test,y_test)"
   ]
  },
  {
   "cell_type": "markdown",
   "metadata": {},
   "source": [
    "AUC refers to \"area under the curve\". It measures the area under the TPR-FPR curve."
   ]
  },
  {
   "cell_type": "markdown",
   "metadata": {},
   "source": [
    "If all we need is the AUC, we don't need to compute the ROC curve first. \n",
    "We can take a shortcut and use the `roc_auc_score` function from Scikit-learn."
   ]
  },
  {
   "cell_type": "code",
   "execution_count": 35,
   "metadata": {},
   "outputs": [
    {
     "data": {
      "text/plain": [
       "0.8249046388581271"
      ]
     },
     "execution_count": 35,
     "metadata": {},
     "output_type": "execute_result"
    }
   ],
   "source": [
    "from sklearn.metrics import roc_auc_score\n",
    "roc_auc_score(y_test,proba)"
   ]
  },
  {
   "cell_type": "markdown",
   "metadata": {},
   "source": [
    "| AUC | Model performance |\n",
    "| - | - |\n",
    "| 0.5 | random |\n",
    "| 0.6 | poor |\n",
    "| 0.7 | weak |\n",
    "| 0.8 | decent |\n",
    "| 0.9 | good |\n",
    "| 1.0 | perfect |"
   ]
  }
 ],
 "metadata": {
  "kernelspec": {
   "display_name": "Python 3 (ipykernel)",
   "language": "python",
   "name": "python3"
  },
  "language_info": {
   "codemirror_mode": {
    "name": "ipython",
    "version": 3
   },
   "file_extension": ".py",
   "mimetype": "text/x-python",
   "name": "python",
   "nbconvert_exporter": "python",
   "pygments_lexer": "ipython3",
   "version": "3.9.12"
  }
 },
 "nbformat": 4,
 "nbformat_minor": 4
}
