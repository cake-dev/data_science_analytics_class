{
 "cells": [
  {
   "cell_type": "code",
   "execution_count": 1,
   "metadata": {},
   "outputs": [],
   "source": [
    "import numpy as np\n",
    "import matplotlib.pyplot as plt\n",
    "import pandas as pd"
   ]
  },
  {
   "cell_type": "markdown",
   "metadata": {},
   "source": [
    "## Healthcare Analytics: Identifying At-Risk Individuals"
   ]
  },
  {
   "cell_type": "markdown",
   "metadata": {},
   "source": [
    "Diabetes is an enormous public health problem as it probably affects more than 10% of U.S. adults."
   ]
  },
  {
   "cell_type": "markdown",
   "metadata": {},
   "source": [
    "The Behavioral Risk Factor Surveillance System (BRFSS) survey asks the participants a number of questions regarding health and health-related behaviours.\n",
    "Of the many questions asked of the participants, one asks whether the respondent has diabetes."
   ]
  },
  {
   "cell_type": "markdown",
   "metadata": {},
   "source": [
    "**Part 1:** Navigate to the [Behavioral Risk Factor Surveillance System data portal](https://www.cdc.gov/brfss/annual_data/annual_Data.htm), and download the 2021 BRFSS Survey [Data](https://www.cdc.gov/brfss/annual_data/2020/files/LLCP2020ASC.zip).\n",
    "Unzip the file LLCP2020.ASC, and place it in your data folder."
   ]
  },
  {
   "cell_type": "markdown",
   "metadata": {},
   "source": [
    "The following cell will display the first row of the data file"
   ]
  },
  {
   "cell_type": "code",
   "execution_count": 1,
   "metadata": {},
   "outputs": [
    {
     "name": "stdout",
     "output_type": "stream",
     "text": [
      "01              0101192021     11002021000001                 11 121 02 01012             2         52010880312223 21122211221223  1222108                                    141        111278805 007204112222211333888      10920200112      10155520420320110123                                                                                                              2         22222111111153                                                                                                                                                                                                                                                                      1001                                                                                                                                                                                                                                                                                                                                                                                                                                                                                                                                                                                                                                                                                                                                                                      11     101101139.7661577                             279.5323155     01         9                                                                                                                                                                                                       10.51901912874.242902                                                744.745531                                                                                                                                          2321921122221121                                                        0101  211112112706059150032661454111233112000100000111200000100005700430014010000110001000002141111001\n",
      "\n"
     ]
    }
   ],
   "source": [
    "path = 'LLCP2021.ASC_' # path to the file\n",
    "with open(path) as file: # open file\n",
    "    for line in file: # loop over document lines\n",
    "        print(line) # print line\n",
    "        break # stop the for loop"
   ]
  },
  {
   "cell_type": "markdown",
   "metadata": {},
   "source": [
    "Each record (row) in the BRFSS file is a string without delimiters to identify variables (i.e., the file format is *fixed-width*).\n",
    "Variables are located at established positions in the string.\n",
    "The [codebook](https://www.cdc.gov/brfss/annual_data/2020/pdf/codebook20_llcp-v2-508.pdf) describes the variables and field positions."
   ]
  },
  {
   "cell_type": "markdown",
   "metadata": {},
   "source": [
    "For example, according to the codebook (page 29), the answer to *(Ever told) you had diabetes?* is contained in column 126."
   ]
  },
  {
   "cell_type": "markdown",
   "metadata": {},
   "source": [
    "![diabetes](foto4.png)"
   ]
  },
  {
   "cell_type": "markdown",
   "metadata": {},
   "source": [
    "For record 1, we have (don't forget that Python uses zero-indexing to reference characters in a string)"
   ]
  },
  {
   "cell_type": "code",
   "execution_count": 4,
   "metadata": {
    "scrolled": true
   },
   "outputs": [
    {
     "data": {
      "text/plain": [
       "'1'"
      ]
     },
     "execution_count": 4,
     "metadata": {},
     "output_type": "execute_result"
    }
   ],
   "source": [
    "# (Ever told) you had diabetes? Yes\n",
    "line[125]"
   ]
  },
  {
   "cell_type": "markdown",
   "metadata": {},
   "source": [
    "Another example. According to the codebook (page 36), the *income level* is contained in columns 185-186."
   ]
  },
  {
   "cell_type": "markdown",
   "metadata": {},
   "source": [
    "![income](foto5.png)"
   ]
  },
  {
   "cell_type": "markdown",
   "metadata": {},
   "source": [
    "For record 1, we have"
   ]
  },
  {
   "cell_type": "code",
   "execution_count": 6,
   "metadata": {},
   "outputs": [
    {
     "data": {
      "text/plain": [
       "'01'"
      ]
     },
     "execution_count": 6,
     "metadata": {},
     "output_type": "execute_result"
    }
   ],
   "source": [
    "# income level: less than $10,000\n",
    "line[184:186]"
   ]
  },
  {
   "cell_type": "markdown",
   "metadata": {},
   "source": [
    "The **goal** of this problem is to build a `KNeighborsClassifier` model that estimates the risk of having diabetes based of a few simple variables.\n",
    "Your model must use income, education, age, gender and bmi data, and other features you might think are relevant."
   ]
  },
  {
   "cell_type": "markdown",
   "metadata": {},
   "source": [
    "The following table contains the positions for several variables\n",
    "\n",
    "| Variable | Start | End |\n",
    "| :- | :-: | :-: |\n",
    "| Diabetes | 126 | 126 |\n",
    "| General health | 101 | 101 |\n",
    "| Education level | 168 | 168 |\n",
    "| Employment status | 182 | 182 |\n",
    "| Income level | 185 | 186 |\n",
    "| Weight (in Pounds) | 188 | 191 |\n",
    "| Height (in feet and inches) | 192 | 195 |\n",
    "| Smoking Status | 2006 | 2006 | \n",
    "| Alcohol consumption (drinks per week) | 2013 | 2017 |\n",
    "| Heavy drinkers | 2019 | 2019 |\n",
    "| Body Mass Index (BMI) | 1997 | 2000 |\n",
    "| Reported age (in five-year age categories) | 1980 | 1981 |\n",
    "| Sex | 1979 | 1979 |\n",
    "| Metropolitan Status | 1402 | 1402 |"
   ]
  },
  {
   "cell_type": "markdown",
   "metadata": {},
   "source": [
    "**Part 2:** The code below reads the document line by line, extracting diabetes and income data, and puts the data into a pandas dataframe.\n",
    "Your task is to modify the code so that it extracs all the data your model will need (income, education, age, bmi, etc)."
   ]
  },
  {
   "cell_type": "code",
   "execution_count": 3,
   "metadata": {
    "scrolled": true
   },
   "outputs": [
    {
     "data": {
      "text/html": [
       "<div>\n",
       "<style scoped>\n",
       "    .dataframe tbody tr th:only-of-type {\n",
       "        vertical-align: middle;\n",
       "    }\n",
       "\n",
       "    .dataframe tbody tr th {\n",
       "        vertical-align: top;\n",
       "    }\n",
       "\n",
       "    .dataframe thead th {\n",
       "        text-align: right;\n",
       "    }\n",
       "</style>\n",
       "<table border=\"1\" class=\"dataframe\">\n",
       "  <thead>\n",
       "    <tr style=\"text-align: right;\">\n",
       "      <th></th>\n",
       "      <th>income</th>\n",
       "      <th>diabetes</th>\n",
       "    </tr>\n",
       "  </thead>\n",
       "  <tbody>\n",
       "    <tr>\n",
       "      <th>0</th>\n",
       "      <td>1.0</td>\n",
       "      <td>1.0</td>\n",
       "    </tr>\n",
       "    <tr>\n",
       "      <th>1</th>\n",
       "      <td>NaN</td>\n",
       "      <td>0.0</td>\n",
       "    </tr>\n",
       "    <tr>\n",
       "      <th>2</th>\n",
       "      <td>7.0</td>\n",
       "      <td>0.0</td>\n",
       "    </tr>\n",
       "    <tr>\n",
       "      <th>3</th>\n",
       "      <td>NaN</td>\n",
       "      <td>0.0</td>\n",
       "    </tr>\n",
       "    <tr>\n",
       "      <th>4</th>\n",
       "      <td>NaN</td>\n",
       "      <td>0.0</td>\n",
       "    </tr>\n",
       "    <tr>\n",
       "      <th>...</th>\n",
       "      <td>...</td>\n",
       "      <td>...</td>\n",
       "    </tr>\n",
       "    <tr>\n",
       "      <th>401953</th>\n",
       "      <td>NaN</td>\n",
       "      <td>0.0</td>\n",
       "    </tr>\n",
       "    <tr>\n",
       "      <th>401954</th>\n",
       "      <td>4.0</td>\n",
       "      <td>0.0</td>\n",
       "    </tr>\n",
       "    <tr>\n",
       "      <th>401955</th>\n",
       "      <td>1.0</td>\n",
       "      <td>0.0</td>\n",
       "    </tr>\n",
       "    <tr>\n",
       "      <th>401956</th>\n",
       "      <td>NaN</td>\n",
       "      <td>0.0</td>\n",
       "    </tr>\n",
       "    <tr>\n",
       "      <th>401957</th>\n",
       "      <td>5.0</td>\n",
       "      <td>0.0</td>\n",
       "    </tr>\n",
       "  </tbody>\n",
       "</table>\n",
       "<p>401958 rows × 2 columns</p>\n",
       "</div>"
      ],
      "text/plain": [
       "        income  diabetes\n",
       "0          1.0       1.0\n",
       "1          NaN       0.0\n",
       "2          7.0       0.0\n",
       "3          NaN       0.0\n",
       "4          NaN       0.0\n",
       "...        ...       ...\n",
       "401953     NaN       0.0\n",
       "401954     4.0       0.0\n",
       "401955     1.0       0.0\n",
       "401956     NaN       0.0\n",
       "401957     5.0       0.0\n",
       "\n",
       "[401958 rows x 2 columns]"
      ]
     },
     "execution_count": 3,
     "metadata": {},
     "output_type": "execute_result"
    }
   ],
   "source": [
    "data_dict = {} # initialize dictionary\n",
    "idx = 0 # counter that keeps track in which line we are\n",
    "with open(path) as file: # open the file\n",
    "    for line in file: # loop over lines\n",
    "            \n",
    "        # extract income level data \n",
    "        income = line[184:186] # columns 185-186\n",
    "        if income in ['77','99','  ']: # don't know, refused or missing\n",
    "            income = np.nan\n",
    "        else:\n",
    "            income = int(income)\n",
    "            \n",
    "            \n",
    "        # extract diabetes data\n",
    "        diabetes = line[125] # column 126\n",
    "        if diabetes == '1': # yes\n",
    "            diabetes = 1 \n",
    "        elif diabetes in ['2','3','4']: # no\n",
    "            diabetes = 0 \n",
    "        else: # don't know, refused or missing value\n",
    "            diabetes = np.nan\n",
    "            \n",
    "        \n",
    "        # Dictionary\n",
    "        data_dict[idx] = {\n",
    "                        'income' : income,\n",
    "                        'diabetes' : diabetes\n",
    "                         }\n",
    "        idx+=1 # increment counter by 1\n",
    "        \n",
    "# put data into a dataframe\n",
    "data = pd.DataFrame.from_dict(data_dict, orient='index')\n",
    "data"
   ]
  }
 ],
 "metadata": {
  "kernelspec": {
   "display_name": "Python 3 (ipykernel)",
   "language": "python",
   "name": "python3"
  },
  "language_info": {
   "codemirror_mode": {
    "name": "ipython",
    "version": 3
   },
   "file_extension": ".py",
   "mimetype": "text/x-python",
   "name": "python",
   "nbconvert_exporter": "python",
   "pygments_lexer": "ipython3",
   "version": "3.9.12"
  }
 },
 "nbformat": 4,
 "nbformat_minor": 4
}
