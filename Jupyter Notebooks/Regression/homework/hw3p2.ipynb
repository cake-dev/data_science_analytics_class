{
 "cells": [
  {
   "cell_type": "code",
   "execution_count": 2,
   "metadata": {},
   "outputs": [],
   "source": [
    "import pandas as pd\n",
    "import matplotlib.pyplot as plt"
   ]
  },
  {
   "cell_type": "markdown",
   "metadata": {},
   "source": [
    "# Problem 2: Leukemia Diagnosis"
   ]
  },
  {
   "cell_type": "code",
   "execution_count": 3,
   "metadata": {},
   "outputs": [
    {
     "data": {
      "text/html": [
       "<div>\n",
       "<style scoped>\n",
       "    .dataframe tbody tr th:only-of-type {\n",
       "        vertical-align: middle;\n",
       "    }\n",
       "\n",
       "    .dataframe tbody tr th {\n",
       "        vertical-align: top;\n",
       "    }\n",
       "\n",
       "    .dataframe thead th {\n",
       "        text-align: right;\n",
       "    }\n",
       "</style>\n",
       "<table border=\"1\" class=\"dataframe\">\n",
       "  <thead>\n",
       "    <tr style=\"text-align: right;\">\n",
       "      <th></th>\n",
       "      <th>0</th>\n",
       "      <th>1</th>\n",
       "      <th>2</th>\n",
       "      <th>3</th>\n",
       "      <th>4</th>\n",
       "      <th>5</th>\n",
       "      <th>6</th>\n",
       "      <th>7</th>\n",
       "      <th>8</th>\n",
       "      <th>9</th>\n",
       "      <th>...</th>\n",
       "      <th>16054</th>\n",
       "      <th>16055</th>\n",
       "      <th>16056</th>\n",
       "      <th>16057</th>\n",
       "      <th>16058</th>\n",
       "      <th>16059</th>\n",
       "      <th>16060</th>\n",
       "      <th>16061</th>\n",
       "      <th>16062</th>\n",
       "      <th>label</th>\n",
       "    </tr>\n",
       "  </thead>\n",
       "  <tbody>\n",
       "    <tr>\n",
       "      <th>0</th>\n",
       "      <td>-73.0</td>\n",
       "      <td>-69.0</td>\n",
       "      <td>-48.0</td>\n",
       "      <td>13.0</td>\n",
       "      <td>-86.0</td>\n",
       "      <td>-147.0</td>\n",
       "      <td>-65.0</td>\n",
       "      <td>-71.0</td>\n",
       "      <td>-32.0</td>\n",
       "      <td>100.0</td>\n",
       "      <td>...</td>\n",
       "      <td>352.0</td>\n",
       "      <td>-67.0</td>\n",
       "      <td>121.0</td>\n",
       "      <td>-5.0</td>\n",
       "      <td>-11.0</td>\n",
       "      <td>-21.0</td>\n",
       "      <td>-41.0</td>\n",
       "      <td>-967.0</td>\n",
       "      <td>-120.0</td>\n",
       "      <td>1</td>\n",
       "    </tr>\n",
       "    <tr>\n",
       "      <th>1</th>\n",
       "      <td>-16.0</td>\n",
       "      <td>-63.0</td>\n",
       "      <td>-97.0</td>\n",
       "      <td>-42.0</td>\n",
       "      <td>-91.0</td>\n",
       "      <td>-164.0</td>\n",
       "      <td>-53.0</td>\n",
       "      <td>-77.0</td>\n",
       "      <td>-17.0</td>\n",
       "      <td>122.0</td>\n",
       "      <td>...</td>\n",
       "      <td>244.0</td>\n",
       "      <td>-15.0</td>\n",
       "      <td>119.0</td>\n",
       "      <td>-32.0</td>\n",
       "      <td>4.0</td>\n",
       "      <td>-14.0</td>\n",
       "      <td>-28.0</td>\n",
       "      <td>-205.0</td>\n",
       "      <td>-31.0</td>\n",
       "      <td>1</td>\n",
       "    </tr>\n",
       "    <tr>\n",
       "      <th>2</th>\n",
       "      <td>4.0</td>\n",
       "      <td>-45.0</td>\n",
       "      <td>-112.0</td>\n",
       "      <td>-25.0</td>\n",
       "      <td>-85.0</td>\n",
       "      <td>-127.0</td>\n",
       "      <td>56.0</td>\n",
       "      <td>-110.0</td>\n",
       "      <td>81.0</td>\n",
       "      <td>41.0</td>\n",
       "      <td>...</td>\n",
       "      <td>163.0</td>\n",
       "      <td>-14.0</td>\n",
       "      <td>7.0</td>\n",
       "      <td>15.0</td>\n",
       "      <td>-8.0</td>\n",
       "      <td>-104.0</td>\n",
       "      <td>-36.0</td>\n",
       "      <td>-245.0</td>\n",
       "      <td>34.0</td>\n",
       "      <td>1</td>\n",
       "    </tr>\n",
       "    <tr>\n",
       "      <th>3</th>\n",
       "      <td>-31.0</td>\n",
       "      <td>-110.0</td>\n",
       "      <td>-20.0</td>\n",
       "      <td>-50.0</td>\n",
       "      <td>-115.0</td>\n",
       "      <td>-113.0</td>\n",
       "      <td>-17.0</td>\n",
       "      <td>-40.0</td>\n",
       "      <td>-17.0</td>\n",
       "      <td>80.0</td>\n",
       "      <td>...</td>\n",
       "      <td>625.0</td>\n",
       "      <td>18.0</td>\n",
       "      <td>59.0</td>\n",
       "      <td>-10.0</td>\n",
       "      <td>32.0</td>\n",
       "      <td>-2.0</td>\n",
       "      <td>10.0</td>\n",
       "      <td>-495.0</td>\n",
       "      <td>-37.0</td>\n",
       "      <td>1</td>\n",
       "    </tr>\n",
       "    <tr>\n",
       "      <th>4</th>\n",
       "      <td>-33.0</td>\n",
       "      <td>-39.0</td>\n",
       "      <td>-45.0</td>\n",
       "      <td>14.0</td>\n",
       "      <td>-56.0</td>\n",
       "      <td>-106.0</td>\n",
       "      <td>73.0</td>\n",
       "      <td>-34.0</td>\n",
       "      <td>18.0</td>\n",
       "      <td>64.0</td>\n",
       "      <td>...</td>\n",
       "      <td>398.0</td>\n",
       "      <td>38.0</td>\n",
       "      <td>215.0</td>\n",
       "      <td>-2.0</td>\n",
       "      <td>44.0</td>\n",
       "      <td>3.0</td>\n",
       "      <td>68.0</td>\n",
       "      <td>-293.0</td>\n",
       "      <td>-34.0</td>\n",
       "      <td>1</td>\n",
       "    </tr>\n",
       "  </tbody>\n",
       "</table>\n",
       "<p>5 rows × 16064 columns</p>\n",
       "</div>"
      ],
      "text/plain": [
       "      0      1      2     3      4      5     6      7     8      9  ...  \\\n",
       "0 -73.0  -69.0  -48.0  13.0  -86.0 -147.0 -65.0  -71.0 -32.0  100.0  ...   \n",
       "1 -16.0  -63.0  -97.0 -42.0  -91.0 -164.0 -53.0  -77.0 -17.0  122.0  ...   \n",
       "2   4.0  -45.0 -112.0 -25.0  -85.0 -127.0  56.0 -110.0  81.0   41.0  ...   \n",
       "3 -31.0 -110.0  -20.0 -50.0 -115.0 -113.0 -17.0  -40.0 -17.0   80.0  ...   \n",
       "4 -33.0  -39.0  -45.0  14.0  -56.0 -106.0  73.0  -34.0  18.0   64.0  ...   \n",
       "\n",
       "   16054  16055  16056  16057  16058  16059  16060  16061  16062  label  \n",
       "0  352.0  -67.0  121.0   -5.0  -11.0  -21.0  -41.0 -967.0 -120.0      1  \n",
       "1  244.0  -15.0  119.0  -32.0    4.0  -14.0  -28.0 -205.0  -31.0      1  \n",
       "2  163.0  -14.0    7.0   15.0   -8.0 -104.0  -36.0 -245.0   34.0      1  \n",
       "3  625.0   18.0   59.0  -10.0   32.0   -2.0   10.0 -495.0  -37.0      1  \n",
       "4  398.0   38.0  215.0   -2.0   44.0    3.0   68.0 -293.0  -34.0      1  \n",
       "\n",
       "[5 rows x 16064 columns]"
      ]
     },
     "execution_count": 3,
     "metadata": {},
     "output_type": "execute_result"
    }
   ],
   "source": [
    "# load the data\n",
    "url = 'https://raw.githubusercontent.com/um-perez-alvaro/Data-Science-Practice/master/Data/leukemia.csv'\n",
    "data = pd.read_csv(url)\n",
    "data.head()"
   ]
  },
  {
   "cell_type": "markdown",
   "metadata": {},
   "source": [
    "This dataset contains cancer gene-expression levels (16,063 genes, 198 samples) from the paper [*Multiclass cancer diagnosis using tumor gene expression signatures (Golub et all, 2001)*](http://cbcl.mit.edu/publications/ps/rifkin-pnas-2001.pdf)"
   ]
  },
  {
   "cell_type": "markdown",
   "metadata": {},
   "source": [
    "Cancer classes are labelled as follows:\n",
    "\n",
    "\n",
    "- 1: breast\n",
    "- 2:  prostate\n",
    "- 3:  lung\n",
    "- 4:  collerectal\n",
    "- 5:  lymphoma\n",
    "- 6:  bladder\n",
    "- 7:  melanoma\n",
    "- 8:  uterus\n",
    "- 9:  **leukemia**\n",
    "- 10: renal\n",
    "- 11: pancreas\n",
    "- 12: ovary\n",
    "- 13: meso\n",
    "- 14: cns\n"
   ]
  },
  {
   "cell_type": "markdown",
   "metadata": {},
   "source": [
    "Your goal is to train a regression model to classify cancers as either leukemia or not-leukemia"
   ]
  },
  {
   "cell_type": "markdown",
   "metadata": {},
   "source": [
    "**Part 1:** Replace the `label` values with:\n",
    "\n",
    "\n",
    "$$\n",
    "f(\\text{cancer}) =\n",
    "\\begin{cases}\n",
    "1 & \\text{if cancer is leukemia} \\\\\n",
    "0 & \\text{if cancer is not leukemia}\n",
    "\\end{cases}\n",
    "$$\n"
   ]
  },
  {
   "cell_type": "code",
   "execution_count": 4,
   "metadata": {},
   "outputs": [],
   "source": [
    "# if label is 9, replace it with -1\n",
    "data['label'] = data['label'].replace(9,-1)\n",
    "# if label is not 9, replace it with 0\n",
    "data['label'] = data['label'].replace([0,1,2,3,4,5,6,7,8,10,11,12,13,14],0)\n",
    "# if label is -1, replace it with 1\n",
    "data['label'] = data['label'].replace(-1,1)"
   ]
  },
  {
   "cell_type": "code",
   "execution_count": 11,
   "metadata": {},
   "outputs": [
    {
     "data": {
      "text/plain": [
       "0    168\n",
       "1     30\n",
       "Name: label, dtype: int64"
      ]
     },
     "execution_count": 11,
     "metadata": {},
     "output_type": "execute_result"
    }
   ],
   "source": [
    "# show label distribution\n",
    "data['label'].value_counts()"
   ]
  },
  {
   "cell_type": "markdown",
   "metadata": {},
   "source": [
    "**Part 2:** Define X and y from the DataFrame, and then split X and y into training and testing sets"
   ]
  },
  {
   "cell_type": "code",
   "execution_count": 6,
   "metadata": {},
   "outputs": [],
   "source": [
    "from sklearn.model_selection import train_test_split\n",
    "# feature matrix X, target vector y\n",
    "X = data.drop('label',axis=1)\n",
    "y = data['label']\n",
    "# split the data into training and test sets\n",
    "X_train, X_test, y_train, y_test = train_test_split(X,y)"
   ]
  },
  {
   "cell_type": "markdown",
   "metadata": {},
   "source": [
    "**Part 3:** Use the training set to train a **Lasso regression model**. \n",
    "Plot the model's coefficients. How many coefficients are equal to 0?"
   ]
  },
  {
   "cell_type": "code",
   "execution_count": 7,
   "metadata": {},
   "outputs": [
    {
     "name": "stdout",
     "output_type": "stream",
     "text": [
      "accuracy = 0.98\n",
      "number of coefficients equal to 0: 15742\n"
     ]
    }
   ],
   "source": [
    "from sklearn.linear_model import Lasso\n",
    "\n",
    "# Lasso model\n",
    "lasso_reg = Lasso(alpha=0.01, max_iter=10000)\n",
    "\n",
    "# fit the model to the training data\n",
    "lasso_reg.fit(X_train,y_train)\n",
    "\n",
    "# predict on the test set\n",
    "y_pred = lasso_reg.predict(X_test)\n",
    "\n",
    "# compute the accuracy\n",
    "from sklearn.metrics import accuracy_score\n",
    "print('accuracy =',accuracy_score(y_test,y_pred.round()))\n",
    "\n",
    "# show the coefficients equal to 0\n",
    "print('number of coefficients equal to 0:',sum(lasso_reg.coef_==0)) "
   ]
  },
  {
   "cell_type": "markdown",
   "metadata": {},
   "source": [
    "**Part 4:**  Use your regression model to classify all the cancers in the test set.  \n",
    "Use the rule:\n",
    "\n",
    "$$\n",
    "\\text{classify cancer as} \\begin{cases}\n",
    "\\text{leukemia} & \\text{if } y{\\text{test\\_pred}} > 0.5 \\\\\n",
    "\\text{not leukemia} & \\text{if } y{\\text{test\\_pred}} \\leq 0.5\n",
    "\\end{cases}\n",
    "$$\n",
    "\n"
   ]
  },
  {
   "cell_type": "code",
   "execution_count": 9,
   "metadata": {},
   "outputs": [
    {
     "name": "stdout",
     "output_type": "stream",
     "text": [
      "accuracy = 0.98\n"
     ]
    }
   ],
   "source": [
    "y_test_pred = lasso_reg.predict(X_test)\n",
    "\n",
    "# accuracy\n",
    "from sklearn.metrics import accuracy_score\n",
    "print('accuracy =',accuracy_score(y_test,y_test_pred.round()))"
   ]
  },
  {
   "cell_type": "markdown",
   "metadata": {},
   "source": [
    "How many cancers are misclassified? "
   ]
  },
  {
   "cell_type": "code",
   "execution_count": 10,
   "metadata": {},
   "outputs": [
    {
     "data": {
      "text/plain": [
       "<sklearn.metrics._plot.confusion_matrix.ConfusionMatrixDisplay at 0x7f0971397ac0>"
      ]
     },
     "execution_count": 10,
     "metadata": {},
     "output_type": "execute_result"
    },
    {
     "data": {
      "image/png": "[encoded data removed]",
      "text/plain": [
       "<Figure size 640x480 with 2 Axes>"
      ]
     },
     "metadata": {},
     "output_type": "display_data"
    }
   ],
   "source": [
    "# confusion matrix\n",
    "from sklearn.metrics import ConfusionMatrixDisplay,confusion_matrix\n",
    "\n",
    "cm = confusion_matrix(y_test,y_test_pred.round())\n",
    "disp = ConfusionMatrixDisplay(confusion_matrix=cm)\n",
    "disp.plot()"
   ]
  }
 ],
 "metadata": {
  "kernelspec": {
   "display_name": "Python 3",
   "language": "python",
   "name": "python3"
  },
  "language_info": {
   "codemirror_mode": {
    "name": "ipython",
    "version": 3
   },
   "file_extension": ".py",
   "mimetype": "text/x-python",
   "name": "python",
   "nbconvert_exporter": "python",
   "pygments_lexer": "ipython3",
   "version": "3.10.12"
  }
 },
 "nbformat": 4,
 "nbformat_minor": 4
}
