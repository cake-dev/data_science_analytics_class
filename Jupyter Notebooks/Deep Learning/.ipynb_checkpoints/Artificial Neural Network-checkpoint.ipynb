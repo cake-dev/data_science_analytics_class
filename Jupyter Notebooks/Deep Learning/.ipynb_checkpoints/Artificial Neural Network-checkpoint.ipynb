{
 "cells": [
  {
   "cell_type": "code",
   "execution_count": 13,
   "metadata": {},
   "outputs": [],
   "source": [
    "import tensorflow as tf\n",
    "from tensorflow import keras\n",
    "import matplotlib.pyplot as plt\n",
    "import pandas as pd"
   ]
  },
  {
   "cell_type": "code",
   "execution_count": null,
   "metadata": {},
   "outputs": [],
   "source": [
    "tf.__version__"
   ]
  },
  {
   "cell_type": "code",
   "execution_count": 3,
   "metadata": {},
   "outputs": [
    {
     "data": {
      "text/plain": [
       "'2.4.0'"
      ]
     },
     "execution_count": 3,
     "metadata": {},
     "output_type": "execute_result"
    }
   ],
   "source": [
    "keras.__version__"
   ]
  },
  {
   "cell_type": "markdown",
   "metadata": {},
   "source": [
    "## Building a handwritten digit classifier"
   ]
  },
  {
   "cell_type": "code",
   "execution_count": 28,
   "metadata": {},
   "outputs": [],
   "source": [
    "(X,y),(X_test,y_test) = tf.keras.datasets.mnist.load_data()"
   ]
  },
  {
   "cell_type": "markdown",
   "metadata": {},
   "source": [
    "Every image is represented as a 28x28 array rather than a 1D array of size 784."
   ]
  },
  {
   "cell_type": "code",
   "execution_count": 29,
   "metadata": {},
   "outputs": [
    {
     "data": {
      "text/plain": [
       "(60000, 28, 28)"
      ]
     },
     "execution_count": 29,
     "metadata": {},
     "output_type": "execute_result"
    }
   ],
   "source": [
    "X.shape"
   ]
  },
  {
   "cell_type": "code",
   "execution_count": 30,
   "metadata": {},
   "outputs": [
    {
     "data": {
      "text/plain": [
       "<matplotlib.image.AxesImage at 0x21262160c40>"
      ]
     },
     "execution_count": 30,
     "metadata": {},
     "output_type": "execute_result"
    },
    {
     "data": {
      "image/png": "[encoded data removed]",
      "text/plain": [
       "<Figure size 432x288 with 1 Axes>"
      ]
     },
     "metadata": {
      "needs_background": "light"
     },
     "output_type": "display_data"
    }
   ],
   "source": [
    "plt.imshow(X[0],cmap='gray')"
   ]
  },
  {
   "cell_type": "code",
   "execution_count": 31,
   "metadata": {},
   "outputs": [
    {
     "data": {
      "text/plain": [
       "5"
      ]
     },
     "execution_count": 31,
     "metadata": {},
     "output_type": "execute_result"
    }
   ],
   "source": [
    "y[0]"
   ]
  },
  {
   "cell_type": "markdown",
   "metadata": {},
   "source": [
    "Let us build a neural network with two hidden layers"
   ]
  },
  {
   "cell_type": "code",
   "execution_count": 32,
   "metadata": {},
   "outputs": [],
   "source": [
    "model = keras.models.Sequential([\n",
    "    keras.layers.Flatten(input_shape=[28,28]),\n",
    "    keras.layers.Dense(300, activation='relu'),\n",
    "    keras.layers.Dense(100, activation='relu'),\n",
    "    keras.layers.Dense(10, activation='softmax') # there are 10 classes (from 0 to 9)\n",
    "])"
   ]
  },
  {
   "cell_type": "code",
   "execution_count": 33,
   "metadata": {},
   "outputs": [
    {
     "name": "stdout",
     "output_type": "stream",
     "text": [
      "Model: \"sequential_1\"\n",
      "_________________________________________________________________\n",
      "Layer (type)                 Output Shape              Param #   \n",
      "=================================================================\n",
      "flatten_1 (Flatten)          (None, 784)               0         \n",
      "_________________________________________________________________\n",
      "dense_3 (Dense)              (None, 300)               235500    \n",
      "_________________________________________________________________\n",
      "dense_4 (Dense)              (None, 100)               30100     \n",
      "_________________________________________________________________\n",
      "dense_5 (Dense)              (None, 10)                1010      \n",
      "=================================================================\n",
      "Total params: 266,610\n",
      "Trainable params: 266,610\n",
      "Non-trainable params: 0\n",
      "_________________________________________________________________\n"
     ]
    }
   ],
   "source": [
    "model.summary()"
   ]
  },
  {
   "cell_type": "markdown",
   "metadata": {},
   "source": [
    "Note a dense layers often have a lot of parameters (the model runs the risk of overfitting)"
   ]
  },
  {
   "cell_type": "code",
   "execution_count": 37,
   "metadata": {},
   "outputs": [],
   "source": [
    "# create a validation set\n",
    "from sklearn.model_selection import train_test_split\n",
    "X_train, X_val,y_train, y_val = train_test_split(X,y)"
   ]
  },
  {
   "cell_type": "code",
   "execution_count": 40,
   "metadata": {},
   "outputs": [],
   "source": [
    "# compile the model\n",
    "model.compile(loss='sparse_categorical_crossentropy',\n",
    "              optimizer='adam',\n",
    "              metrics='accuracy')"
   ]
  },
  {
   "cell_type": "code",
   "execution_count": 41,
   "metadata": {},
   "outputs": [
    {
     "name": "stdout",
     "output_type": "stream",
     "text": [
      "Epoch 1/30\n",
      "1407/1407 [==============================] - 8s 5ms/step - loss: 5.3744 - accuracy: 0.8046 - val_loss: 0.4601 - val_accuracy: 0.8945\n",
      "Epoch 2/30\n",
      "1407/1407 [==============================] - 6s 4ms/step - loss: 0.3108 - accuracy: 0.9189 - val_loss: 0.2930 - val_accuracy: 0.9300\n",
      "Epoch 3/30\n",
      "1407/1407 [==============================] - 6s 4ms/step - loss: 0.2306 - accuracy: 0.9385 - val_loss: 0.2234 - val_accuracy: 0.9432\n",
      "Epoch 4/30\n",
      "1407/1407 [==============================] - 6s 4ms/step - loss: 0.1682 - accuracy: 0.9539 - val_loss: 0.2452 - val_accuracy: 0.9387\n",
      "Epoch 5/30\n",
      "1407/1407 [==============================] - 6s 4ms/step - loss: 0.1574 - accuracy: 0.9577 - val_loss: 0.1914 - val_accuracy: 0.9543\n",
      "Epoch 6/30\n",
      "1407/1407 [==============================] - 6s 4ms/step - loss: 0.1380 - accuracy: 0.9631 - val_loss: 0.2150 - val_accuracy: 0.9512\n",
      "Epoch 7/30\n",
      "1407/1407 [==============================] - 6s 4ms/step - loss: 0.1226 - accuracy: 0.9679 - val_loss: 0.1670 - val_accuracy: 0.9619\n",
      "Epoch 8/30\n",
      "1407/1407 [==============================] - 6s 4ms/step - loss: 0.0970 - accuracy: 0.9745 - val_loss: 0.2034 - val_accuracy: 0.9555\n",
      "Epoch 9/30\n",
      "1407/1407 [==============================] - 6s 4ms/step - loss: 0.0976 - accuracy: 0.9754 - val_loss: 0.1346 - val_accuracy: 0.9702\n",
      "Epoch 10/30\n",
      "1407/1407 [==============================] - 6s 4ms/step - loss: 0.0799 - accuracy: 0.9783 - val_loss: 0.1644 - val_accuracy: 0.9681\n",
      "Epoch 11/30\n",
      "1407/1407 [==============================] - 6s 4ms/step - loss: 0.0754 - accuracy: 0.9798 - val_loss: 0.1664 - val_accuracy: 0.9619\n",
      "Epoch 12/30\n",
      "1407/1407 [==============================] - 6s 4ms/step - loss: 0.0764 - accuracy: 0.9798 - val_loss: 0.1586 - val_accuracy: 0.9676\n",
      "Epoch 13/30\n",
      "1407/1407 [==============================] - 6s 4ms/step - loss: 0.0722 - accuracy: 0.9813 - val_loss: 0.2001 - val_accuracy: 0.9673\n",
      "Epoch 14/30\n",
      "1407/1407 [==============================] - 6s 4ms/step - loss: 0.0685 - accuracy: 0.9827 - val_loss: 0.1792 - val_accuracy: 0.9699\n",
      "Epoch 15/30\n",
      "1407/1407 [==============================] - 6s 4ms/step - loss: 0.0629 - accuracy: 0.9841 - val_loss: 0.1569 - val_accuracy: 0.9699\n",
      "Epoch 16/30\n",
      "1407/1407 [==============================] - 6s 4ms/step - loss: 0.0499 - accuracy: 0.9872 - val_loss: 0.2048 - val_accuracy: 0.9637\n",
      "Epoch 17/30\n",
      "1407/1407 [==============================] - 6s 4ms/step - loss: 0.0578 - accuracy: 0.9851 - val_loss: 0.2243 - val_accuracy: 0.9671\n",
      "Epoch 18/30\n",
      "1407/1407 [==============================] - 6s 4ms/step - loss: 0.0596 - accuracy: 0.9855 - val_loss: 0.1969 - val_accuracy: 0.9646\n",
      "Epoch 19/30\n",
      "1407/1407 [==============================] - 6s 4ms/step - loss: 0.0628 - accuracy: 0.9850 - val_loss: 0.2310 - val_accuracy: 0.9697\n",
      "Epoch 20/30\n",
      "1407/1407 [==============================] - 6s 4ms/step - loss: 0.0646 - accuracy: 0.9864 - val_loss: 0.1947 - val_accuracy: 0.9706\n",
      "Epoch 21/30\n",
      "1407/1407 [==============================] - 6s 4ms/step - loss: 0.0451 - accuracy: 0.9887 - val_loss: 0.2763 - val_accuracy: 0.9667\n",
      "Epoch 22/30\n",
      "1407/1407 [==============================] - 6s 4ms/step - loss: 0.0567 - accuracy: 0.9881 - val_loss: 0.2350 - val_accuracy: 0.9673\n",
      "Epoch 23/30\n",
      "1407/1407 [==============================] - 6s 4ms/step - loss: 0.0513 - accuracy: 0.9885 - val_loss: 0.2175 - val_accuracy: 0.9719\n",
      "Epoch 24/30\n",
      "1407/1407 [==============================] - 6s 4ms/step - loss: 0.0491 - accuracy: 0.9884 - val_loss: 0.2452 - val_accuracy: 0.9696\n",
      "Epoch 25/30\n",
      "1407/1407 [==============================] - 6s 4ms/step - loss: 0.0477 - accuracy: 0.9883 - val_loss: 0.2503 - val_accuracy: 0.9727\n",
      "Epoch 26/30\n",
      "1407/1407 [==============================] - 6s 4ms/step - loss: 0.0466 - accuracy: 0.9892 - val_loss: 0.2832 - val_accuracy: 0.9706\n",
      "Epoch 27/30\n",
      "1407/1407 [==============================] - 6s 4ms/step - loss: 0.0549 - accuracy: 0.9881 - val_loss: 0.3499 - val_accuracy: 0.9689\n",
      "Epoch 28/30\n",
      "1407/1407 [==============================] - 6s 4ms/step - loss: 0.0618 - accuracy: 0.9883 - val_loss: 0.3097 - val_accuracy: 0.9707\n",
      "Epoch 29/30\n",
      "1407/1407 [==============================] - 6s 4ms/step - loss: 0.0529 - accuracy: 0.9881 - val_loss: 0.3262 - val_accuracy: 0.9675\n",
      "Epoch 30/30\n",
      "1407/1407 [==============================] - 6s 4ms/step - loss: 0.0475 - accuracy: 0.9885 - val_loss: 0.3236 - val_accuracy: 0.9643\n"
     ]
    }
   ],
   "source": [
    "# training the model\n",
    "training_history = model.fit(X_train,y_train,\n",
    "                             epochs=15, #number of times the training algorithm will go through the data\n",
    "                             validation_data=(X_val,y_val))"
   ]
  },
  {
   "cell_type": "code",
   "execution_count": 45,
   "metadata": {},
   "outputs": [
    {
     "data": {
      "text/plain": [
       "(0.0, 1.0)"
      ]
     },
     "execution_count": 45,
     "metadata": {},
     "output_type": "execute_result"
    },
    {
     "data": {
      "image/png": "[encoded data removed]",
      "text/plain": [
       "<Figure size 576x360 with 1 Axes>"
      ]
     },
     "metadata": {
      "needs_background": "light"
     },
     "output_type": "display_data"
    }
   ],
   "source": [
    "pd.DataFrame(training_history.history).plot(figsize=(8,5))\n",
    "plt.ylim([0,1])"
   ]
  },
  {
   "cell_type": "code",
   "execution_count": 46,
   "metadata": {},
   "outputs": [
    {
     "name": "stdout",
     "output_type": "stream",
     "text": [
      "313/313 [==============================] - 1s 2ms/step - loss: 0.3685 - accuracy: 0.9657\n"
     ]
    },
    {
     "data": {
      "text/plain": [
       "[0.36847618222236633, 0.9656999707221985]"
      ]
     },
     "execution_count": 46,
     "metadata": {},
     "output_type": "execute_result"
    }
   ],
   "source": [
    "# model evaluation\n",
    "model.evaluate(X_test,y_test)"
   ]
  },
  {
   "cell_type": "markdown",
   "metadata": {},
   "source": [
    "## Regression model"
   ]
  },
  {
   "cell_type": "code",
   "execution_count": 2,
   "metadata": {},
   "outputs": [
    {
     "data": {
      "text/html": [
       "<div>\n",
       "<style scoped>\n",
       "    .dataframe tbody tr th:only-of-type {\n",
       "        vertical-align: middle;\n",
       "    }\n",
       "\n",
       "    .dataframe tbody tr th {\n",
       "        vertical-align: top;\n",
       "    }\n",
       "\n",
       "    .dataframe thead th {\n",
       "        text-align: right;\n",
       "    }\n",
       "</style>\n",
       "<table border=\"1\" class=\"dataframe\">\n",
       "  <thead>\n",
       "    <tr style=\"text-align: right;\">\n",
       "      <th></th>\n",
       "      <th>id</th>\n",
       "      <th>date</th>\n",
       "      <th>price</th>\n",
       "      <th>bedrooms</th>\n",
       "      <th>bathrooms</th>\n",
       "      <th>sqft_living</th>\n",
       "      <th>sqft_lot</th>\n",
       "      <th>floors</th>\n",
       "      <th>waterfront</th>\n",
       "      <th>view</th>\n",
       "      <th>...</th>\n",
       "      <th>grade</th>\n",
       "      <th>sqft_above</th>\n",
       "      <th>sqft_basement</th>\n",
       "      <th>yr_built</th>\n",
       "      <th>yr_renovated</th>\n",
       "      <th>zipcode</th>\n",
       "      <th>lat</th>\n",
       "      <th>long</th>\n",
       "      <th>sqft_living15</th>\n",
       "      <th>sqft_lot15</th>\n",
       "    </tr>\n",
       "  </thead>\n",
       "  <tbody>\n",
       "    <tr>\n",
       "      <th>0</th>\n",
       "      <td>7129300520</td>\n",
       "      <td>20141013T000000</td>\n",
       "      <td>221900.0</td>\n",
       "      <td>3</td>\n",
       "      <td>1.00</td>\n",
       "      <td>1180</td>\n",
       "      <td>5650</td>\n",
       "      <td>1.0</td>\n",
       "      <td>0</td>\n",
       "      <td>0</td>\n",
       "      <td>...</td>\n",
       "      <td>7</td>\n",
       "      <td>1180</td>\n",
       "      <td>0</td>\n",
       "      <td>1955</td>\n",
       "      <td>0</td>\n",
       "      <td>98178</td>\n",
       "      <td>47.5112</td>\n",
       "      <td>-122.257</td>\n",
       "      <td>1340</td>\n",
       "      <td>5650</td>\n",
       "    </tr>\n",
       "    <tr>\n",
       "      <th>1</th>\n",
       "      <td>6414100192</td>\n",
       "      <td>20141209T000000</td>\n",
       "      <td>538000.0</td>\n",
       "      <td>3</td>\n",
       "      <td>2.25</td>\n",
       "      <td>2570</td>\n",
       "      <td>7242</td>\n",
       "      <td>2.0</td>\n",
       "      <td>0</td>\n",
       "      <td>0</td>\n",
       "      <td>...</td>\n",
       "      <td>7</td>\n",
       "      <td>2170</td>\n",
       "      <td>400</td>\n",
       "      <td>1951</td>\n",
       "      <td>1991</td>\n",
       "      <td>98125</td>\n",
       "      <td>47.7210</td>\n",
       "      <td>-122.319</td>\n",
       "      <td>1690</td>\n",
       "      <td>7639</td>\n",
       "    </tr>\n",
       "    <tr>\n",
       "      <th>2</th>\n",
       "      <td>5631500400</td>\n",
       "      <td>20150225T000000</td>\n",
       "      <td>180000.0</td>\n",
       "      <td>2</td>\n",
       "      <td>1.00</td>\n",
       "      <td>770</td>\n",
       "      <td>10000</td>\n",
       "      <td>1.0</td>\n",
       "      <td>0</td>\n",
       "      <td>0</td>\n",
       "      <td>...</td>\n",
       "      <td>6</td>\n",
       "      <td>770</td>\n",
       "      <td>0</td>\n",
       "      <td>1933</td>\n",
       "      <td>0</td>\n",
       "      <td>98028</td>\n",
       "      <td>47.7379</td>\n",
       "      <td>-122.233</td>\n",
       "      <td>2720</td>\n",
       "      <td>8062</td>\n",
       "    </tr>\n",
       "    <tr>\n",
       "      <th>3</th>\n",
       "      <td>2487200875</td>\n",
       "      <td>20141209T000000</td>\n",
       "      <td>604000.0</td>\n",
       "      <td>4</td>\n",
       "      <td>3.00</td>\n",
       "      <td>1960</td>\n",
       "      <td>5000</td>\n",
       "      <td>1.0</td>\n",
       "      <td>0</td>\n",
       "      <td>0</td>\n",
       "      <td>...</td>\n",
       "      <td>7</td>\n",
       "      <td>1050</td>\n",
       "      <td>910</td>\n",
       "      <td>1965</td>\n",
       "      <td>0</td>\n",
       "      <td>98136</td>\n",
       "      <td>47.5208</td>\n",
       "      <td>-122.393</td>\n",
       "      <td>1360</td>\n",
       "      <td>5000</td>\n",
       "    </tr>\n",
       "    <tr>\n",
       "      <th>4</th>\n",
       "      <td>1954400510</td>\n",
       "      <td>20150218T000000</td>\n",
       "      <td>510000.0</td>\n",
       "      <td>3</td>\n",
       "      <td>2.00</td>\n",
       "      <td>1680</td>\n",
       "      <td>8080</td>\n",
       "      <td>1.0</td>\n",
       "      <td>0</td>\n",
       "      <td>0</td>\n",
       "      <td>...</td>\n",
       "      <td>8</td>\n",
       "      <td>1680</td>\n",
       "      <td>0</td>\n",
       "      <td>1987</td>\n",
       "      <td>0</td>\n",
       "      <td>98074</td>\n",
       "      <td>47.6168</td>\n",
       "      <td>-122.045</td>\n",
       "      <td>1800</td>\n",
       "      <td>7503</td>\n",
       "    </tr>\n",
       "  </tbody>\n",
       "</table>\n",
       "<p>5 rows × 21 columns</p>\n",
       "</div>"
      ],
      "text/plain": [
       "           id             date     price  bedrooms  bathrooms  sqft_living  \\\n",
       "0  7129300520  20141013T000000  221900.0         3       1.00         1180   \n",
       "1  6414100192  20141209T000000  538000.0         3       2.25         2570   \n",
       "2  5631500400  20150225T000000  180000.0         2       1.00          770   \n",
       "3  2487200875  20141209T000000  604000.0         4       3.00         1960   \n",
       "4  1954400510  20150218T000000  510000.0         3       2.00         1680   \n",
       "\n",
       "   sqft_lot  floors  waterfront  view  ...  grade  sqft_above  sqft_basement  \\\n",
       "0      5650     1.0           0     0  ...      7        1180              0   \n",
       "1      7242     2.0           0     0  ...      7        2170            400   \n",
       "2     10000     1.0           0     0  ...      6         770              0   \n",
       "3      5000     1.0           0     0  ...      7        1050            910   \n",
       "4      8080     1.0           0     0  ...      8        1680              0   \n",
       "\n",
       "   yr_built  yr_renovated  zipcode      lat     long  sqft_living15  \\\n",
       "0      1955             0    98178  47.5112 -122.257           1340   \n",
       "1      1951          1991    98125  47.7210 -122.319           1690   \n",
       "2      1933             0    98028  47.7379 -122.233           2720   \n",
       "3      1965             0    98136  47.5208 -122.393           1360   \n",
       "4      1987             0    98074  47.6168 -122.045           1800   \n",
       "\n",
       "   sqft_lot15  \n",
       "0        5650  \n",
       "1        7639  \n",
       "2        8062  \n",
       "3        5000  \n",
       "4        7503  \n",
       "\n",
       "[5 rows x 21 columns]"
      ]
     },
     "execution_count": 2,
     "metadata": {},
     "output_type": "execute_result"
    }
   ],
   "source": [
    "url = 'https://raw.githubusercontent.com/um-perez-alvaro/Data-Science-Theory/master/Data/kc_house_data.csv'\n",
    "data = pd.read_csv(url)\n",
    "data.head()"
   ]
  },
  {
   "cell_type": "code",
   "execution_count": 4,
   "metadata": {},
   "outputs": [
    {
     "data": {
      "text/plain": [
       "id               0\n",
       "date             0\n",
       "price            0\n",
       "bedrooms         0\n",
       "bathrooms        0\n",
       "sqft_living      0\n",
       "sqft_lot         0\n",
       "floors           0\n",
       "waterfront       0\n",
       "view             0\n",
       "condition        0\n",
       "grade            0\n",
       "sqft_above       0\n",
       "sqft_basement    0\n",
       "yr_built         0\n",
       "yr_renovated     0\n",
       "zipcode          0\n",
       "lat              0\n",
       "long             0\n",
       "sqft_living15    0\n",
       "sqft_lot15       0\n",
       "dtype: int64"
      ]
     },
     "execution_count": 4,
     "metadata": {},
     "output_type": "execute_result"
    }
   ],
   "source": [
    "data.isna().sum()"
   ]
  },
  {
   "cell_type": "code",
   "execution_count": 3,
   "metadata": {},
   "outputs": [
    {
     "data": {
      "text/plain": [
       "Index(['id', 'date', 'price', 'bedrooms', 'bathrooms', 'sqft_living',\n",
       "       'sqft_lot', 'floors', 'waterfront', 'view', 'condition', 'grade',\n",
       "       'sqft_above', 'sqft_basement', 'yr_built', 'yr_renovated', 'zipcode',\n",
       "       'lat', 'long', 'sqft_living15', 'sqft_lot15'],\n",
       "      dtype='object')"
      ]
     },
     "execution_count": 3,
     "metadata": {},
     "output_type": "execute_result"
    }
   ],
   "source": [
    "data.columns"
   ]
  },
  {
   "cell_type": "code",
   "execution_count": 5,
   "metadata": {},
   "outputs": [],
   "source": [
    "X = data.drop(['id','date','price'],axis=1)\n",
    "y = data.price"
   ]
  },
  {
   "cell_type": "code",
   "execution_count": 6,
   "metadata": {},
   "outputs": [],
   "source": [
    "from sklearn.model_selection import train_test_split\n",
    "X_train,X_val,y_train,y_val = train_test_split(X,y)"
   ]
  },
  {
   "cell_type": "markdown",
   "metadata": {},
   "source": [
    "## Linear regression"
   ]
  },
  {
   "cell_type": "code",
   "execution_count": 7,
   "metadata": {},
   "outputs": [],
   "source": [
    "from sklearn.linear_model import LinearRegression"
   ]
  },
  {
   "cell_type": "code",
   "execution_count": 8,
   "metadata": {},
   "outputs": [],
   "source": [
    "reg = LinearRegression()\n",
    "reg.fit(X_train,y_train)\n",
    "y_train_pred = reg.predict(X_train)\n",
    "y_val_pred = reg.predict(X_val)"
   ]
  },
  {
   "cell_type": "code",
   "execution_count": 11,
   "metadata": {},
   "outputs": [
    {
     "data": {
      "text/plain": [
       "[<matplotlib.lines.Line2D at 0x22781af57c0>]"
      ]
     },
     "execution_count": 11,
     "metadata": {},
     "output_type": "execute_result"
    },
    {
     "data": {
      "image/png": "[encoded data removed]",
      "text/plain": [
       "<Figure size 432x288 with 1 Axes>"
      ]
     },
     "metadata": {
      "needs_background": "light"
     },
     "output_type": "display_data"
    }
   ],
   "source": [
    "plt.scatter(y_train,y_train_pred)\n",
    "plt.plot([0,5e6],[0,5e6],'--',color='red')"
   ]
  },
  {
   "cell_type": "code",
   "execution_count": 12,
   "metadata": {},
   "outputs": [
    {
     "data": {
      "text/plain": [
       "[<matplotlib.lines.Line2D at 0x22781b5d100>]"
      ]
     },
     "execution_count": 12,
     "metadata": {},
     "output_type": "execute_result"
    },
    {
     "data": {
      "image/png": "[encoded data removed]",
      "text/plain": [
       "<Figure size 432x288 with 1 Axes>"
      ]
     },
     "metadata": {
      "needs_background": "light"
     },
     "output_type": "display_data"
    }
   ],
   "source": [
    "plt.scatter(y_val,y_val_pred)\n",
    "plt.plot([0,5e6],[0,5e6],'--',color='red')"
   ]
  },
  {
   "cell_type": "markdown",
   "metadata": {},
   "source": [
    "## Artificial Neural Network"
   ]
  },
  {
   "cell_type": "code",
   "execution_count": 15,
   "metadata": {},
   "outputs": [],
   "source": [
    "# Always standard scale the data before training an ANN\n",
    "from sklearn.preprocessing import StandardScaler\n",
    "scaler = StandardScaler()\n",
    "scaler.fit(X_train)\n",
    "X_train_scaled = scaler.transform(X_train)\n",
    "X_val_scaled = scaler.transform(X_val)"
   ]
  },
  {
   "cell_type": "code",
   "execution_count": 27,
   "metadata": {},
   "outputs": [],
   "source": [
    "# build the model\n",
    "model = keras.models.Sequential([\n",
    "    keras.layers.Dense(50, activation='relu'),\n",
    "    keras.layers.Dense(50, activation='relu'),\n",
    "    keras.layers.Dense(50, activation='relu'),\n",
    "    keras.layers.Dense(1) \n",
    "])"
   ]
  },
  {
   "cell_type": "code",
   "execution_count": 29,
   "metadata": {},
   "outputs": [],
   "source": [
    "# compile the model\n",
    "model.compile(optimizer ='adam', \n",
    "              loss = 'mean_squared_error', \n",
    "              metrics = 'mean_squared_error')"
   ]
  },
  {
   "cell_type": "code",
   "execution_count": 30,
   "metadata": {},
   "outputs": [
    {
     "name": "stdout",
     "output_type": "stream",
     "text": [
      "Epoch 1/150\n",
      "507/507 [==============================] - 3s 3ms/step - loss: 422009257338.9606 - mean_squared_error: 422009257338.9606 - val_loss: 245830975488.0000 - val_mean_squared_error: 245830975488.0000\n",
      "Epoch 2/150\n",
      "507/507 [==============================] - 1s 3ms/step - loss: 137969510206.4882 - mean_squared_error: 137969510206.4882 - val_loss: 69145698304.0000 - val_mean_squared_error: 69145698304.0000\n",
      "Epoch 3/150\n",
      "507/507 [==============================] - 1s 3ms/step - loss: 57599470051.7795 - mean_squared_error: 57599470051.7795 - val_loss: 57425895424.0000 - val_mean_squared_error: 57425895424.0000\n",
      "Epoch 4/150\n",
      "507/507 [==============================] - 1s 3ms/step - loss: 50297623011.7795 - mean_squared_error: 50297623011.7795 - val_loss: 49338449920.0000 - val_mean_squared_error: 49338449920.0000\n",
      "Epoch 5/150\n",
      "507/507 [==============================] - 1s 3ms/step - loss: 41383210145.2598 - mean_squared_error: 41383210145.2598 - val_loss: 44016533504.0000 - val_mean_squared_error: 44016533504.0000\n",
      "Epoch 6/150\n",
      "507/507 [==============================] - 1s 3ms/step - loss: 36351447019.8425 - mean_squared_error: 36351447019.8425 - val_loss: 41567805440.0000 - val_mean_squared_error: 41567805440.0000\n",
      "Epoch 7/150\n",
      "507/507 [==============================] - 1s 3ms/step - loss: 34065435728.6299 - mean_squared_error: 34065435728.6299 - val_loss: 39722885120.0000 - val_mean_squared_error: 39722885120.0000\n",
      "Epoch 8/150\n",
      "507/507 [==============================] - 1s 3ms/step - loss: 31983502243.2756 - mean_squared_error: 31983502243.2756 - val_loss: 38979457024.0000 - val_mean_squared_error: 38979457024.0000\n",
      "Epoch 9/150\n",
      "507/507 [==============================] - 1s 3ms/step - loss: 32882251792.1260 - mean_squared_error: 32882251792.1260 - val_loss: 37834604544.0000 - val_mean_squared_error: 37834604544.0000\n",
      "Epoch 10/150\n",
      "507/507 [==============================] - 1s 3ms/step - loss: 32357918554.7087 - mean_squared_error: 32357918554.7087 - val_loss: 37151944704.0000 - val_mean_squared_error: 37151944704.0000\n",
      "Epoch 11/150\n",
      "507/507 [==============================] - 1s 3ms/step - loss: 33610391088.3780 - mean_squared_error: 33610391088.3780 - val_loss: 36858216448.0000 - val_mean_squared_error: 36858216448.0000\n",
      "Epoch 12/150\n",
      "507/507 [==============================] - 1s 3ms/step - loss: 31888821945.4488 - mean_squared_error: 31888821945.4488 - val_loss: 36447260672.0000 - val_mean_squared_error: 36447260672.0000\n",
      "Epoch 13/150\n",
      "507/507 [==============================] - 1s 3ms/step - loss: 31979089081.4488 - mean_squared_error: 31979089081.4488 - val_loss: 36199006208.0000 - val_mean_squared_error: 36199006208.0000\n",
      "Epoch 14/150\n",
      "507/507 [==============================] - 1s 3ms/step - loss: 30162756628.1575 - mean_squared_error: 30162756628.1575 - val_loss: 35783921664.0000 - val_mean_squared_error: 35783921664.0000\n",
      "Epoch 15/150\n",
      "507/507 [==============================] - 1s 3ms/step - loss: 30955486824.8189 - mean_squared_error: 30955486824.8189 - val_loss: 35536052224.0000 - val_mean_squared_error: 35536052224.0000\n",
      "Epoch 16/150\n",
      "507/507 [==============================] - 1s 3ms/step - loss: 29130460748.5984 - mean_squared_error: 29130460748.5984 - val_loss: 35215863808.0000 - val_mean_squared_error: 35215863808.0000\n",
      "Epoch 17/150\n",
      "507/507 [==============================] - 1s 3ms/step - loss: 30886366655.4961 - mean_squared_error: 30886366655.4961 - val_loss: 35033333760.0000 - val_mean_squared_error: 35033333760.0000\n",
      "Epoch 18/150\n",
      "507/507 [==============================] - 1s 3ms/step - loss: 30553646575.8740 - mean_squared_error: 30553646575.8740 - val_loss: 34986655744.0000 - val_mean_squared_error: 34986655744.0000\n",
      "Epoch 19/150\n",
      "507/507 [==============================] - 1s 3ms/step - loss: 30894631319.1811 - mean_squared_error: 30894631319.1811 - val_loss: 35192594432.0000 - val_mean_squared_error: 35192594432.0000\n",
      "Epoch 20/150\n",
      "507/507 [==============================] - 1s 3ms/step - loss: 30026197241.9528 - mean_squared_error: 30026197241.9528 - val_loss: 34885660672.0000 - val_mean_squared_error: 34885660672.0000\n",
      "Epoch 21/150\n",
      "507/507 [==============================] - 2s 3ms/step - loss: 29465820510.7402 - mean_squared_error: 29465820510.7402 - val_loss: 34353551360.0000 - val_mean_squared_error: 34353551360.0000\n",
      "Epoch 22/150\n",
      "507/507 [==============================] - 2s 3ms/step - loss: 29277645303.9370 - mean_squared_error: 29277645303.9370 - val_loss: 34318221312.0000 - val_mean_squared_error: 34318221312.0000\n",
      "Epoch 23/150\n",
      "507/507 [==============================] - 1s 3ms/step - loss: 30384264268.5984 - mean_squared_error: 30384264268.5984 - val_loss: 34388643840.0000 - val_mean_squared_error: 34388643840.0000\n",
      "Epoch 24/150\n",
      "507/507 [==============================] - 1s 3ms/step - loss: 30359536696.4409 - mean_squared_error: 30359536696.4409 - val_loss: 34191730688.0000 - val_mean_squared_error: 34191730688.0000\n",
      "Epoch 25/150\n",
      "507/507 [==============================] - 1s 3ms/step - loss: 27746272817.3858 - mean_squared_error: 27746272817.3858 - val_loss: 33811802112.0000 - val_mean_squared_error: 33811802112.0000\n",
      "Epoch 26/150\n",
      "507/507 [==============================] - 2s 3ms/step - loss: 29331743026.3937 - mean_squared_error: 29331743026.3937 - val_loss: 33869604864.0000 - val_mean_squared_error: 33869604864.0000\n",
      "Epoch 27/150\n",
      "507/507 [==============================] - 1s 3ms/step - loss: 28679232066.5197 - mean_squared_error: 28679232066.5197 - val_loss: 33857091584.0000 - val_mean_squared_error: 33857091584.0000\n",
      "Epoch 28/150\n",
      "507/507 [==============================] - 2s 3ms/step - loss: 29208994888.5669 - mean_squared_error: 29208994888.5669 - val_loss: 33720381440.0000 - val_mean_squared_error: 33720381440.0000\n",
      "Epoch 29/150\n",
      "507/507 [==============================] - 1s 3ms/step - loss: 27611192767.4961 - mean_squared_error: 27611192767.4961 - val_loss: 33570168832.0000 - val_mean_squared_error: 33570168832.0000\n",
      "Epoch 30/150\n",
      "507/507 [==============================] - 1s 3ms/step - loss: 27605994479.8740 - mean_squared_error: 27605994479.8740 - val_loss: 33232584704.0000 - val_mean_squared_error: 33232584704.0000\n",
      "Epoch 31/150\n",
      "507/507 [==============================] - 1s 3ms/step - loss: 28985944088.1890 - mean_squared_error: 28985944088.1890 - val_loss: 33834498048.0000 - val_mean_squared_error: 33834498048.0000\n",
      "Epoch 32/150\n",
      "507/507 [==============================] - 1s 3ms/step - loss: 28872379569.3858 - mean_squared_error: 28872379569.3858 - val_loss: 33209722880.0000 - val_mean_squared_error: 33209722880.0000\n",
      "Epoch 33/150\n",
      "507/507 [==============================] - 1s 3ms/step - loss: 27890571340.5984 - mean_squared_error: 27890571340.5984 - val_loss: 33016616960.0000 - val_mean_squared_error: 33016616960.0000\n",
      "Epoch 34/150\n",
      "507/507 [==============================] - 1s 3ms/step - loss: 27012137093.0394 - mean_squared_error: 27012137093.0394 - val_loss: 33145542656.0000 - val_mean_squared_error: 33145542656.0000\n",
      "Epoch 35/150\n",
      "507/507 [==============================] - 1s 3ms/step - loss: 29667566204.9764 - mean_squared_error: 29667566204.9764 - val_loss: 32918214656.0000 - val_mean_squared_error: 32918214656.0000\n",
      "Epoch 36/150\n",
      "507/507 [==============================] - 1s 3ms/step - loss: 27260852296.5669 - mean_squared_error: 27260852296.5669 - val_loss: 32710406144.0000 - val_mean_squared_error: 32710406144.0000\n",
      "Epoch 37/150\n",
      "507/507 [==============================] - 1s 3ms/step - loss: 28775257684.6614 - mean_squared_error: 28775257684.6614 - val_loss: 33138786304.0000 - val_mean_squared_error: 33138786304.0000\n",
      "Epoch 38/150\n",
      "507/507 [==============================] - 1s 3ms/step - loss: 31010356784.3780 - mean_squared_error: 31010356784.3780 - val_loss: 33111910400.0000 - val_mean_squared_error: 33111910400.0000\n",
      "Epoch 39/150\n",
      "507/507 [==============================] - 1s 3ms/step - loss: 27986331085.6063 - mean_squared_error: 27986331085.6063 - val_loss: 32721174528.0000 - val_mean_squared_error: 32721174528.0000\n",
      "Epoch 40/150\n",
      "507/507 [==============================] - 1s 3ms/step - loss: 29767254233.7008 - mean_squared_error: 29767254233.7008 - val_loss: 32543875072.0000 - val_mean_squared_error: 32543875072.0000\n",
      "Epoch 41/150\n"
     ]
    },
    {
     "name": "stdout",
     "output_type": "stream",
     "text": [
      "507/507 [==============================] - 1s 2ms/step - loss: 26888456482.2677 - mean_squared_error: 26888456482.2677 - val_loss: 32552419328.0000 - val_mean_squared_error: 32552419328.0000\n",
      "Epoch 42/150\n",
      "507/507 [==============================] - 1s 3ms/step - loss: 25619905814.1732 - mean_squared_error: 25619905814.1732 - val_loss: 32235290624.0000 - val_mean_squared_error: 32235290624.0000\n",
      "Epoch 43/150\n",
      "507/507 [==============================] - 1s 3ms/step - loss: 27381264871.8110 - mean_squared_error: 27381264871.8110 - val_loss: 32261810176.0000 - val_mean_squared_error: 32261810176.0000\n",
      "Epoch 44/150\n",
      "507/507 [==============================] - 1s 3ms/step - loss: 29060819407.6220 - mean_squared_error: 29060819407.6220 - val_loss: 32311318528.0000 - val_mean_squared_error: 32311318528.0000\n",
      "Epoch 45/150\n",
      "507/507 [==============================] - 1s 3ms/step - loss: 25560701702.0472 - mean_squared_error: 25560701702.0472 - val_loss: 32246857728.0000 - val_mean_squared_error: 32246857728.0000\n",
      "Epoch 46/150\n",
      "507/507 [==============================] - 1s 3ms/step - loss: 29084543709.7323 - mean_squared_error: 29084543709.7323 - val_loss: 32118355968.0000 - val_mean_squared_error: 32118355968.0000\n",
      "Epoch 47/150\n",
      "507/507 [==============================] - 1s 3ms/step - loss: 27918189128.5669 - mean_squared_error: 27918189128.5669 - val_loss: 32233865216.0000 - val_mean_squared_error: 32233865216.0000\n",
      "Epoch 48/150\n",
      "507/507 [==============================] - 1s 3ms/step - loss: 26178930315.0866 - mean_squared_error: 26178930315.0866 - val_loss: 32050417664.0000 - val_mean_squared_error: 32050417664.0000\n",
      "Epoch 49/150\n",
      "507/507 [==============================] - 1s 3ms/step - loss: 29055136054.4252 - mean_squared_error: 29055136054.4252 - val_loss: 32102160384.0000 - val_mean_squared_error: 32102160384.0000\n",
      "Epoch 50/150\n",
      "507/507 [==============================] - 1s 3ms/step - loss: 27084089021.4803 - mean_squared_error: 27084089021.4803 - val_loss: 31860879360.0000 - val_mean_squared_error: 31860879360.0000\n",
      "Epoch 51/150\n",
      "507/507 [==============================] - 1s 3ms/step - loss: 27511451897.9528 - mean_squared_error: 27511451897.9528 - val_loss: 32048496640.0000 - val_mean_squared_error: 32048496640.0000\n",
      "Epoch 52/150\n",
      "507/507 [==============================] - 1s 3ms/step - loss: 28878196530.3937 - mean_squared_error: 28878196530.3937 - val_loss: 32220311552.0000 - val_mean_squared_error: 32220311552.0000\n",
      "Epoch 53/150\n",
      "507/507 [==============================] - 1s 3ms/step - loss: 28407212910.8661 - mean_squared_error: 28407212910.8661 - val_loss: 31890677760.0000 - val_mean_squared_error: 31890677760.0000\n",
      "Epoch 54/150\n",
      "507/507 [==============================] - 1s 3ms/step - loss: 26735687988.4095 - mean_squared_error: 26735687988.4095 - val_loss: 31798859776.0000 - val_mean_squared_error: 31798859776.0000\n",
      "Epoch 55/150\n",
      "507/507 [==============================] - 1s 3ms/step - loss: 26895284905.3228 - mean_squared_error: 26895284905.3228 - val_loss: 31816595456.0000 - val_mean_squared_error: 31816595456.0000\n",
      "Epoch 56/150\n",
      "507/507 [==============================] - 1s 3ms/step - loss: 26694683446.4252 - mean_squared_error: 26694683446.4252 - val_loss: 31559983104.0000 - val_mean_squared_error: 31559983104.0000\n",
      "Epoch 57/150\n",
      "507/507 [==============================] - 1s 3ms/step - loss: 26942652694.1732 - mean_squared_error: 26942652694.1732 - val_loss: 31774441472.0000 - val_mean_squared_error: 31774441472.0000\n",
      "Epoch 58/150\n",
      "507/507 [==============================] - 1s 3ms/step - loss: 26848269594.2047 - mean_squared_error: 26848269594.2047 - val_loss: 31447916544.0000 - val_mean_squared_error: 31447916544.0000\n",
      "Epoch 59/150\n",
      "507/507 [==============================] - 1s 3ms/step - loss: 26486946626.5197 - mean_squared_error: 26486946626.5197 - val_loss: 31440648192.0000 - val_mean_squared_error: 31440648192.0000\n",
      "Epoch 60/150\n",
      "507/507 [==============================] - 1s 3ms/step - loss: 26662060205.3543 - mean_squared_error: 26662060205.3543 - val_loss: 31351379968.0000 - val_mean_squared_error: 31351379968.0000\n",
      "Epoch 61/150\n",
      "507/507 [==============================] - 1s 3ms/step - loss: 26577514673.3858 - mean_squared_error: 26577514673.3858 - val_loss: 31500662784.0000 - val_mean_squared_error: 31500662784.0000\n",
      "Epoch 62/150\n",
      "507/507 [==============================] - 1s 3ms/step - loss: 26814025598.9921 - mean_squared_error: 26814025598.9921 - val_loss: 31486537728.0000 - val_mean_squared_error: 31486537728.0000\n",
      "Epoch 63/150\n",
      "507/507 [==============================] - 1s 3ms/step - loss: 26800582726.5512 - mean_squared_error: 26800582726.5512 - val_loss: 31330402304.0000 - val_mean_squared_error: 31330402304.0000\n",
      "Epoch 64/150\n",
      "507/507 [==============================] - 1s 3ms/step - loss: 26659774101.1654 - mean_squared_error: 26659774101.1654 - val_loss: 31438565376.0000 - val_mean_squared_error: 31438565376.0000\n",
      "Epoch 65/150\n",
      "507/507 [==============================] - 1s 3ms/step - loss: 26940094062.8661 - mean_squared_error: 26940094062.8661 - val_loss: 31267319808.0000 - val_mean_squared_error: 31267319808.0000\n",
      "Epoch 66/150\n",
      "507/507 [==============================] - 1s 3ms/step - loss: 25064997601.7638 - mean_squared_error: 25064997601.7638 - val_loss: 31146752000.0000 - val_mean_squared_error: 31146752000.0000\n",
      "Epoch 67/150\n",
      "507/507 [==============================] - 1s 3ms/step - loss: 28084252877.6063 - mean_squared_error: 28084252877.6063 - val_loss: 31298613248.0000 - val_mean_squared_error: 31298613248.0000\n",
      "Epoch 68/150\n",
      "507/507 [==============================] - 1s 3ms/step - loss: 25891945947.7165 - mean_squared_error: 25891945947.7165 - val_loss: 31044438016.0000 - val_mean_squared_error: 31044438016.0000\n",
      "Epoch 69/150\n",
      "507/507 [==============================] - 1s 3ms/step - loss: 26610748498.6457 - mean_squared_error: 26610748498.6457 - val_loss: 31227062272.0000 - val_mean_squared_error: 31227062272.0000\n",
      "Epoch 70/150\n",
      "507/507 [==============================] - 1s 3ms/step - loss: 27516190232.1890 - mean_squared_error: 27516190232.1890 - val_loss: 31145410560.0000 - val_mean_squared_error: 31145410560.0000\n",
      "Epoch 71/150\n",
      "507/507 [==============================] - 1s 3ms/step - loss: 28005926436.2835 - mean_squared_error: 28005926436.2835 - val_loss: 31139510272.0000 - val_mean_squared_error: 31139510272.0000\n",
      "Epoch 72/150\n",
      "507/507 [==============================] - 1s 3ms/step - loss: 27212899533.6063 - mean_squared_error: 27212899533.6063 - val_loss: 31122952192.0000 - val_mean_squared_error: 31122952192.0000\n",
      "Epoch 73/150\n",
      "507/507 [==============================] - 1s 3ms/step - loss: 26226852319.7480 - mean_squared_error: 26226852319.7480 - val_loss: 31131371520.0000 - val_mean_squared_error: 31131371520.0000\n",
      "Epoch 74/150\n",
      "507/507 [==============================] - 1s 3ms/step - loss: 25648046456.9449 - mean_squared_error: 25648046456.9449 - val_loss: 31290677248.0000 - val_mean_squared_error: 31290677248.0000\n",
      "Epoch 75/150\n",
      "507/507 [==============================] - 1s 3ms/step - loss: 26523085521.6378 - mean_squared_error: 26523085521.6378 - val_loss: 31050326016.0000 - val_mean_squared_error: 31050326016.0000\n",
      "Epoch 76/150\n",
      "507/507 [==============================] - 1s 3ms/step - loss: 26546799769.1968 - mean_squared_error: 26546799769.1968 - val_loss: 30747359232.0000 - val_mean_squared_error: 30747359232.0000\n",
      "Epoch 77/150\n",
      "507/507 [==============================] - 1s 3ms/step - loss: 24864126056.8189 - mean_squared_error: 24864126056.8189 - val_loss: 30682374144.0000 - val_mean_squared_error: 30682374144.0000\n",
      "Epoch 78/150\n",
      "507/507 [==============================] - 1s 3ms/step - loss: 27220620336.3780 - mean_squared_error: 27220620336.3780 - val_loss: 30952978432.0000 - val_mean_squared_error: 30952978432.0000\n",
      "Epoch 79/150\n",
      "507/507 [==============================] - 1s 3ms/step - loss: 27712923006.9921 - mean_squared_error: 27712923006.9921 - val_loss: 30745067520.0000 - val_mean_squared_error: 30745067520.0000\n",
      "Epoch 80/150\n",
      "507/507 [==============================] - 1s 3ms/step - loss: 25756071956.1575 - mean_squared_error: 25756071956.1575 - val_loss: 30620385280.0000 - val_mean_squared_error: 30620385280.0000\n",
      "Epoch 81/150\n"
     ]
    },
    {
     "name": "stdout",
     "output_type": "stream",
     "text": [
      "507/507 [==============================] - 1s 3ms/step - loss: 24834740941.6063 - mean_squared_error: 24834740941.6063 - val_loss: 30857306112.0000 - val_mean_squared_error: 30857306112.0000\n",
      "Epoch 82/150\n",
      "507/507 [==============================] - 1s 3ms/step - loss: 25540472001.5118 - mean_squared_error: 25540472001.5118 - val_loss: 30547671040.0000 - val_mean_squared_error: 30547671040.0000\n",
      "Epoch 83/150\n",
      "507/507 [==============================] - 1s 3ms/step - loss: 26653231418.4567 - mean_squared_error: 26653231418.4567 - val_loss: 30497871872.0000 - val_mean_squared_error: 30497871872.0000\n",
      "Epoch 84/150\n",
      "507/507 [==============================] - 2s 3ms/step - loss: 24682877494.4252 - mean_squared_error: 24682877494.4252 - val_loss: 30427353088.0000 - val_mean_squared_error: 30427353088.0000\n",
      "Epoch 85/150\n",
      "507/507 [==============================] - 1s 3ms/step - loss: 28219233604.5354 - mean_squared_error: 28219233604.5354 - val_loss: 30550599680.0000 - val_mean_squared_error: 30550599680.0000\n",
      "Epoch 86/150\n",
      "507/507 [==============================] - 1s 3ms/step - loss: 26108802013.7323 - mean_squared_error: 26108802013.7323 - val_loss: 30598727680.0000 - val_mean_squared_error: 30598727680.0000\n",
      "Epoch 87/150\n",
      "507/507 [==============================] - 2s 3ms/step - loss: 25801370499.0236 - mean_squared_error: 25801370499.0236 - val_loss: 30428055552.0000 - val_mean_squared_error: 30428055552.0000\n",
      "Epoch 88/150\n",
      "507/507 [==============================] - 1s 3ms/step - loss: 27219376906.0787 - mean_squared_error: 27219376906.0787 - val_loss: 30426978304.0000 - val_mean_squared_error: 30426978304.0000\n",
      "Epoch 89/150\n",
      "507/507 [==============================] - 1s 3ms/step - loss: 25667318384.8819 - mean_squared_error: 25667318384.8819 - val_loss: 30333014016.0000 - val_mean_squared_error: 30333014016.0000\n",
      "Epoch 90/150\n",
      "507/507 [==============================] - 1s 3ms/step - loss: 24268354664.8189 - mean_squared_error: 24268354664.8189 - val_loss: 30441529344.0000 - val_mean_squared_error: 30441529344.0000\n",
      "Epoch 91/150\n",
      "507/507 [==============================] - 1s 3ms/step - loss: 25522299383.9370 - mean_squared_error: 25522299383.9370 - val_loss: 30229159936.0000 - val_mean_squared_error: 30229159936.0000\n",
      "Epoch 92/150\n",
      "507/507 [==============================] - 1s 3ms/step - loss: 26048733099.3386 - mean_squared_error: 26048733099.3386 - val_loss: 30217986048.0000 - val_mean_squared_error: 30217986048.0000\n",
      "Epoch 93/150\n",
      "507/507 [==============================] - 2s 3ms/step - loss: 26879565763.5276 - mean_squared_error: 26879565763.5276 - val_loss: 30415589376.0000 - val_mean_squared_error: 30415589376.0000\n",
      "Epoch 94/150\n",
      "507/507 [==============================] - 1s 3ms/step - loss: 26604146522.7087 - mean_squared_error: 26604146522.7087 - val_loss: 30139269120.0000 - val_mean_squared_error: 30139269120.0000\n",
      "Epoch 95/150\n",
      "507/507 [==============================] - 1s 3ms/step - loss: 25489331179.8425 - mean_squared_error: 25489331179.8425 - val_loss: 30485872640.0000 - val_mean_squared_error: 30485872640.0000\n",
      "Epoch 96/150\n",
      "507/507 [==============================] - 2s 3ms/step - loss: 25451583141.2913 - mean_squared_error: 25451583141.2913 - val_loss: 30191579136.0000 - val_mean_squared_error: 30191579136.0000\n",
      "Epoch 97/150\n",
      "507/507 [==============================] - 1s 3ms/step - loss: 25865905702.2992 - mean_squared_error: 25865905702.2992 - val_loss: 30084757504.0000 - val_mean_squared_error: 30084757504.0000\n",
      "Epoch 98/150\n",
      "507/507 [==============================] - 2s 3ms/step - loss: 25767699246.3622 - mean_squared_error: 25767699246.3622 - val_loss: 30260490240.0000 - val_mean_squared_error: 30260490240.0000\n",
      "Epoch 99/150\n",
      "507/507 [==============================] - 2s 3ms/step - loss: 25076957728.2520 - mean_squared_error: 25076957728.2520 - val_loss: 30043172864.0000 - val_mean_squared_error: 30043172864.0000\n",
      "Epoch 100/150\n",
      "507/507 [==============================] - 2s 3ms/step - loss: 25660224153.1968 - mean_squared_error: 25660224153.1968 - val_loss: 29849073664.0000 - val_mean_squared_error: 29849073664.0000\n",
      "Epoch 101/150\n",
      "507/507 [==============================] - 1s 3ms/step - loss: 26846863785.3228 - mean_squared_error: 26846863785.3228 - val_loss: 29993209856.0000 - val_mean_squared_error: 29993209856.0000\n",
      "Epoch 102/150\n",
      "507/507 [==============================] - 1s 3ms/step - loss: 26311021999.3701 - mean_squared_error: 26311021999.3701 - val_loss: 30006566912.0000 - val_mean_squared_error: 30006566912.0000\n",
      "Epoch 103/150\n",
      "507/507 [==============================] - 1s 3ms/step - loss: 26980245848.6929 - mean_squared_error: 26980245848.6929 - val_loss: 30464169984.0000 - val_mean_squared_error: 30464169984.0000\n",
      "Epoch 104/150\n",
      "507/507 [==============================] - 2s 3ms/step - loss: 26867200808.3150 - mean_squared_error: 26867200808.3150 - val_loss: 29798447104.0000 - val_mean_squared_error: 29798447104.0000\n",
      "Epoch 105/150\n",
      "507/507 [==============================] - 2s 3ms/step - loss: 25859700475.9685 - mean_squared_error: 25859700475.9685 - val_loss: 30211180544.0000 - val_mean_squared_error: 30211180544.0000\n",
      "Epoch 106/150\n",
      "507/507 [==============================] - 1s 3ms/step - loss: 24410380830.2362 - mean_squared_error: 24410380830.2362 - val_loss: 29776922624.0000 - val_mean_squared_error: 29776922624.0000\n",
      "Epoch 107/150\n",
      "507/507 [==============================] - 2s 3ms/step - loss: 26568572984.4409 - mean_squared_error: 26568572984.4409 - val_loss: 29803911168.0000 - val_mean_squared_error: 29803911168.0000\n",
      "Epoch 108/150\n",
      "507/507 [==============================] - 1s 3ms/step - loss: 24667891277.6063 - mean_squared_error: 24667891277.6063 - val_loss: 29643030528.0000 - val_mean_squared_error: 29643030528.0000\n",
      "Epoch 109/150\n",
      "507/507 [==============================] - 1s 3ms/step - loss: 26112346408.3150 - mean_squared_error: 26112346408.3150 - val_loss: 29980776448.0000 - val_mean_squared_error: 29980776448.0000\n",
      "Epoch 110/150\n",
      "507/507 [==============================] - 1s 3ms/step - loss: 24807799029.9213 - mean_squared_error: 24807799029.9213 - val_loss: 29591273472.0000 - val_mean_squared_error: 29591273472.0000\n",
      "Epoch 111/150\n",
      "507/507 [==============================] - 1s 3ms/step - loss: 26628016704.5039 - mean_squared_error: 26628016704.5039 - val_loss: 29442893824.0000 - val_mean_squared_error: 29442893824.0000\n",
      "Epoch 112/150\n",
      "507/507 [==============================] - 1s 3ms/step - loss: 24876938554.4567 - mean_squared_error: 24876938554.4567 - val_loss: 30127015936.0000 - val_mean_squared_error: 30127015936.0000\n",
      "Epoch 113/150\n",
      "507/507 [==============================] - 1s 3ms/step - loss: 24557167132.2205 - mean_squared_error: 24557167132.2205 - val_loss: 29405319168.0000 - val_mean_squared_error: 29405319168.0000\n",
      "Epoch 114/150\n",
      "507/507 [==============================] - 1s 3ms/step - loss: 25902967142.8032 - mean_squared_error: 25902967142.8032 - val_loss: 29543149568.0000 - val_mean_squared_error: 29543149568.0000\n",
      "Epoch 115/150\n",
      "507/507 [==============================] - 2s 3ms/step - loss: 25811766542.1102 - mean_squared_error: 25811766542.1102 - val_loss: 29640347648.0000 - val_mean_squared_error: 29640347648.0000\n",
      "Epoch 116/150\n",
      "507/507 [==============================] - 2s 3ms/step - loss: 25948174259.4016 - mean_squared_error: 25948174259.4016 - val_loss: 29485481984.0000 - val_mean_squared_error: 29485481984.0000\n",
      "Epoch 117/150\n",
      "507/507 [==============================] - 2s 3ms/step - loss: 25758998792.0630 - mean_squared_error: 25758998792.0630 - val_loss: 29558499328.0000 - val_mean_squared_error: 29558499328.0000\n",
      "Epoch 118/150\n",
      "507/507 [==============================] - 2s 3ms/step - loss: 26468841383.3071 - mean_squared_error: 26468841383.3071 - val_loss: 29251805184.0000 - val_mean_squared_error: 29251805184.0000\n",
      "Epoch 119/150\n",
      "507/507 [==============================] - 1s 3ms/step - loss: 23190233481.0709 - mean_squared_error: 23190233481.0709 - val_loss: 29457856512.0000 - val_mean_squared_error: 29457856512.0000\n",
      "Epoch 120/150\n",
      "507/507 [==============================] - 1s 3ms/step - loss: 25466484913.3858 - mean_squared_error: 25466484913.3858 - val_loss: 29325490176.0000 - val_mean_squared_error: 29325490176.0000\n",
      "Epoch 121/150\n"
     ]
    },
    {
     "name": "stdout",
     "output_type": "stream",
     "text": [
      "507/507 [==============================] - 1s 3ms/step - loss: 24731358901.4173 - mean_squared_error: 24731358901.4173 - val_loss: 29069897728.0000 - val_mean_squared_error: 29069897728.0000\n",
      "Epoch 122/150\n",
      "507/507 [==============================] - 1s 3ms/step - loss: 25877193236.1575 - mean_squared_error: 25877193236.1575 - val_loss: 29117429760.0000 - val_mean_squared_error: 29117429760.0000\n",
      "Epoch 123/150\n",
      "507/507 [==============================] - 1s 3ms/step - loss: 22820000378.9606 - mean_squared_error: 22820000378.9606 - val_loss: 29145239552.0000 - val_mean_squared_error: 29145239552.0000\n",
      "Epoch 124/150\n",
      "507/507 [==============================] - 1s 3ms/step - loss: 24170109109.4173 - mean_squared_error: 24170109109.4173 - val_loss: 28957407232.0000 - val_mean_squared_error: 28957407232.0000\n",
      "Epoch 125/150\n",
      "507/507 [==============================] - 1s 3ms/step - loss: 23467510836.4095 - mean_squared_error: 23467510836.4095 - val_loss: 29140471808.0000 - val_mean_squared_error: 29140471808.0000\n",
      "Epoch 126/150\n",
      "507/507 [==============================] - 1s 3ms/step - loss: 23772421071.6220 - mean_squared_error: 23772421071.6220 - val_loss: 28958961664.0000 - val_mean_squared_error: 28958961664.0000\n",
      "Epoch 127/150\n",
      "507/507 [==============================] - 1s 3ms/step - loss: 24908223286.4252 - mean_squared_error: 24908223286.4252 - val_loss: 28963407872.0000 - val_mean_squared_error: 28963407872.0000\n",
      "Epoch 128/150\n",
      "507/507 [==============================] - 1s 3ms/step - loss: 24914763640.9449 - mean_squared_error: 24914763640.9449 - val_loss: 29029885952.0000 - val_mean_squared_error: 29029885952.0000\n",
      "Epoch 129/150\n",
      "507/507 [==============================] - 1s 3ms/step - loss: 24516992733.7323 - mean_squared_error: 24516992733.7323 - val_loss: 28905369600.0000 - val_mean_squared_error: 28905369600.0000\n",
      "Epoch 130/150\n",
      "507/507 [==============================] - 2s 3ms/step - loss: 23986237782.6772 - mean_squared_error: 23986237782.6772 - val_loss: 29137999872.0000 - val_mean_squared_error: 29137999872.0000\n",
      "Epoch 131/150\n",
      "507/507 [==============================] - 2s 3ms/step - loss: 23859451363.7795 - mean_squared_error: 23859451363.7795 - val_loss: 29046020096.0000 - val_mean_squared_error: 29046020096.0000\n",
      "Epoch 132/150\n",
      "507/507 [==============================] - 2s 3ms/step - loss: 25590826052.5354 - mean_squared_error: 25590826052.5354 - val_loss: 29025458176.0000 - val_mean_squared_error: 29025458176.0000\n",
      "Epoch 133/150\n",
      "507/507 [==============================] - 2s 3ms/step - loss: 25886958120.3150 - mean_squared_error: 25886958120.3150 - val_loss: 28845527040.0000 - val_mean_squared_error: 28845527040.0000\n",
      "Epoch 134/150\n",
      "507/507 [==============================] - 1s 3ms/step - loss: 23567413538.2677 - mean_squared_error: 23567413538.2677 - val_loss: 28921608192.0000 - val_mean_squared_error: 28921608192.0000\n",
      "Epoch 135/150\n",
      "507/507 [==============================] - 1s 3ms/step - loss: 24871800832.0000 - mean_squared_error: 24871800832.0000 - val_loss: 28677052416.0000 - val_mean_squared_error: 28677052416.0000\n",
      "Epoch 136/150\n",
      "507/507 [==============================] - 1s 2ms/step - loss: 24524327266.7717 - mean_squared_error: 24524327266.7717 - val_loss: 28449060864.0000 - val_mean_squared_error: 28449060864.0000\n",
      "Epoch 137/150\n",
      "507/507 [==============================] - 1s 2ms/step - loss: 24749583880.0630 - mean_squared_error: 24749583880.0630 - val_loss: 28684304384.0000 - val_mean_squared_error: 28684304384.0000\n",
      "Epoch 138/150\n",
      "507/507 [==============================] - 1s 3ms/step - loss: 24961361428.1575 - mean_squared_error: 24961361428.1575 - val_loss: 28588863488.0000 - val_mean_squared_error: 28588863488.0000\n",
      "Epoch 139/150\n",
      "507/507 [==============================] - 1s 2ms/step - loss: 24640983749.5433 - mean_squared_error: 24640983749.5433 - val_loss: 28729694208.0000 - val_mean_squared_error: 28729694208.0000\n",
      "Epoch 140/150\n",
      "507/507 [==============================] - 1s 3ms/step - loss: 24170680368.3780 - mean_squared_error: 24170680368.3780 - val_loss: 28567345152.0000 - val_mean_squared_error: 28567345152.0000\n",
      "Epoch 141/150\n",
      "507/507 [==============================] - 1s 3ms/step - loss: 25322317570.0157 - mean_squared_error: 25322317570.0157 - val_loss: 28743632896.0000 - val_mean_squared_error: 28743632896.0000\n",
      "Epoch 142/150\n",
      "507/507 [==============================] - 1s 3ms/step - loss: 24519301567.4961 - mean_squared_error: 24519301567.4961 - val_loss: 28377067520.0000 - val_mean_squared_error: 28377067520.0000\n",
      "Epoch 143/150\n",
      "507/507 [==============================] - 2s 3ms/step - loss: 23015966683.7165 - mean_squared_error: 23015966683.7165 - val_loss: 28376207360.0000 - val_mean_squared_error: 28376207360.0000\n",
      "Epoch 144/150\n",
      "507/507 [==============================] - 1s 3ms/step - loss: 24441486013.4803 - mean_squared_error: 24441486013.4803 - val_loss: 28717414400.0000 - val_mean_squared_error: 28717414400.0000\n",
      "Epoch 145/150\n",
      "507/507 [==============================] - 1s 3ms/step - loss: 25162624927.2441 - mean_squared_error: 25162624927.2441 - val_loss: 28185065472.0000 - val_mean_squared_error: 28185065472.0000\n",
      "Epoch 146/150\n",
      "507/507 [==============================] - 1s 3ms/step - loss: 22977140510.2362 - mean_squared_error: 22977140510.2362 - val_loss: 28092002304.0000 - val_mean_squared_error: 28092002304.0000\n",
      "Epoch 147/150\n",
      "507/507 [==============================] - 1s 3ms/step - loss: 23351423348.9134 - mean_squared_error: 23351423348.9134 - val_loss: 28068829184.0000 - val_mean_squared_error: 28068829184.0000\n",
      "Epoch 148/150\n",
      "507/507 [==============================] - 2s 3ms/step - loss: 22714533016.1890 - mean_squared_error: 22714533016.1890 - val_loss: 28215341056.0000 - val_mean_squared_error: 28215341056.0000\n",
      "Epoch 149/150\n",
      "507/507 [==============================] - 1s 3ms/step - loss: 24012117483.8425 - mean_squared_error: 24012117483.8425 - val_loss: 28035280896.0000 - val_mean_squared_error: 28035280896.0000\n",
      "Epoch 150/150\n",
      "507/507 [==============================] - 1s 3ms/step - loss: 23597823938.5197 - mean_squared_error: 23597823938.5197 - val_loss: 27986839552.0000 - val_mean_squared_error: 27986839552.0000\n"
     ]
    }
   ],
   "source": [
    "# train the model\n",
    "training_history = model.fit(X_train_scaled,y_train,\n",
    "                             validation_data=(X_val_scaled,y_val), epochs=150)"
   ]
  },
  {
   "cell_type": "code",
   "execution_count": 31,
   "metadata": {},
   "outputs": [
    {
     "data": {
      "text/html": [
       "<div>\n",
       "<style scoped>\n",
       "    .dataframe tbody tr th:only-of-type {\n",
       "        vertical-align: middle;\n",
       "    }\n",
       "\n",
       "    .dataframe tbody tr th {\n",
       "        vertical-align: top;\n",
       "    }\n",
       "\n",
       "    .dataframe thead th {\n",
       "        text-align: right;\n",
       "    }\n",
       "</style>\n",
       "<table border=\"1\" class=\"dataframe\">\n",
       "  <thead>\n",
       "    <tr style=\"text-align: right;\">\n",
       "      <th></th>\n",
       "      <th>loss</th>\n",
       "      <th>mean_squared_error</th>\n",
       "      <th>val_loss</th>\n",
       "      <th>val_mean_squared_error</th>\n",
       "    </tr>\n",
       "  </thead>\n",
       "  <tbody>\n",
       "    <tr>\n",
       "      <th>0</th>\n",
       "      <td>3.823672e+11</td>\n",
       "      <td>3.823672e+11</td>\n",
       "      <td>2.458310e+11</td>\n",
       "      <td>2.458310e+11</td>\n",
       "    </tr>\n",
       "    <tr>\n",
       "      <th>1</th>\n",
       "      <td>9.389085e+10</td>\n",
       "      <td>9.389085e+10</td>\n",
       "      <td>6.914570e+10</td>\n",
       "      <td>6.914570e+10</td>\n",
       "    </tr>\n",
       "    <tr>\n",
       "      <th>2</th>\n",
       "      <td>5.543217e+10</td>\n",
       "      <td>5.543217e+10</td>\n",
       "      <td>5.742590e+10</td>\n",
       "      <td>5.742590e+10</td>\n",
       "    </tr>\n",
       "    <tr>\n",
       "      <th>3</th>\n",
       "      <td>4.655665e+10</td>\n",
       "      <td>4.655665e+10</td>\n",
       "      <td>4.933845e+10</td>\n",
       "      <td>4.933845e+10</td>\n",
       "    </tr>\n",
       "    <tr>\n",
       "      <th>4</th>\n",
       "      <td>4.027060e+10</td>\n",
       "      <td>4.027060e+10</td>\n",
       "      <td>4.401653e+10</td>\n",
       "      <td>4.401653e+10</td>\n",
       "    </tr>\n",
       "  </tbody>\n",
       "</table>\n",
       "</div>"
      ],
      "text/plain": [
       "           loss  mean_squared_error      val_loss  val_mean_squared_error\n",
       "0  3.823672e+11        3.823672e+11  2.458310e+11            2.458310e+11\n",
       "1  9.389085e+10        9.389085e+10  6.914570e+10            6.914570e+10\n",
       "2  5.543217e+10        5.543217e+10  5.742590e+10            5.742590e+10\n",
       "3  4.655665e+10        4.655665e+10  4.933845e+10            4.933845e+10\n",
       "4  4.027060e+10        4.027060e+10  4.401653e+10            4.401653e+10"
      ]
     },
     "execution_count": 31,
     "metadata": {},
     "output_type": "execute_result"
    }
   ],
   "source": [
    "history_df = pd.DataFrame(training_history.history)\n",
    "history_df.head()"
   ]
  },
  {
   "cell_type": "code",
   "execution_count": 32,
   "metadata": {},
   "outputs": [
    {
     "data": {
      "text/plain": [
       "<AxesSubplot:>"
      ]
     },
     "execution_count": 32,
     "metadata": {},
     "output_type": "execute_result"
    },
    {
     "data": {
      "image/png": "[encoded data removed]",
      "text/plain": [
       "<Figure size 432x288 with 1 Axes>"
      ]
     },
     "metadata": {
      "needs_background": "light"
     },
     "output_type": "display_data"
    }
   ],
   "source": [
    "history_df[['loss','val_loss']].plot()"
   ]
  },
  {
   "cell_type": "code",
   "execution_count": 35,
   "metadata": {},
   "outputs": [
    {
     "data": {
      "text/plain": [
       "<AxesSubplot:>"
      ]
     },
     "execution_count": 35,
     "metadata": {},
     "output_type": "execute_result"
    },
    {
     "data": {
      "image/png": "[encoded data removed]",
      "text/plain": [
       "<Figure size 432x288 with 1 Axes>"
      ]
     },
     "metadata": {
      "needs_background": "light"
     },
     "output_type": "display_data"
    }
   ],
   "source": [
    "history_df[['mean_squared_error','val_mean_squared_error']].plot()"
   ]
  },
  {
   "cell_type": "code",
   "execution_count": 36,
   "metadata": {},
   "outputs": [],
   "source": [
    "y_train_pred = model.predict(X_train_scaled)\n",
    "y_val_pred = model.predict(X_val_scaled)"
   ]
  },
  {
   "cell_type": "code",
   "execution_count": 37,
   "metadata": {},
   "outputs": [
    {
     "data": {
      "text/plain": [
       "[<matplotlib.lines.Line2D at 0x227868b8250>]"
      ]
     },
     "execution_count": 37,
     "metadata": {},
     "output_type": "execute_result"
    },
    {
     "data": {
      "image/png": "[encoded data removed]",
      "text/plain": [
       "<Figure size 432x288 with 1 Axes>"
      ]
     },
     "metadata": {
      "needs_background": "light"
     },
     "output_type": "display_data"
    }
   ],
   "source": [
    "plt.scatter(y_train,y_train_pred)\n",
    "plt.plot([0,5e6],[0,5e6],'--',color='red')"
   ]
  },
  {
   "cell_type": "code",
   "execution_count": 38,
   "metadata": {},
   "outputs": [
    {
     "data": {
      "text/plain": [
       "[<matplotlib.lines.Line2D at 0x227869218b0>]"
      ]
     },
     "execution_count": 38,
     "metadata": {},
     "output_type": "execute_result"
    },
    {
     "data": {
      "image/png": "[encoded data removed]",
      "text/plain": [
       "<Figure size 432x288 with 1 Axes>"
      ]
     },
     "metadata": {
      "needs_background": "light"
     },
     "output_type": "display_data"
    }
   ],
   "source": [
    "plt.scatter(y_val,y_val_pred)\n",
    "plt.plot([0,5e6],[0,5e6],'--',color='red')"
   ]
  }
 ],
 "metadata": {
  "kernelspec": {
   "display_name": "Python 3",
   "language": "python",
   "name": "python3"
  },
  "language_info": {
   "codemirror_mode": {
    "name": "ipython",
    "version": 3
   },
   "file_extension": ".py",
   "mimetype": "text/x-python",
   "name": "python",
   "nbconvert_exporter": "python",
   "pygments_lexer": "ipython3",
   "version": "3.8.5"
  }
 },
 "nbformat": 4,
 "nbformat_minor": 4
}
