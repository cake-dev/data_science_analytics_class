{
 "cells": [
  {
   "cell_type": "code",
   "execution_count": 5,
   "id": "a8f1a675",
   "metadata": {},
   "outputs": [],
   "source": [
    "import pandas as pd\n",
    "import matplotlib.pyplot as plt"
   ]
  },
  {
   "cell_type": "markdown",
   "id": "3b818687",
   "metadata": {},
   "source": [
    "## Problem 9"
   ]
  },
  {
   "cell_type": "markdown",
   "id": "7425f7ca",
   "metadata": {},
   "source": [
    "### Part 1: Is Missoula getting hotter?"
   ]
  },
  {
   "cell_type": "markdown",
   "id": "f8b9aa53",
   "metadata": {},
   "source": [
    "The `mso_daily_temp.csv` dataset contains temperature records (max. and min. temperatures) for two time periods: 1950-1959 and 2010-2019."
   ]
  },
  {
   "cell_type": "code",
   "execution_count": 6,
   "id": "09dd3eda",
   "metadata": {},
   "outputs": [
    {
     "data": {
      "text/html": [
       "<div>\n",
       "<style scoped>\n",
       "    .dataframe tbody tr th:only-of-type {\n",
       "        vertical-align: middle;\n",
       "    }\n",
       "\n",
       "    .dataframe tbody tr th {\n",
       "        vertical-align: top;\n",
       "    }\n",
       "\n",
       "    .dataframe thead th {\n",
       "        text-align: right;\n",
       "    }\n",
       "</style>\n",
       "<table border=\"1\" class=\"dataframe\">\n",
       "  <thead>\n",
       "    <tr style=\"text-align: right;\">\n",
       "      <th></th>\n",
       "      <th>TMAX</th>\n",
       "      <th>TMIN</th>\n",
       "    </tr>\n",
       "    <tr>\n",
       "      <th>DATE</th>\n",
       "      <th></th>\n",
       "      <th></th>\n",
       "    </tr>\n",
       "  </thead>\n",
       "  <tbody>\n",
       "    <tr>\n",
       "      <th>1950-01-01</th>\n",
       "      <td>25.0</td>\n",
       "      <td>7.0</td>\n",
       "    </tr>\n",
       "    <tr>\n",
       "      <th>1950-01-02</th>\n",
       "      <td>18.0</td>\n",
       "      <td>-7.0</td>\n",
       "    </tr>\n",
       "    <tr>\n",
       "      <th>1950-01-03</th>\n",
       "      <td>22.0</td>\n",
       "      <td>-12.0</td>\n",
       "    </tr>\n",
       "    <tr>\n",
       "      <th>1950-01-04</th>\n",
       "      <td>11.0</td>\n",
       "      <td>-3.0</td>\n",
       "    </tr>\n",
       "    <tr>\n",
       "      <th>1950-01-05</th>\n",
       "      <td>9.0</td>\n",
       "      <td>-12.0</td>\n",
       "    </tr>\n",
       "    <tr>\n",
       "      <th>...</th>\n",
       "      <td>...</td>\n",
       "      <td>...</td>\n",
       "    </tr>\n",
       "    <tr>\n",
       "      <th>2019-12-27</th>\n",
       "      <td>27.0</td>\n",
       "      <td>14.0</td>\n",
       "    </tr>\n",
       "    <tr>\n",
       "      <th>2019-12-28</th>\n",
       "      <td>32.0</td>\n",
       "      <td>20.0</td>\n",
       "    </tr>\n",
       "    <tr>\n",
       "      <th>2019-12-29</th>\n",
       "      <td>28.0</td>\n",
       "      <td>19.0</td>\n",
       "    </tr>\n",
       "    <tr>\n",
       "      <th>2019-12-30</th>\n",
       "      <td>31.0</td>\n",
       "      <td>19.0</td>\n",
       "    </tr>\n",
       "    <tr>\n",
       "      <th>2019-12-31</th>\n",
       "      <td>34.0</td>\n",
       "      <td>27.0</td>\n",
       "    </tr>\n",
       "  </tbody>\n",
       "</table>\n",
       "<p>7272 rows × 2 columns</p>\n",
       "</div>"
      ],
      "text/plain": [
       "            TMAX  TMIN\n",
       "DATE                  \n",
       "1950-01-01  25.0   7.0\n",
       "1950-01-02  18.0  -7.0\n",
       "1950-01-03  22.0 -12.0\n",
       "1950-01-04  11.0  -3.0\n",
       "1950-01-05   9.0 -12.0\n",
       "...          ...   ...\n",
       "2019-12-27  27.0  14.0\n",
       "2019-12-28  32.0  20.0\n",
       "2019-12-29  28.0  19.0\n",
       "2019-12-30  31.0  19.0\n",
       "2019-12-31  34.0  27.0\n",
       "\n",
       "[7272 rows x 2 columns]"
      ]
     },
     "execution_count": 6,
     "metadata": {},
     "output_type": "execute_result"
    }
   ],
   "source": [
    "# load Missoula daily weather data\n",
    "path = 'https://raw.githubusercontent.com/um-perez-alvaro/Data-Science-Practice/master/Data/mso_daily_temp.csv'\n",
    "data = pd.read_csv(path,index_col='DATE',parse_dates=True)[['TMAX','TMIN']]\n",
    "data"
   ]
  },
  {
   "cell_type": "markdown",
   "id": "93e95637",
   "metadata": {},
   "source": [
    "Plot the probability distribution of the daily max and min temperatures in September for the two time periods 1950-1959 and 2010-2019.\n",
    "\n",
    "Hint: use `plot.density()`"
   ]
  },
  {
   "cell_type": "code",
   "execution_count": null,
   "id": "938daea2",
   "metadata": {},
   "outputs": [],
   "source": []
  },
  {
   "cell_type": "markdown",
   "id": "b6cb299b",
   "metadata": {},
   "source": [
    "## Part 2: Is the climate in Missoula getting hotter?"
   ]
  },
  {
   "cell_type": "markdown",
   "id": "ff386f69",
   "metadata": {},
   "source": [
    "The `mso_monthly_temp` dataset contains monthly average temperatures in Missoula county for the time period 1895-2021"
   ]
  },
  {
   "cell_type": "code",
   "execution_count": 7,
   "id": "70cf662f",
   "metadata": {},
   "outputs": [
    {
     "data": {
      "text/html": [
       "<div>\n",
       "<style scoped>\n",
       "    .dataframe tbody tr th:only-of-type {\n",
       "        vertical-align: middle;\n",
       "    }\n",
       "\n",
       "    .dataframe tbody tr th {\n",
       "        vertical-align: top;\n",
       "    }\n",
       "\n",
       "    .dataframe thead th {\n",
       "        text-align: right;\n",
       "    }\n",
       "</style>\n",
       "<table border=\"1\" class=\"dataframe\">\n",
       "  <thead>\n",
       "    <tr style=\"text-align: right;\">\n",
       "      <th></th>\n",
       "      <th>TAVG</th>\n",
       "    </tr>\n",
       "    <tr>\n",
       "      <th>Date</th>\n",
       "      <th></th>\n",
       "    </tr>\n",
       "  </thead>\n",
       "  <tbody>\n",
       "    <tr>\n",
       "      <th>1895-01-01</th>\n",
       "      <td>14.7</td>\n",
       "    </tr>\n",
       "    <tr>\n",
       "      <th>1895-02-01</th>\n",
       "      <td>20.8</td>\n",
       "    </tr>\n",
       "    <tr>\n",
       "      <th>1895-03-01</th>\n",
       "      <td>29.1</td>\n",
       "    </tr>\n",
       "    <tr>\n",
       "      <th>1895-04-01</th>\n",
       "      <td>39.7</td>\n",
       "    </tr>\n",
       "    <tr>\n",
       "      <th>1895-05-01</th>\n",
       "      <td>45.2</td>\n",
       "    </tr>\n",
       "    <tr>\n",
       "      <th>...</th>\n",
       "      <td>...</td>\n",
       "    </tr>\n",
       "    <tr>\n",
       "      <th>2021-08-01</th>\n",
       "      <td>61.1</td>\n",
       "    </tr>\n",
       "    <tr>\n",
       "      <th>2021-09-01</th>\n",
       "      <td>54.3</td>\n",
       "    </tr>\n",
       "    <tr>\n",
       "      <th>2021-10-01</th>\n",
       "      <td>43.1</td>\n",
       "    </tr>\n",
       "    <tr>\n",
       "      <th>2021-11-01</th>\n",
       "      <td>34.3</td>\n",
       "    </tr>\n",
       "    <tr>\n",
       "      <th>2021-12-01</th>\n",
       "      <td>24.8</td>\n",
       "    </tr>\n",
       "  </tbody>\n",
       "</table>\n",
       "<p>1524 rows × 1 columns</p>\n",
       "</div>"
      ],
      "text/plain": [
       "            TAVG\n",
       "Date            \n",
       "1895-01-01  14.7\n",
       "1895-02-01  20.8\n",
       "1895-03-01  29.1\n",
       "1895-04-01  39.7\n",
       "1895-05-01  45.2\n",
       "...          ...\n",
       "2021-08-01  61.1\n",
       "2021-09-01  54.3\n",
       "2021-10-01  43.1\n",
       "2021-11-01  34.3\n",
       "2021-12-01  24.8\n",
       "\n",
       "[1524 rows x 1 columns]"
      ]
     },
     "execution_count": 7,
     "metadata": {},
     "output_type": "execute_result"
    }
   ],
   "source": [
    "path = 'https://raw.githubusercontent.com/um-perez-alvaro/Data-Science-Practice/master/Data/mso_monthly_temp.csv'\n",
    "data = pd.read_csv(path, index_col='Date',parse_dates=True)\n",
    "data"
   ]
  },
  {
   "cell_type": "markdown",
   "id": "6f367445",
   "metadata": {},
   "source": [
    "Compute the average temperature of each year.\n",
    "Assign the results to a new `DataFrame` called ``yearly_data``"
   ]
  },
  {
   "cell_type": "code",
   "execution_count": null,
   "id": "63cb96c3",
   "metadata": {},
   "outputs": [],
   "source": []
  },
  {
   "cell_type": "markdown",
   "id": "39cda19a",
   "metadata": {},
   "source": [
    "Plot the yearly average temperatures."
   ]
  },
  {
   "cell_type": "code",
   "execution_count": null,
   "id": "3bce1913",
   "metadata": {},
   "outputs": [],
   "source": []
  },
  {
   "cell_type": "markdown",
   "id": "2a461298",
   "metadata": {},
   "source": [
    "A location's climate is defined as the *average of its weather over decades* (usually, three decades).\n",
    "Use Pandas built-in function [`rolling`](https://pandas.pydata.org/docs/reference/api/pandas.DataFrame.rolling.html) to compute the average temperature over a three-decades window.\n",
    "Then, plot the results."
   ]
  },
  {
   "cell_type": "code",
   "execution_count": null,
   "id": "333b9232",
   "metadata": {},
   "outputs": [],
   "source": []
  }
 ],
 "metadata": {
  "kernelspec": {
   "display_name": "Python 3 (ipykernel)",
   "language": "python",
   "name": "python3"
  },
  "language_info": {
   "codemirror_mode": {
    "name": "ipython",
    "version": 3
   },
   "file_extension": ".py",
   "mimetype": "text/x-python",
   "name": "python",
   "nbconvert_exporter": "python",
   "pygments_lexer": "ipython3",
   "version": "3.9.12"
  }
 },
 "nbformat": 4,
 "nbformat_minor": 5
}
